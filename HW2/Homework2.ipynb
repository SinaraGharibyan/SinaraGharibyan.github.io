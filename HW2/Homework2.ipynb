{
 "cells": [
  {
   "cell_type": "markdown",
   "metadata": {},
   "source": [
    "2.1 Mean calculator\n"
   ]
  },
  {
   "cell_type": "code",
   "execution_count": 10,
   "metadata": {
    "collapsed": false
   },
   "outputs": [
    {
     "name": "stdout",
     "output_type": "stream",
     "text": [
      "please enter numbers by comma 1,2,3,5,6,6,6\n",
      "Mean is 4.14285714286\n"
     ]
    }
   ],
   "source": [
    "set=raw_input(\"please enter numbers by comma \")\n",
    "my_list=set.split(\",\")\n",
    "n=len(my_list)\n",
    "def mean(my_list):\n",
    "    sum=0\n",
    "    for i in range(n):\n",
    "        sum=sum+float(my_list[i])\n",
    "        i=i+1 \n",
    "    return float(sum/n)    \n",
    "print \"Mean is \"+str(mean(my_list))       \n",
    " "
   ]
  },
  {
   "cell_type": "markdown",
   "metadata": {},
   "source": [
    "2.2 Moving mean"
   ]
  },
  {
   "cell_type": "code",
   "execution_count": 11,
   "metadata": {
    "collapsed": false
   },
   "outputs": [
    {
     "name": "stdout",
     "output_type": "stream",
     "text": [
      "please, enter numbers by comma 1,2,3,2\n",
      "please,enter a number less than the length of the list 2\n",
      "Moving mean is 2.5\n"
     ]
    }
   ],
   "source": [
    "set=raw_input(\"please, enter numbers by comma \")\n",
    "my_list=set.split(\",\")\n",
    "number=raw_input('please,enter a number less than the length of the list ')\n",
    "m=int(number)\n",
    "n=len(my_list)\n",
    "\n",
    "def moving_mean(my_list,number):\n",
    "    sum=0\n",
    "    for i in range(m):\n",
    "        k=n-int(i)-1\n",
    "        sum=sum+float(my_list[k])\n",
    "        i=i+1 \n",
    "    return float(sum/m)    \n",
    "print \"Moving mean is \"+str(moving_mean(my_list,number))      \n",
    "          \n",
    "  "
   ]
  },
  {
   "cell_type": "markdown",
   "metadata": {},
   "source": [
    "2.3 Lottery"
   ]
  },
  {
   "cell_type": "code",
   "execution_count": 47,
   "metadata": {
    "collapsed": false
   },
   "outputs": [
    {
     "name": "stdout",
     "output_type": "stream",
     "text": [
      "Draw\n",
      "100\n"
     ]
    }
   ],
   "source": [
    "import random\n",
    "x=random.randint(1,100)\n",
    "def func(x):\n",
    "    if x>50  and x<100 :\n",
    "        return \"Win\"\n",
    "    elif x>=1 and x<=50:\n",
    "        return \"Loss\"\n",
    "    elif x==100:\n",
    "        return \"Draw\"\n",
    "print func(x)\n",
    "print (x)\n",
    "    "
   ]
  },
  {
   "cell_type": "markdown",
   "metadata": {},
   "source": [
    "2.4 Stock data(variant_1 for each stock separately)"
   ]
  },
  {
   "cell_type": "code",
   "execution_count": 48,
   "metadata": {
    "collapsed": true
   },
   "outputs": [],
   "source": [
    "import pandas_datareader.data as web\n",
    "%matplotlib inline"
   ]
  },
  {
   "cell_type": "code",
   "execution_count": 49,
   "metadata": {
    "collapsed": true
   },
   "outputs": [],
   "source": [
    "import matplotlib.pyplot as plt"
   ]
  },
  {
   "cell_type": "code",
   "execution_count": 50,
   "metadata": {
    "collapsed": false
   },
   "outputs": [],
   "source": [
    "data1=web.DataReader(\"IBM\",\"google\")"
   ]
  },
  {
   "cell_type": "code",
   "execution_count": 51,
   "metadata": {
    "collapsed": true
   },
   "outputs": [],
   "source": [
    "data2=web.DataReader(\"AAPL\",\"google\")"
   ]
  },
  {
   "cell_type": "code",
   "execution_count": 52,
   "metadata": {
    "collapsed": true
   },
   "outputs": [],
   "source": [
    "data3=web.DataReader(\"MSFT\",\"google\")"
   ]
  },
  {
   "cell_type": "code",
   "execution_count": 53,
   "metadata": {
    "collapsed": true
   },
   "outputs": [],
   "source": [
    "data_list=[\"IBM\",\"AAPL\",\"MSFT\"]"
   ]
  },
  {
   "cell_type": "markdown",
   "metadata": {},
   "source": [
    "2.4 Stock data"
   ]
  },
  {
   "cell_type": "code",
   "execution_count": 54,
   "metadata": {
    "collapsed": false
   },
   "outputs": [
    {
     "name": "stdout",
     "output_type": "stream",
     "text": [
      "              Open    High     Low   Close   Volume\n",
      "Date                                               \n",
      "2010-01-04  131.18  132.97  130.85  132.45  6155846\n",
      "2010-01-05  131.68  131.85  130.10  130.85  6842471\n",
      "2010-01-06  130.68  131.49  129.81  130.00  5605290\n",
      "2010-01-07  129.87  130.25  128.91  129.55  5840569\n",
      "2010-01-08  129.07  130.92  129.05  130.85  4197105\n",
      "2010-01-11  131.06  131.06  128.67  129.48  5731177\n",
      "2010-01-12  129.03  131.33  129.00  130.51  8083354\n",
      "             Open   High    Low  Close     Volume\n",
      "Date                                             \n",
      "2010-01-04  30.49  30.64  30.34  30.57  123432050\n",
      "2010-01-05  30.66  30.80  30.46  30.63  150476004\n",
      "2010-01-06  30.63  30.75  30.11  30.14  138039594\n",
      "2010-01-07  30.25  30.29  29.86  30.08  119282324\n",
      "2010-01-08  30.04  30.29  29.87  30.28  111969081\n",
      "2010-01-11  30.40  30.43  29.78  30.02  115557365\n",
      "2010-01-12  29.88  29.97  29.49  29.67  148614774\n",
      "             Open   High    Low  Close    Volume\n",
      "Date                                            \n",
      "2010-01-04  30.62  31.10  30.59  30.95  38414185\n",
      "2010-01-05  30.85  31.10  30.64  30.96  49758862\n",
      "2010-01-06  30.88  31.08  30.52  30.77  58182332\n",
      "2010-01-07  30.63  30.70  30.19  30.45  50564285\n",
      "2010-01-08  30.28  30.88  30.24  30.66  51201289\n",
      "2010-01-11  30.71  30.76  30.12  30.27  68754648\n",
      "2010-01-12  30.15  30.40  29.91  30.07  65913228\n"
     ]
    }
   ],
   "source": [
    "for i in range(0,len(data_list)):\n",
    "    if data_list[int(i)]==\"IBM\":\n",
    "        print data1.head(7)\n",
    "    elif data_list[int(i)]==\"AAPL\":\n",
    "        print  data2.head(7)\n",
    "    elif data_list[int(i)] ==\"MSFT\":\n",
    "        print data3.head(7)"
   ]
  },
  {
   "cell_type": "markdown",
   "metadata": {},
   "source": [
    "2.5 stock data graph"
   ]
  },
  {
   "cell_type": "code",
   "execution_count": 55,
   "metadata": {
    "collapsed": false
   },
   "outputs": [
    {
     "data": {
      "image/png": "[encoded data removed]",
      "text/plain": [
       "<matplotlib.figure.Figure at 0xafcff60>"
      ]
     },
     "metadata": {},
     "output_type": "display_data"
    }
   ],
   "source": [
    "for i in range(0,len(data_list)):\n",
    "    if data_list[int(i)]==\"IBM\":\n",
    "        plt.plot(data1[\"High\"],\"red\")\n",
    "    elif data_list[int(i)]==\"AAPL\":\n",
    "        plt.plot(data2[\"High\"],\"blue\")\n",
    "    elif data_list[int(i)] ==\"MSFT\":\n",
    "        plt.plot(data3[\"High\"],\"green\")"
   ]
  },
  {
   "cell_type": "code",
   "execution_count": null,
   "metadata": {
    "collapsed": true
   },
   "outputs": [],
   "source": []
  }
 ],
 "metadata": {
  "kernelspec": {
   "display_name": "Python 2",
   "language": "python",
   "name": "python2"
  },
  "language_info": {
   "codemirror_mode": {
    "name": "ipython",
    "version": 2
   },
   "file_extension": ".py",
   "mimetype": "text/x-python",
   "name": "python",
   "nbconvert_exporter": "python",
   "pygments_lexer": "ipython2",
   "version": "2.7.13"
  }
 },
 "nbformat": 4,
 "nbformat_minor": 2
}
