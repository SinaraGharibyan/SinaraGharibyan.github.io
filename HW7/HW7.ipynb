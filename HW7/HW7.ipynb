{
 "cells": [
  {
   "cell_type": "markdown",
   "metadata": {
    "collapsed": false
   },
   "source": [
    "7.3"
   ]
  },
  {
   "cell_type": "code",
   "execution_count": null,
   "metadata": {
    "collapsed": true
   },
   "outputs": [],
   "source": [
    "from selenium import webdriver\n",
    "browser = webdriver.Chrome()\n",
    "url = 'https://www.cba.am/am/SitePages/Default.aspx'\n",
    "browser.get(url)"
   ]
  },
  {
   "cell_type": "code",
   "execution_count": 5,
   "metadata": {
    "collapsed": true
   },
   "outputs": [],
   "source": [
    "element=browser.find_element_by_css_selector('#ctl00_PlaceHolderMain_g_863d4f31_7343_4804_bedb_aa7f55c1305a_updatePanelctl00_PlaceHolderMain_g_863d4f31_7343_4804_bedb_aa7f55c1305a > li.gray_2 > em:nth-child(3)')"
   ]
  },
  {
   "cell_type": "code",
   "execution_count": 7,
   "metadata": {
    "collapsed": false
   },
   "outputs": [],
   "source": [
    "ex_rate=element.text"
   ]
  },
  {
   "cell_type": "code",
   "execution_count": 9,
   "metadata": {
    "collapsed": false
   },
   "outputs": [
    {
     "name": "stdout",
     "output_type": "stream",
     "text": [
      "Official AMD/USD current exchange rate is  478.82\n"
     ]
    }
   ],
   "source": [
    "print 'Official AMD/USD current exchange rate is ' + ' '+ str(ex_rate)"
   ]
  },
  {
   "cell_type": "code",
   "execution_count": 29,
   "metadata": {
    "collapsed": true
   },
   "outputs": [],
   "source": [
    "browser.close()"
   ]
  },
  {
   "cell_type": "markdown",
   "metadata": {},
   "source": [
    "7.3 other version"
   ]
  },
  {
   "cell_type": "code",
   "execution_count": 32,
   "metadata": {
    "collapsed": true
   },
   "outputs": [],
   "source": [
    "from selenium import webdriver\n",
    "browser = webdriver.Chrome()\n",
    "url = 'https://www.cba.am/am/SitePages/Default.aspx'\n",
    "browser.get(url)"
   ]
  },
  {
   "cell_type": "code",
   "execution_count": 33,
   "metadata": {
    "collapsed": true
   },
   "outputs": [],
   "source": [
    "element = browser.find_element_by_class_name(\"sett\")\n",
    "element.click()"
   ]
  },
  {
   "cell_type": "code",
   "execution_count": 35,
   "metadata": {
    "collapsed": true
   },
   "outputs": [],
   "source": [
    "bot=browser.find_element_by_css_selector('#cur1')\n",
    "bot.click()"
   ]
  },
  {
   "cell_type": "code",
   "execution_count": 36,
   "metadata": {
    "collapsed": true
   },
   "outputs": [],
   "source": [
    "submit = browser.find_element_by_xpath(\"//*[@onclick='javascript:SaveSettings()']\")\n",
    "submit.click()"
   ]
  },
  {
   "cell_type": "code",
   "execution_count": 38,
   "metadata": {
    "collapsed": false
   },
   "outputs": [
    {
     "name": "stdout",
     "output_type": "stream",
     "text": [
      "Official AMD/USD current exchange rate is  478.82\n"
     ]
    }
   ],
   "source": [
    "ex_rate = browser.find_elements_by_xpath(\"//em[@class='w_50']\")[-1].text\n",
    "print 'Official AMD/USD current exchange rate is ' + ' '+ str(ex_rate)\n"
   ]
  },
  {
   "cell_type": "code",
   "execution_count": 39,
   "metadata": {
    "collapsed": true
   },
   "outputs": [],
   "source": [
    "browser.close()"
   ]
  },
  {
   "cell_type": "markdown",
   "metadata": {
    "collapsed": true
   },
   "source": [
    "7.2"
   ]
  },
  {
   "cell_type": "code",
   "execution_count": 10,
   "metadata": {
    "collapsed": true
   },
   "outputs": [],
   "source": [
    "from selenium import webdriver\n",
    "browser = webdriver.Chrome()\n",
    "url = 'https://staff.am/en'\n",
    "browser.get(url)"
   ]
  },
  {
   "cell_type": "code",
   "execution_count": 11,
   "metadata": {
    "collapsed": true
   },
   "outputs": [],
   "source": [
    "training=browser.find_element_by_css_selector('#jobsearchform-type > label:nth-child(2) > input[type=\"radio\"]')\n",
    "training.click()\n",
    "search=browser.find_element_by_css_selector('#w0 > div > div.col-lg-2.col-sm-2.search-btn > button')\n",
    "search.click()\n"
   ]
  },
  {
   "cell_type": "code",
   "execution_count": 12,
   "metadata": {
    "collapsed": true
   },
   "outputs": [],
   "source": [
    "list=browser.find_elements_by_class_name(\"job-list-item\")"
   ]
  },
  {
   "cell_type": "code",
   "execution_count": 14,
   "metadata": {
    "collapsed": true
   },
   "outputs": [],
   "source": [
    "import re"
   ]
  },
  {
   "cell_type": "code",
   "execution_count": 15,
   "metadata": {
    "collapsed": false
   },
   "outputs": [],
   "source": [
    "list_price=[]\n",
    "for i in list:\n",
    "    m=re.findall('Price:\\s+(.+\\s*.+)',i.text)\n",
    "    list_price.append(m)\n",
    "   \n",
    "    "
   ]
  },
  {
   "cell_type": "code",
   "execution_count": 16,
   "metadata": {
    "collapsed": true
   },
   "outputs": [],
   "source": [
    "for i in range(len(list_price)):\n",
    "    list_price[i]=list_price[i][0]"
   ]
  },
  {
   "cell_type": "code",
   "execution_count": 20,
   "metadata": {
    "collapsed": true
   },
   "outputs": [],
   "source": [
    "page2=browser.find_element_by_css_selector('#job-list-pagination > ul > li:nth-child(3) > a')\n",
    "page2.click()"
   ]
  },
  {
   "cell_type": "code",
   "execution_count": 21,
   "metadata": {
    "collapsed": false
   },
   "outputs": [
    {
     "data": {
      "text/plain": [
       "[[u'FREE\\ne-learning']]"
      ]
     },
     "execution_count": 21,
     "metadata": {},
     "output_type": "execute_result"
    }
   ],
   "source": [
    "\n",
    "price=browser.find_elements_by_class_name(\"job-list-item\")\n",
    "list_price2=[]\n",
    "for i in price:\n",
    "    m=re.findall('Price:\\s+(.+\\s*.+)',i.text)\n",
    "    list_price2.append(m)\n",
    "list_price2  \n"
   ]
  },
  {
   "cell_type": "code",
   "execution_count": 22,
   "metadata": {
    "collapsed": true
   },
   "outputs": [],
   "source": [
    "for i in range(len(list_price2)):\n",
    "    list_price2[i]=list_price2[i][0]\n"
   ]
  },
  {
   "cell_type": "code",
   "execution_count": 23,
   "metadata": {
    "collapsed": false
   },
   "outputs": [
    {
     "data": {
      "text/plain": [
       "[u'84000 AMD\\nTraining',\n",
       " u'48000 AMD\\nTraining',\n",
       " u'50000 AMD\\nTraining',\n",
       " u'69000 AMD\\nTraining',\n",
       " u'FREE\\ne-learning',\n",
       " u'FREE\\ne-learning',\n",
       " u'FREE\\ne-learning',\n",
       " u'FREE\\ne-learning',\n",
       " u'FREE\\ne-learning',\n",
       " u'FREE\\ne-learning',\n",
       " u'FREE\\ne-learning',\n",
       " u'73000 AMD\\nTraining',\n",
       " u'52000 AMD\\nTraining',\n",
       " u'96000 AMD\\ne-learning',\n",
       " u'45000 AMD\\nTraining',\n",
       " u'96000 AMD\\ne-learning',\n",
       " u'125000 AMD\\nTraining',\n",
       " u'4800 AMD\\ne-learning',\n",
       " u'FREE\\ne-learning',\n",
       " u'FREE\\ne-learning',\n",
       " u'FREE\\ne-learning']"
      ]
     },
     "execution_count": 23,
     "metadata": {},
     "output_type": "execute_result"
    }
   ],
   "source": [
    "for i in list_price2:\n",
    "    list_price.append(i)\n",
    "list_price"
   ]
  },
  {
   "cell_type": "code",
   "execution_count": 24,
   "metadata": {
    "collapsed": true
   },
   "outputs": [],
   "source": [
    "list1=[]\n",
    "for i in  list_price:\n",
    "    k=re.sub(\"FREE\\ne-learning\",'0',i) \n",
    "    list1.append(k)\n",
    "   \n",
    "    "
   ]
  },
  {
   "cell_type": "code",
   "execution_count": 25,
   "metadata": {
    "collapsed": false
   },
   "outputs": [],
   "source": [
    "list2=[]\n",
    "for i in  list1:\n",
    "    k=re.sub(\"AMD\\n.+\",'',i) \n",
    "    list2.append(k)\n"
   ]
  },
  {
   "cell_type": "code",
   "execution_count": 27,
   "metadata": {
    "collapsed": true
   },
   "outputs": [],
   "source": [
    "n=len(list2)\n",
    "sum=0\n",
    "for i in list2:\n",
    "    \n",
    "    p=float(i)\n",
    "    sum=sum+p"
   ]
  },
  {
   "cell_type": "code",
   "execution_count": 28,
   "metadata": {
    "collapsed": false
   },
   "outputs": [
    {
     "name": "stdout",
     "output_type": "stream",
     "text": [
      "Average training price is 35371.4285714 AMD\n"
     ]
    }
   ],
   "source": [
    "average=sum/n \n",
    "print \"Average training price is \" +str(average)+\" AMD\""
   ]
  },
  {
   "cell_type": "code",
   "execution_count": null,
   "metadata": {
    "collapsed": false
   },
   "outputs": [],
   "source": [
    "browser.close()"
   ]
  },
  {
   "cell_type": "markdown",
   "metadata": {},
   "source": [
    "7.1"
   ]
  },
  {
   "cell_type": "code",
   "execution_count": 1,
   "metadata": {
    "collapsed": true
   },
   "outputs": [],
   "source": [
    "from selenium import webdriver\n",
    "browser = webdriver.Chrome()\n",
    "url = 'http://rate.am/en/armenian-dram-exchange-rates/banks/non-cash'\n",
    "browser.get(url)"
   ]
  },
  {
   "cell_type": "code",
   "execution_count": 2,
   "metadata": {
    "collapsed": true
   },
   "outputs": [],
   "source": [
    "import pandas as pd"
   ]
  },
  {
   "cell_type": "code",
   "execution_count": 8,
   "metadata": {
    "collapsed": true
   },
   "outputs": [],
   "source": [
    "data_table = pd.read_html(browser.find_element_by_class_name(\"rb\").get_attribute('outerHTML'))"
   ]
  },
  {
   "cell_type": "code",
   "execution_count": 9,
   "metadata": {
    "collapsed": false
   },
   "outputs": [],
   "source": [
    "data_table = data_table[0]\n",
    "data_table = data_table[2:19] \n",
    "del data_table[0]\n",
    "del data_table[2]\n",
    "del data_table[3]    \n",
    "data_table.columns = [\"Bank\", \"Date\", \"USD_buy\", \"USD_sell\", \"EUR_buy\", \"EUR_sell\", \"RUB_buy\", \"RUB_sell\", \"GBF_buy\", \"GBF_sell\"]\n",
    "            "
   ]
  },
  {
   "cell_type": "code",
   "execution_count": 11,
   "metadata": {
    "collapsed": false
   },
   "outputs": [],
   "source": [
    "with open('ex_rates_data.csv', 'w') as f:\n",
    "            data_table.to_csv(f, header=True, index=False)"
   ]
  },
  {
   "cell_type": "code",
   "execution_count": 12,
   "metadata": {
    "collapsed": false
   },
   "outputs": [
    {
     "data": {
      "text/html": [
       "<div>\n",
       "<table border=\"1\" class=\"dataframe\">\n",
       "  <thead>\n",
       "    <tr style=\"text-align: right;\">\n",
       "      <th></th>\n",
       "      <th>Bank</th>\n",
       "      <th>Date</th>\n",
       "      <th>USD_buy</th>\n",
       "      <th>USD_sell</th>\n",
       "      <th>EUR_buy</th>\n",
       "      <th>EUR_sell</th>\n",
       "      <th>RUB_buy</th>\n",
       "      <th>RUB_sell</th>\n",
       "      <th>GBF_buy</th>\n",
       "      <th>GBF_sell</th>\n",
       "    </tr>\n",
       "  </thead>\n",
       "  <tbody>\n",
       "    <tr>\n",
       "      <th>2</th>\n",
       "      <td>Ameriabank</td>\n",
       "      <td>21 Jul, 20:01</td>\n",
       "      <td>476.50</td>\n",
       "      <td>480.50</td>\n",
       "      <td>554</td>\n",
       "      <td>562.0</td>\n",
       "      <td>7.96</td>\n",
       "      <td>8.21</td>\n",
       "      <td>616.0</td>\n",
       "      <td>626.0</td>\n",
       "    </tr>\n",
       "    <tr>\n",
       "      <th>3</th>\n",
       "      <td>Artsakhbank</td>\n",
       "      <td>21 Jul, 20:01</td>\n",
       "      <td>477</td>\n",
       "      <td>480.50</td>\n",
       "      <td>553</td>\n",
       "      <td>562.5</td>\n",
       "      <td>7.98</td>\n",
       "      <td>8.20</td>\n",
       "      <td>615.0</td>\n",
       "      <td>630.0</td>\n",
       "    </tr>\n",
       "    <tr>\n",
       "      <th>4</th>\n",
       "      <td>HSBC Bank Armenia</td>\n",
       "      <td>21 Jul, 20:01</td>\n",
       "      <td>476.50</td>\n",
       "      <td>480.50</td>\n",
       "      <td>552.50</td>\n",
       "      <td>562.5</td>\n",
       "      <td>7.93</td>\n",
       "      <td>8.26</td>\n",
       "      <td>616.0</td>\n",
       "      <td>628.0</td>\n",
       "    </tr>\n",
       "    <tr>\n",
       "      <th>5</th>\n",
       "      <td>Unibank</td>\n",
       "      <td>21 Jul, 20:01</td>\n",
       "      <td>476.50</td>\n",
       "      <td>480</td>\n",
       "      <td>551</td>\n",
       "      <td>561.0</td>\n",
       "      <td>8.00</td>\n",
       "      <td>8.25</td>\n",
       "      <td>612.0</td>\n",
       "      <td>632.0</td>\n",
       "    </tr>\n",
       "    <tr>\n",
       "      <th>6</th>\n",
       "      <td>VTB Bank (Armenia)</td>\n",
       "      <td>21 Jul, 20:01</td>\n",
       "      <td>477.25</td>\n",
       "      <td>480.25</td>\n",
       "      <td>552</td>\n",
       "      <td>562.0</td>\n",
       "      <td>8.00</td>\n",
       "      <td>8.22</td>\n",
       "      <td>616.0</td>\n",
       "      <td>630.0</td>\n",
       "    </tr>\n",
       "    <tr>\n",
       "      <th>7</th>\n",
       "      <td>Inecobank</td>\n",
       "      <td>21 Jul, 20:01</td>\n",
       "      <td>477.25</td>\n",
       "      <td>480.25</td>\n",
       "      <td>551</td>\n",
       "      <td>561.0</td>\n",
       "      <td>8.00</td>\n",
       "      <td>8.21</td>\n",
       "      <td>616.5</td>\n",
       "      <td>627.5</td>\n",
       "    </tr>\n",
       "    <tr>\n",
       "      <th>8</th>\n",
       "      <td>Anelik Bank</td>\n",
       "      <td>21 Jul, 20:01</td>\n",
       "      <td>477</td>\n",
       "      <td>480.50</td>\n",
       "      <td>551</td>\n",
       "      <td>561.0</td>\n",
       "      <td>8.06</td>\n",
       "      <td>8.24</td>\n",
       "      <td>NaN</td>\n",
       "      <td>NaN</td>\n",
       "    </tr>\n",
       "    <tr>\n",
       "      <th>9</th>\n",
       "      <td>Byblos Bank Armenia</td>\n",
       "      <td>21 Jul, 20:01</td>\n",
       "      <td>477</td>\n",
       "      <td>480.50</td>\n",
       "      <td>552</td>\n",
       "      <td>561.0</td>\n",
       "      <td>8.00</td>\n",
       "      <td>8.25</td>\n",
       "      <td>615.0</td>\n",
       "      <td>627.0</td>\n",
       "    </tr>\n",
       "    <tr>\n",
       "      <th>10</th>\n",
       "      <td>ArmSwissBank</td>\n",
       "      <td>21 Jul, 20:01</td>\n",
       "      <td>477</td>\n",
       "      <td>480</td>\n",
       "      <td>554</td>\n",
       "      <td>560.0</td>\n",
       "      <td>8.05</td>\n",
       "      <td>8.23</td>\n",
       "      <td>617.0</td>\n",
       "      <td>624.0</td>\n",
       "    </tr>\n",
       "    <tr>\n",
       "      <th>11</th>\n",
       "      <td>Ardshinbank</td>\n",
       "      <td>21 Jul, 20:01</td>\n",
       "      <td>477.50</td>\n",
       "      <td>480.50</td>\n",
       "      <td>553</td>\n",
       "      <td>563.0</td>\n",
       "      <td>8.00</td>\n",
       "      <td>8.25</td>\n",
       "      <td>616.0</td>\n",
       "      <td>631.0</td>\n",
       "    </tr>\n",
       "    <tr>\n",
       "      <th>12</th>\n",
       "      <td>ArmBusinessBank</td>\n",
       "      <td>21 Jul, 20:01</td>\n",
       "      <td>477</td>\n",
       "      <td>480</td>\n",
       "      <td>554.10</td>\n",
       "      <td>562.1</td>\n",
       "      <td>8.02</td>\n",
       "      <td>8.24</td>\n",
       "      <td>615.1</td>\n",
       "      <td>628.1</td>\n",
       "    </tr>\n",
       "    <tr>\n",
       "      <th>13</th>\n",
       "      <td>ACBA-Credit Agricole..</td>\n",
       "      <td>21 Jul, 20:01</td>\n",
       "      <td>477</td>\n",
       "      <td>480.50</td>\n",
       "      <td>553</td>\n",
       "      <td>561.5</td>\n",
       "      <td>8.07</td>\n",
       "      <td>8.20</td>\n",
       "      <td>616.0</td>\n",
       "      <td>631.0</td>\n",
       "    </tr>\n",
       "    <tr>\n",
       "      <th>14</th>\n",
       "      <td>Mellat Bank</td>\n",
       "      <td>21 Jul, 20:01</td>\n",
       "      <td>476.50</td>\n",
       "      <td>480.50</td>\n",
       "      <td>553</td>\n",
       "      <td>561.0</td>\n",
       "      <td>NaN</td>\n",
       "      <td>NaN</td>\n",
       "      <td>NaN</td>\n",
       "      <td>NaN</td>\n",
       "    </tr>\n",
       "    <tr>\n",
       "      <th>15</th>\n",
       "      <td>ARMECONOMBANK</td>\n",
       "      <td>21 Jul, 20:01</td>\n",
       "      <td>477</td>\n",
       "      <td>480.50</td>\n",
       "      <td>550</td>\n",
       "      <td>565.0</td>\n",
       "      <td>8.01</td>\n",
       "      <td>8.24</td>\n",
       "      <td>613.0</td>\n",
       "      <td>632.0</td>\n",
       "    </tr>\n",
       "    <tr>\n",
       "      <th>16</th>\n",
       "      <td>Converse Bank</td>\n",
       "      <td>21 Jul, 20:00</td>\n",
       "      <td>476.50</td>\n",
       "      <td>480</td>\n",
       "      <td>552</td>\n",
       "      <td>560.0</td>\n",
       "      <td>8.02</td>\n",
       "      <td>8.21</td>\n",
       "      <td>616.0</td>\n",
       "      <td>625.0</td>\n",
       "    </tr>\n",
       "    <tr>\n",
       "      <th>17</th>\n",
       "      <td>ARARATBANK</td>\n",
       "      <td>21 Jul, 20:00</td>\n",
       "      <td>476.50</td>\n",
       "      <td>480</td>\n",
       "      <td>547</td>\n",
       "      <td>565.0</td>\n",
       "      <td>8.01</td>\n",
       "      <td>8.30</td>\n",
       "      <td>609.0</td>\n",
       "      <td>632.0</td>\n",
       "    </tr>\n",
       "    <tr>\n",
       "      <th>18</th>\n",
       "      <td>Prometey Bank</td>\n",
       "      <td>21 Jul, 20:00</td>\n",
       "      <td>477</td>\n",
       "      <td>480</td>\n",
       "      <td>551</td>\n",
       "      <td>561.0</td>\n",
       "      <td>8.04</td>\n",
       "      <td>8.18</td>\n",
       "      <td>616.0</td>\n",
       "      <td>626.0</td>\n",
       "    </tr>\n",
       "  </tbody>\n",
       "</table>\n",
       "</div>"
      ],
      "text/plain": [
       "                      Bank           Date USD_buy USD_sell EUR_buy  EUR_sell  \\\n",
       "2               Ameriabank  21 Jul, 20:01  476.50   480.50     554     562.0   \n",
       "3              Artsakhbank  21 Jul, 20:01     477   480.50     553     562.5   \n",
       "4        HSBC Bank Armenia  21 Jul, 20:01  476.50   480.50  552.50     562.5   \n",
       "5                  Unibank  21 Jul, 20:01  476.50      480     551     561.0   \n",
       "6       VTB Bank (Armenia)  21 Jul, 20:01  477.25   480.25     552     562.0   \n",
       "7                Inecobank  21 Jul, 20:01  477.25   480.25     551     561.0   \n",
       "8              Anelik Bank  21 Jul, 20:01     477   480.50     551     561.0   \n",
       "9      Byblos Bank Armenia  21 Jul, 20:01     477   480.50     552     561.0   \n",
       "10            ArmSwissBank  21 Jul, 20:01     477      480     554     560.0   \n",
       "11             Ardshinbank  21 Jul, 20:01  477.50   480.50     553     563.0   \n",
       "12         ArmBusinessBank  21 Jul, 20:01     477      480  554.10     562.1   \n",
       "13  ACBA-Credit Agricole..  21 Jul, 20:01     477   480.50     553     561.5   \n",
       "14             Mellat Bank  21 Jul, 20:01  476.50   480.50     553     561.0   \n",
       "15           ARMECONOMBANK  21 Jul, 20:01     477   480.50     550     565.0   \n",
       "16           Converse Bank  21 Jul, 20:00  476.50      480     552     560.0   \n",
       "17              ARARATBANK  21 Jul, 20:00  476.50      480     547     565.0   \n",
       "18           Prometey Bank  21 Jul, 20:00     477      480     551     561.0   \n",
       "\n",
       "    RUB_buy  RUB_sell  GBF_buy  GBF_sell  \n",
       "2      7.96      8.21    616.0     626.0  \n",
       "3      7.98      8.20    615.0     630.0  \n",
       "4      7.93      8.26    616.0     628.0  \n",
       "5      8.00      8.25    612.0     632.0  \n",
       "6      8.00      8.22    616.0     630.0  \n",
       "7      8.00      8.21    616.5     627.5  \n",
       "8      8.06      8.24      NaN       NaN  \n",
       "9      8.00      8.25    615.0     627.0  \n",
       "10     8.05      8.23    617.0     624.0  \n",
       "11     8.00      8.25    616.0     631.0  \n",
       "12     8.02      8.24    615.1     628.1  \n",
       "13     8.07      8.20    616.0     631.0  \n",
       "14      NaN       NaN      NaN       NaN  \n",
       "15     8.01      8.24    613.0     632.0  \n",
       "16     8.02      8.21    616.0     625.0  \n",
       "17     8.01      8.30    609.0     632.0  \n",
       "18     8.04      8.18    616.0     626.0  "
      ]
     },
     "execution_count": 12,
     "metadata": {},
     "output_type": "execute_result"
    }
   ],
   "source": [
    "data_table"
   ]
  },
  {
   "cell_type": "code",
   "execution_count": 13,
   "metadata": {
    "collapsed": true
   },
   "outputs": [],
   "source": [
    "browser.close()"
   ]
  },
  {
   "cell_type": "code",
   "execution_count": null,
   "metadata": {
    "collapsed": true
   },
   "outputs": [],
   "source": []
  }
 ],
 "metadata": {
  "kernelspec": {
   "display_name": "Python 2",
   "language": "python",
   "name": "python2"
  },
  "language_info": {
   "codemirror_mode": {
    "name": "ipython",
    "version": 2
   },
   "file_extension": ".py",
   "mimetype": "text/x-python",
   "name": "python",
   "nbconvert_exporter": "python",
   "pygments_lexer": "ipython2",
   "version": "2.7.13"
  }
 },
 "nbformat": 4,
 "nbformat_minor": 2
}
