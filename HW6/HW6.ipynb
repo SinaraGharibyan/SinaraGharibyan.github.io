{
 "cells": [
  {
   "cell_type": "code",
   "execution_count": 1,
   "metadata": {
    "collapsed": true
   },
   "outputs": [],
   "source": [
    "import quandl\n",
    "import pandas as pt\n",
    "import matplotlib.pyplot as plt\n",
    "%matplotlib inline\n",
    "with open(\"key.txt\",\"r\") as f:\n",
    "    key=f.read()"
   ]
  },
  {
   "cell_type": "markdown",
   "metadata": {},
   "source": [
    "6.1 and 6.2"
   ]
  },
  {
   "cell_type": "code",
   "execution_count": 4,
   "metadata": {
    "collapsed": true
   },
   "outputs": [
    {
     "data": {
      "text/html": [
       "<div>\n",
       "<table border=\"1\" class=\"dataframe\">\n",
       "  <thead>\n",
       "    <tr style=\"text-align: right;\">\n",
       "      <th></th>\n",
       "      <th>Value</th>\n",
       "    </tr>\n",
       "    <tr>\n",
       "      <th>Date</th>\n",
       "      <th></th>\n",
       "    </tr>\n",
       "  </thead>\n",
       "  <tbody>\n",
       "    <tr>\n",
       "      <th>1977-12-31</th>\n",
       "      <td>0.942778</td>\n",
       "    </tr>\n",
       "    <tr>\n",
       "      <th>1978-12-31</th>\n",
       "      <td>0.975823</td>\n",
       "    </tr>\n",
       "    <tr>\n",
       "      <th>1979-12-31</th>\n",
       "      <td>1.077300</td>\n",
       "    </tr>\n",
       "    <tr>\n",
       "      <th>1980-12-31</th>\n",
       "      <td>1.224179</td>\n",
       "    </tr>\n",
       "    <tr>\n",
       "      <th>1981-12-31</th>\n",
       "      <td>1.188159</td>\n",
       "    </tr>\n",
       "    <tr>\n",
       "      <th>1982-12-31</th>\n",
       "      <td>1.157612</td>\n",
       "    </tr>\n",
       "    <tr>\n",
       "      <th>1983-12-31</th>\n",
       "      <td>1.144584</td>\n",
       "    </tr>\n",
       "    <tr>\n",
       "      <th>1984-12-31</th>\n",
       "      <td>0.955641</td>\n",
       "    </tr>\n",
       "    <tr>\n",
       "      <th>1985-12-31</th>\n",
       "      <td>1.045114</td>\n",
       "    </tr>\n",
       "    <tr>\n",
       "      <th>1986-12-31</th>\n",
       "      <td>0.856211</td>\n",
       "    </tr>\n",
       "    <tr>\n",
       "      <th>1987-12-31</th>\n",
       "      <td>0.875824</td>\n",
       "    </tr>\n",
       "    <tr>\n",
       "      <th>1988-12-31</th>\n",
       "      <td>0.882685</td>\n",
       "    </tr>\n",
       "    <tr>\n",
       "      <th>1989-12-31</th>\n",
       "      <td>0.927303</td>\n",
       "    </tr>\n",
       "    <tr>\n",
       "      <th>1990-12-31</th>\n",
       "      <td>0.989428</td>\n",
       "    </tr>\n",
       "    <tr>\n",
       "      <th>1991-12-31</th>\n",
       "      <td>0.989482</td>\n",
       "    </tr>\n",
       "    <tr>\n",
       "      <th>1992-12-31</th>\n",
       "      <td>0.988263</td>\n",
       "    </tr>\n",
       "    <tr>\n",
       "      <th>1993-12-31</th>\n",
       "      <td>1.304432</td>\n",
       "    </tr>\n",
       "    <tr>\n",
       "      <th>1994-12-31</th>\n",
       "      <td>0.990201</td>\n",
       "    </tr>\n",
       "    <tr>\n",
       "      <th>1995-12-31</th>\n",
       "      <td>0.990289</td>\n",
       "    </tr>\n",
       "    <tr>\n",
       "      <th>1996-12-31</th>\n",
       "      <td>0.990551</td>\n",
       "    </tr>\n",
       "    <tr>\n",
       "      <th>1997-12-31</th>\n",
       "      <td>0.990936</td>\n",
       "    </tr>\n",
       "    <tr>\n",
       "      <th>1998-12-31</th>\n",
       "      <td>0.990034</td>\n",
       "    </tr>\n",
       "    <tr>\n",
       "      <th>1999-12-31</th>\n",
       "      <td>0.990004</td>\n",
       "    </tr>\n",
       "    <tr>\n",
       "      <th>2000-12-31</th>\n",
       "      <td>0.990376</td>\n",
       "    </tr>\n",
       "    <tr>\n",
       "      <th>2001-12-31</th>\n",
       "      <td>0.990264</td>\n",
       "    </tr>\n",
       "    <tr>\n",
       "      <th>2002-12-31</th>\n",
       "      <td>0.990264</td>\n",
       "    </tr>\n",
       "    <tr>\n",
       "      <th>2003-12-31</th>\n",
       "      <td>0.990066</td>\n",
       "    </tr>\n",
       "    <tr>\n",
       "      <th>2004-12-31</th>\n",
       "      <td>0.999006</td>\n",
       "    </tr>\n",
       "    <tr>\n",
       "      <th>2005-12-31</th>\n",
       "      <td>1.000000</td>\n",
       "    </tr>\n",
       "    <tr>\n",
       "      <th>2006-12-31</th>\n",
       "      <td>1.000000</td>\n",
       "    </tr>\n",
       "    <tr>\n",
       "      <th>2007-12-31</th>\n",
       "      <td>0.964255</td>\n",
       "    </tr>\n",
       "    <tr>\n",
       "      <th>2008-12-31</th>\n",
       "      <td>0.898831</td>\n",
       "    </tr>\n",
       "    <tr>\n",
       "      <th>2009-12-31</th>\n",
       "      <td>0.788817</td>\n",
       "    </tr>\n",
       "    <tr>\n",
       "      <th>2010-12-31</th>\n",
       "      <td>0.942455</td>\n",
       "    </tr>\n",
       "    <tr>\n",
       "      <th>2011-12-31</th>\n",
       "      <td>0.920456</td>\n",
       "    </tr>\n",
       "    <tr>\n",
       "      <th>2012-12-31</th>\n",
       "      <td>0.850643</td>\n",
       "    </tr>\n",
       "    <tr>\n",
       "      <th>2013-12-31</th>\n",
       "      <td>0.859932</td>\n",
       "    </tr>\n",
       "    <tr>\n",
       "      <th>2014-12-31</th>\n",
       "      <td>0.864656</td>\n",
       "    </tr>\n",
       "    <tr>\n",
       "      <th>2015-12-31</th>\n",
       "      <td>0.868991</td>\n",
       "    </tr>\n",
       "  </tbody>\n",
       "</table>\n",
       "</div>"
      ],
      "text/plain": [
       "               Value\n",
       "Date                \n",
       "1977-12-31  0.942778\n",
       "1978-12-31  0.975823\n",
       "1979-12-31  1.077300\n",
       "1980-12-31  1.224179\n",
       "1981-12-31  1.188159\n",
       "1982-12-31  1.157612\n",
       "1983-12-31  1.144584\n",
       "1984-12-31  0.955641\n",
       "1985-12-31  1.045114\n",
       "1986-12-31  0.856211\n",
       "1987-12-31  0.875824\n",
       "1988-12-31  0.882685\n",
       "1989-12-31  0.927303\n",
       "1990-12-31  0.989428\n",
       "1991-12-31  0.989482\n",
       "1992-12-31  0.988263\n",
       "1993-12-31  1.304432\n",
       "1994-12-31  0.990201\n",
       "1995-12-31  0.990289\n",
       "1996-12-31  0.990551\n",
       "1997-12-31  0.990936\n",
       "1998-12-31  0.990034\n",
       "1999-12-31  0.990004\n",
       "2000-12-31  0.990376\n",
       "2001-12-31  0.990264\n",
       "2002-12-31  0.990264\n",
       "2003-12-31  0.990066\n",
       "2004-12-31  0.999006\n",
       "2005-12-31  1.000000\n",
       "2006-12-31  1.000000\n",
       "2007-12-31  0.964255\n",
       "2008-12-31  0.898831\n",
       "2009-12-31  0.788817\n",
       "2010-12-31  0.942455\n",
       "2011-12-31  0.920456\n",
       "2012-12-31  0.850643\n",
       "2013-12-31  0.859932\n",
       "2014-12-31  0.864656\n",
       "2015-12-31  0.868991"
      ]
     },
     "execution_count": 4,
     "metadata": {},
     "output_type": "execute_result"
    }
   ],
   "source": [
    "ARM_TOT=quandl.get('WORLDBANK/ARM_TOT',authtoken=key)\n",
    "ARM_TOT"
   ]
  },
  {
   "cell_type": "code",
   "execution_count": 5,
   "metadata": {
    "collapsed": true
   },
   "outputs": [
    {
     "data": {
      "text/html": [
       "<div>\n",
       "<table border=\"1\" class=\"dataframe\">\n",
       "  <thead>\n",
       "    <tr style=\"text-align: right;\">\n",
       "      <th></th>\n",
       "      <th>Value</th>\n",
       "    </tr>\n",
       "    <tr>\n",
       "      <th>Date</th>\n",
       "      <th></th>\n",
       "    </tr>\n",
       "  </thead>\n",
       "  <tbody>\n",
       "    <tr>\n",
       "      <th>1960-12-31</th>\n",
       "      <td>1.134161</td>\n",
       "    </tr>\n",
       "    <tr>\n",
       "      <th>1961-12-31</th>\n",
       "      <td>1.085041</td>\n",
       "    </tr>\n",
       "    <tr>\n",
       "      <th>1962-12-31</th>\n",
       "      <td>1.058667</td>\n",
       "    </tr>\n",
       "    <tr>\n",
       "      <th>1963-12-31</th>\n",
       "      <td>1.045383</td>\n",
       "    </tr>\n",
       "    <tr>\n",
       "      <th>1964-12-31</th>\n",
       "      <td>1.046499</td>\n",
       "    </tr>\n",
       "    <tr>\n",
       "      <th>1965-12-31</th>\n",
       "      <td>1.043360</td>\n",
       "    </tr>\n",
       "    <tr>\n",
       "      <th>1966-12-31</th>\n",
       "      <td>1.037422</td>\n",
       "    </tr>\n",
       "    <tr>\n",
       "      <th>1967-12-31</th>\n",
       "      <td>1.048266</td>\n",
       "    </tr>\n",
       "    <tr>\n",
       "      <th>1968-12-31</th>\n",
       "      <td>1.061796</td>\n",
       "    </tr>\n",
       "    <tr>\n",
       "      <th>1969-12-31</th>\n",
       "      <td>1.097165</td>\n",
       "    </tr>\n",
       "    <tr>\n",
       "      <th>1970-12-31</th>\n",
       "      <td>1.162848</td>\n",
       "    </tr>\n",
       "    <tr>\n",
       "      <th>1971-12-31</th>\n",
       "      <td>1.075662</td>\n",
       "    </tr>\n",
       "    <tr>\n",
       "      <th>1972-12-31</th>\n",
       "      <td>1.084515</td>\n",
       "    </tr>\n",
       "    <tr>\n",
       "      <th>1973-12-31</th>\n",
       "      <td>1.144173</td>\n",
       "    </tr>\n",
       "    <tr>\n",
       "      <th>1974-12-31</th>\n",
       "      <td>1.182021</td>\n",
       "    </tr>\n",
       "    <tr>\n",
       "      <th>1975-12-31</th>\n",
       "      <td>1.061710</td>\n",
       "    </tr>\n",
       "    <tr>\n",
       "      <th>1976-12-31</th>\n",
       "      <td>1.085971</td>\n",
       "    </tr>\n",
       "    <tr>\n",
       "      <th>1977-12-31</th>\n",
       "      <td>1.016897</td>\n",
       "    </tr>\n",
       "    <tr>\n",
       "      <th>1978-12-31</th>\n",
       "      <td>1.026276</td>\n",
       "    </tr>\n",
       "    <tr>\n",
       "      <th>1979-12-31</th>\n",
       "      <td>1.024777</td>\n",
       "    </tr>\n",
       "    <tr>\n",
       "      <th>1980-12-31</th>\n",
       "      <td>1.023726</td>\n",
       "    </tr>\n",
       "    <tr>\n",
       "      <th>1981-12-31</th>\n",
       "      <td>1.019265</td>\n",
       "    </tr>\n",
       "    <tr>\n",
       "      <th>1982-12-31</th>\n",
       "      <td>1.034290</td>\n",
       "    </tr>\n",
       "    <tr>\n",
       "      <th>1983-12-31</th>\n",
       "      <td>1.015012</td>\n",
       "    </tr>\n",
       "    <tr>\n",
       "      <th>1984-12-31</th>\n",
       "      <td>0.994308</td>\n",
       "    </tr>\n",
       "    <tr>\n",
       "      <th>1985-12-31</th>\n",
       "      <td>1.003873</td>\n",
       "    </tr>\n",
       "    <tr>\n",
       "      <th>1986-12-31</th>\n",
       "      <td>0.997222</td>\n",
       "    </tr>\n",
       "    <tr>\n",
       "      <th>1987-12-31</th>\n",
       "      <td>0.987955</td>\n",
       "    </tr>\n",
       "    <tr>\n",
       "      <th>1988-12-31</th>\n",
       "      <td>0.999042</td>\n",
       "    </tr>\n",
       "    <tr>\n",
       "      <th>1989-12-31</th>\n",
       "      <td>1.003315</td>\n",
       "    </tr>\n",
       "    <tr>\n",
       "      <th>1990-12-31</th>\n",
       "      <td>0.989329</td>\n",
       "    </tr>\n",
       "    <tr>\n",
       "      <th>1991-12-31</th>\n",
       "      <td>0.977113</td>\n",
       "    </tr>\n",
       "    <tr>\n",
       "      <th>1992-12-31</th>\n",
       "      <td>0.967914</td>\n",
       "    </tr>\n",
       "    <tr>\n",
       "      <th>1993-12-31</th>\n",
       "      <td>0.991480</td>\n",
       "    </tr>\n",
       "    <tr>\n",
       "      <th>1994-12-31</th>\n",
       "      <td>1.001550</td>\n",
       "    </tr>\n",
       "    <tr>\n",
       "      <th>1995-12-31</th>\n",
       "      <td>1.004164</td>\n",
       "    </tr>\n",
       "    <tr>\n",
       "      <th>1996-12-31</th>\n",
       "      <td>1.012825</td>\n",
       "    </tr>\n",
       "    <tr>\n",
       "      <th>1997-12-31</th>\n",
       "      <td>0.977640</td>\n",
       "    </tr>\n",
       "    <tr>\n",
       "      <th>1998-12-31</th>\n",
       "      <td>0.967278</td>\n",
       "    </tr>\n",
       "    <tr>\n",
       "      <th>1999-12-31</th>\n",
       "      <td>0.988291</td>\n",
       "    </tr>\n",
       "    <tr>\n",
       "      <th>2000-12-31</th>\n",
       "      <td>0.966210</td>\n",
       "    </tr>\n",
       "    <tr>\n",
       "      <th>2001-12-31</th>\n",
       "      <td>0.958421</td>\n",
       "    </tr>\n",
       "    <tr>\n",
       "      <th>2002-12-31</th>\n",
       "      <td>0.967567</td>\n",
       "    </tr>\n",
       "    <tr>\n",
       "      <th>2003-12-31</th>\n",
       "      <td>1.008998</td>\n",
       "    </tr>\n",
       "    <tr>\n",
       "      <th>2004-12-31</th>\n",
       "      <td>0.997518</td>\n",
       "    </tr>\n",
       "    <tr>\n",
       "      <th>2005-12-31</th>\n",
       "      <td>1.000000</td>\n",
       "    </tr>\n",
       "    <tr>\n",
       "      <th>2006-12-31</th>\n",
       "      <td>1.019995</td>\n",
       "    </tr>\n",
       "    <tr>\n",
       "      <th>2007-12-31</th>\n",
       "      <td>1.024569</td>\n",
       "    </tr>\n",
       "    <tr>\n",
       "      <th>2008-12-31</th>\n",
       "      <td>1.019787</td>\n",
       "    </tr>\n",
       "    <tr>\n",
       "      <th>2009-12-31</th>\n",
       "      <td>1.022608</td>\n",
       "    </tr>\n",
       "    <tr>\n",
       "      <th>2010-12-31</th>\n",
       "      <td>1.050784</td>\n",
       "    </tr>\n",
       "    <tr>\n",
       "      <th>2011-12-31</th>\n",
       "      <td>1.068905</td>\n",
       "    </tr>\n",
       "    <tr>\n",
       "      <th>2012-12-31</th>\n",
       "      <td>1.058626</td>\n",
       "    </tr>\n",
       "    <tr>\n",
       "      <th>2013-12-31</th>\n",
       "      <td>1.055464</td>\n",
       "    </tr>\n",
       "    <tr>\n",
       "      <th>2014-12-31</th>\n",
       "      <td>1.056562</td>\n",
       "    </tr>\n",
       "    <tr>\n",
       "      <th>2015-12-31</th>\n",
       "      <td>1.058624</td>\n",
       "    </tr>\n",
       "  </tbody>\n",
       "</table>\n",
       "</div>"
      ],
      "text/plain": [
       "               Value\n",
       "Date                \n",
       "1960-12-31  1.134161\n",
       "1961-12-31  1.085041\n",
       "1962-12-31  1.058667\n",
       "1963-12-31  1.045383\n",
       "1964-12-31  1.046499\n",
       "1965-12-31  1.043360\n",
       "1966-12-31  1.037422\n",
       "1967-12-31  1.048266\n",
       "1968-12-31  1.061796\n",
       "1969-12-31  1.097165\n",
       "1970-12-31  1.162848\n",
       "1971-12-31  1.075662\n",
       "1972-12-31  1.084515\n",
       "1973-12-31  1.144173\n",
       "1974-12-31  1.182021\n",
       "1975-12-31  1.061710\n",
       "1976-12-31  1.085971\n",
       "1977-12-31  1.016897\n",
       "1978-12-31  1.026276\n",
       "1979-12-31  1.024777\n",
       "1980-12-31  1.023726\n",
       "1981-12-31  1.019265\n",
       "1982-12-31  1.034290\n",
       "1983-12-31  1.015012\n",
       "1984-12-31  0.994308\n",
       "1985-12-31  1.003873\n",
       "1986-12-31  0.997222\n",
       "1987-12-31  0.987955\n",
       "1988-12-31  0.999042\n",
       "1989-12-31  1.003315\n",
       "1990-12-31  0.989329\n",
       "1991-12-31  0.977113\n",
       "1992-12-31  0.967914\n",
       "1993-12-31  0.991480\n",
       "1994-12-31  1.001550\n",
       "1995-12-31  1.004164\n",
       "1996-12-31  1.012825\n",
       "1997-12-31  0.977640\n",
       "1998-12-31  0.967278\n",
       "1999-12-31  0.988291\n",
       "2000-12-31  0.966210\n",
       "2001-12-31  0.958421\n",
       "2002-12-31  0.967567\n",
       "2003-12-31  1.008998\n",
       "2004-12-31  0.997518\n",
       "2005-12-31  1.000000\n",
       "2006-12-31  1.019995\n",
       "2007-12-31  1.024569\n",
       "2008-12-31  1.019787\n",
       "2009-12-31  1.022608\n",
       "2010-12-31  1.050784\n",
       "2011-12-31  1.068905\n",
       "2012-12-31  1.058626\n",
       "2013-12-31  1.055464\n",
       "2014-12-31  1.056562\n",
       "2015-12-31  1.058624"
      ]
     },
     "execution_count": 5,
     "metadata": {},
     "output_type": "execute_result"
    }
   ],
   "source": [
    "LUX_TOT=quandl.get(\"WORLDBANK/LUX_TOT\",authoken=key)\n",
    "LUX_TOT"
   ]
  },
  {
   "cell_type": "code",
   "execution_count": 7,
   "metadata": {
    "collapsed": false
   },
   "outputs": [
    {
     "data": {
      "text/plain": [
       "<matplotlib.text.Text at 0xa5bcda0>"
      ]
     },
     "execution_count": 7,
     "metadata": {},
     "output_type": "execute_result"
    },
    {
     "data": {
      "image/png": "[encoded data removed]",
      "text/plain": [
       "<matplotlib.figure.Figure at 0xa4bdf98>"
      ]
     },
     "metadata": {},
     "output_type": "display_data"
    }
   ],
   "source": [
    "plt.plot(ARM_TOT,\"r\")\n",
    "plt.plot(LUX_TOT,\"g\")\n",
    "plt.xlabel(\"Years\")\n",
    "plt.ylabel(\"Terms of Trade\")"
   ]
  },
  {
   "cell_type": "code",
   "execution_count": 10,
   "metadata": {
    "collapsed": false
   },
   "outputs": [
    {
     "data": {
      "text/plain": [
       "<matplotlib.text.Text at 0xb52ec50>"
      ]
     },
     "execution_count": 10,
     "metadata": {},
     "output_type": "execute_result"
    },
    {
     "data": {
      "image/png": "[encoded data removed]",
      "text/plain": [
       "<matplotlib.figure.Figure at 0xb576080>"
      ]
     },
     "metadata": {},
     "output_type": "display_data"
    }
   ],
   "source": [
    "LUX_TOT_ADJ=quandl.get(\"WORLDBANK/LUX_TOT\",authoken=key,trim_start=\"1977-12-31\")\n",
    "plt.plot(ARM_TOT,\"b\")\n",
    "plt.plot(LUX_TOT_ADJ,\"y\")\n",
    "plt.xlabel(\"Years\")\n",
    "plt.ylabel(\"Terms of Trade\")"
   ]
  },
  {
   "cell_type": "markdown",
   "metadata": {},
   "source": [
    "World Bank Development Indicators. 6.1 and 6.2 second version( I am not sure which database  you mean)."
   ]
  },
  {
   "cell_type": "code",
   "execution_count": 2,
   "metadata": {
    "collapsed": false
   },
   "outputs": [
    {
     "data": {
      "text/plain": [
       "<matplotlib.text.Text at 0xab81f60>"
      ]
     },
     "execution_count": 2,
     "metadata": {},
     "output_type": "execute_result"
    },
    {
     "data": {
      "image/png": "[encoded data removed]",
      "text/plain": [
       "<matplotlib.figure.Figure at 0xa2d0eb8>"
      ]
     },
     "metadata": {},
     "output_type": "display_data"
    }
   ],
   "source": [
    "data_arm = quandl.get('WWDI/ARM_TT_PRI_MRCH_XD_WD',authtoken=key)\n",
    "data_lux = quandl.get('WWDI/LUX_TT_PRI_MRCH_XD_WD',authtoken=key)\n",
    "\n",
    "plt.plot(data_arm, \"r\")\n",
    "plt.plot(data_lux)\n",
    "plt.xlabel(\"Years\")\n",
    "plt.ylabel(\"Terms of Trade\")"
   ]
  },
  {
   "cell_type": "code",
   "execution_count": 11,
   "metadata": {
    "collapsed": false
   },
   "outputs": [
    {
     "name": "stdout",
     "output_type": "stream",
     "text": [
      "2nd higest value for TOT of Armenia is 1.22417921215\n"
     ]
    }
   ],
   "source": [
    "ordered_data=ARM_TOT.sort_values(by='Value', ascending=0)\n",
    "max2=ordered_data['Value'][1]\n",
    "print '2nd higest value for TOT of Armenia is ' + str(max2)"
   ]
  },
  {
   "cell_type": "code",
   "execution_count": 3,
   "metadata": {
    "collapsed": false
   },
   "outputs": [
    {
     "name": "stdout",
     "output_type": "stream",
     "text": [
      "2nd higest value for TOT of Armenia is 126.017130093\n"
     ]
    }
   ],
   "source": [
    "ordered_data=data_arm.sort_values(by='Value', ascending=0)\n",
    "max2=ordered_data['Value'][1]\n",
    "print '2nd higest value for TOT of Armenia is ' + str(max2)"
   ]
  },
  {
   "cell_type": "markdown",
   "metadata": {},
   "source": [
    "6.3"
   ]
  },
  {
   "cell_type": "code",
   "execution_count": 13,
   "metadata": {
    "collapsed": false
   },
   "outputs": [
    {
     "data": {
      "text/plain": [
       "<matplotlib.text.Text at 0xba15e80>"
      ]
     },
     "execution_count": 13,
     "metadata": {},
     "output_type": "execute_result"
    },
    {
     "data": {
      "image/png": "[encoded data removed]",
      "text/plain": [
       "<matplotlib.figure.Figure at 0xb8103c8>"
      ]
     },
     "metadata": {},
     "output_type": "display_data"
    }
   ],
   "source": [
    "ARM_EXP=quandl.get(\"WTO/MERCH_EXP_ARM\", authoken=key)\n",
    "ARM_IMP=quandl.get(\"WTO/MERCH_IMP_ARM\", authoken=key)\n",
    "Net_Exp=ARM_EXP['Value']-ARM_IMP['Value']\n",
    "plt.plot(Net_Exp,\"b\")\n",
    "plt.xlabel(\"Years\")\n",
    "plt.ylabel(\"Net_Export\")"
   ]
  },
  {
   "cell_type": "code",
   "execution_count": 8,
   "metadata": {
    "collapsed": false
   },
   "outputs": [
    {
     "data": {
      "text/plain": [
       "[<matplotlib.lines.Line2D at 0xb2f50f0>]"
      ]
     },
     "execution_count": 8,
     "metadata": {},
     "output_type": "execute_result"
    },
    {
     "data": {
      "image/png": "[encoded data removed]",
      "text/plain": [
       "<matplotlib.figure.Figure at 0xaece9b0>"
      ]
     },
     "metadata": {},
     "output_type": "display_data"
    }
   ],
   "source": [
    "total_export = quandl.get('WWDI/ARM_TX_VAL_MRCH_CD_WT',authtoken=key)\n",
    "total_import = quandl.get('WWDI/ARM_TM_VAL_MRCH_CD_WT',authtoken=key)\n",
    "\n",
    "net_exports = total_export - total_import\n",
    "plt.xlabel(\"Years\")\n",
    "plt.ylabel(\"Net_Export\")\n",
    "\n",
    "plt.plot(net_exports)\n",
    "\n"
   ]
  },
  {
   "cell_type": "markdown",
   "metadata": {},
   "source": [
    "6.4"
   ]
  },
  {
   "cell_type": "code",
   "execution_count": 12,
   "metadata": {
    "collapsed": false
   },
   "outputs": [
    {
     "data": {
      "text/html": [
       "<div>\n",
       "<table border=\"1\" class=\"dataframe\">\n",
       "  <thead>\n",
       "    <tr style=\"text-align: right;\">\n",
       "      <th></th>\n",
       "      <th>NYX/TNLA_NOKA - Close</th>\n",
       "      <th>NYX/XAMS_PHIA - Close</th>\n",
       "      <th>NYX/XAMS_RDSB - Close</th>\n",
       "    </tr>\n",
       "    <tr>\n",
       "      <th>Date</th>\n",
       "      <th></th>\n",
       "      <th></th>\n",
       "      <th></th>\n",
       "    </tr>\n",
       "  </thead>\n",
       "  <tbody>\n",
       "    <tr>\n",
       "      <th>2005-07-20</th>\n",
       "      <td>14.65</td>\n",
       "      <td>22.48</td>\n",
       "      <td>26.08</td>\n",
       "    </tr>\n",
       "    <tr>\n",
       "      <th>2005-07-21</th>\n",
       "      <td>13.15</td>\n",
       "      <td>22.42</td>\n",
       "      <td>26.05</td>\n",
       "    </tr>\n",
       "    <tr>\n",
       "      <th>2005-07-22</th>\n",
       "      <td>12.90</td>\n",
       "      <td>22.38</td>\n",
       "      <td>25.93</td>\n",
       "    </tr>\n",
       "    <tr>\n",
       "      <th>2005-07-25</th>\n",
       "      <td>12.70</td>\n",
       "      <td>22.44</td>\n",
       "      <td>26.23</td>\n",
       "    </tr>\n",
       "    <tr>\n",
       "      <th>2005-07-26</th>\n",
       "      <td>12.92</td>\n",
       "      <td>22.66</td>\n",
       "      <td>26.15</td>\n",
       "    </tr>\n",
       "  </tbody>\n",
       "</table>\n",
       "</div>"
      ],
      "text/plain": [
       "            NYX/TNLA_NOKA - Close  NYX/XAMS_PHIA - Close  \\\n",
       "Date                                                       \n",
       "2005-07-20                  14.65                  22.48   \n",
       "2005-07-21                  13.15                  22.42   \n",
       "2005-07-22                  12.90                  22.38   \n",
       "2005-07-25                  12.70                  22.44   \n",
       "2005-07-26                  12.92                  22.66   \n",
       "\n",
       "            NYX/XAMS_RDSB - Close  \n",
       "Date                               \n",
       "2005-07-20                  26.08  \n",
       "2005-07-21                  26.05  \n",
       "2005-07-22                  25.93  \n",
       "2005-07-25                  26.23  \n",
       "2005-07-26                  26.15  "
      ]
     },
     "execution_count": 12,
     "metadata": {},
     "output_type": "execute_result"
    }
   ],
   "source": [
    "data_all=quandl.get(['NYX/TNLA_NOKA','NYX/XAMS_PHIA','NYX/XAMS_RDSB'],trim_start=\"2005-07-20\",column_index=4)\n",
    "data_all.head()\n"
   ]
  },
  {
   "cell_type": "code",
   "execution_count": 13,
   "metadata": {
    "collapsed": false
   },
   "outputs": [
    {
     "data": {
      "text/html": [
       "<div>\n",
       "<table border=\"1\" class=\"dataframe\">\n",
       "  <thead>\n",
       "    <tr style=\"text-align: right;\">\n",
       "      <th></th>\n",
       "      <th>NYX/TNLA_NOKA - Close</th>\n",
       "      <th>NYX/XAMS_PHIA - Close</th>\n",
       "      <th>NYX/XAMS_RDSB - Close</th>\n",
       "    </tr>\n",
       "  </thead>\n",
       "  <tbody>\n",
       "    <tr>\n",
       "      <th>NYX/TNLA_NOKA - Close</th>\n",
       "      <td>1.000000</td>\n",
       "      <td>-0.358092</td>\n",
       "      <td>-0.396294</td>\n",
       "    </tr>\n",
       "    <tr>\n",
       "      <th>NYX/XAMS_PHIA - Close</th>\n",
       "      <td>-0.358092</td>\n",
       "      <td>1.000000</td>\n",
       "      <td>0.239712</td>\n",
       "    </tr>\n",
       "    <tr>\n",
       "      <th>NYX/XAMS_RDSB - Close</th>\n",
       "      <td>-0.396294</td>\n",
       "      <td>0.239712</td>\n",
       "      <td>1.000000</td>\n",
       "    </tr>\n",
       "  </tbody>\n",
       "</table>\n",
       "</div>"
      ],
      "text/plain": [
       "                       NYX/TNLA_NOKA - Close  NYX/XAMS_PHIA - Close  \\\n",
       "NYX/TNLA_NOKA - Close               1.000000              -0.358092   \n",
       "NYX/XAMS_PHIA - Close              -0.358092               1.000000   \n",
       "NYX/XAMS_RDSB - Close              -0.396294               0.239712   \n",
       "\n",
       "                       NYX/XAMS_RDSB - Close  \n",
       "NYX/TNLA_NOKA - Close              -0.396294  \n",
       "NYX/XAMS_PHIA - Close               0.239712  \n",
       "NYX/XAMS_RDSB - Close               1.000000  "
      ]
     },
     "execution_count": 13,
     "metadata": {},
     "output_type": "execute_result"
    }
   ],
   "source": [
    "data_corr=data_all.corr()\n",
    "data_corr"
   ]
  },
  {
   "cell_type": "code",
   "execution_count": 14,
   "metadata": {
    "collapsed": true
   },
   "outputs": [],
   "source": [
    "import seaborn as sns"
   ]
  },
  {
   "cell_type": "code",
   "execution_count": 15,
   "metadata": {
    "collapsed": false
   },
   "outputs": [
    {
     "data": {
      "text/plain": [
       "<matplotlib.axes._subplots.AxesSubplot at 0xda4f5c0>"
      ]
     },
     "execution_count": 15,
     "metadata": {},
     "output_type": "execute_result"
    },
    {
     "data": {
      "image/png": "[encoded data removed]",
      "text/plain": [
       "<matplotlib.figure.Figure at 0xdc568d0>"
      ]
     },
     "metadata": {},
     "output_type": "display_data"
    }
   ],
   "source": [
    "sns.heatmap(data_corr)"
   ]
  },
  {
   "cell_type": "markdown",
   "metadata": {},
   "source": [
    "6.5"
   ]
  },
  {
   "cell_type": "code",
   "execution_count": 21,
   "metadata": {
    "collapsed": true
   },
   "outputs": [],
   "source": [
    "import googlemaps\n",
    "from datetime import datetime\n",
    "import re\n",
    "with open(\"map_key.txt\",\"r\") as f:\n",
    "    map_key=f.read()\n",
    "gmaps=googlemaps.Client(map_key)    "
   ]
  },
  {
   "cell_type": "code",
   "execution_count": 22,
   "metadata": {
    "collapsed": false
   },
   "outputs": [
    {
     "data": {
      "text/plain": [
       "[{u'text': u'225 mi', u'value': 361721},\n",
       " {u'text': u'2,529 mi', u'value': 4070225},\n",
       " {u'text': u'721 km', u'value': 720865},\n",
       " {u'text': u'2,797 mi', u'value': 4501105},\n",
       " {u'text': u'4,820 km', u'value': 4819723},\n",
       " {u'text': u'4,224 km', u'value': 4224440},\n",
       " {u'text': u'797 mi', u'value': 1283384},\n",
       " {u'text': u'1,192 mi', u'value': 1918299},\n",
       " {u'text': u'2,180 mi', u'value': 3509123},\n",
       " {u'text': u'1,451 mi', u'value': 2334745}]"
      ]
     },
     "execution_count": 22,
     "metadata": {},
     "output_type": "execute_result"
    }
   ],
   "source": [
    "dist=[]\n",
    "city_list=[\"Washington, DC\",\"Las Vegas, NV\",\"Ottawa, ON, Canada\",\"Los Angeles, CA\",\"Vancouver, BC, Canada\",\n",
    "           \"Mexico City, Mexico\",\"Chicago, IL\",'Kansas City, MO','Salt Lake City, UT',\"Oklahoma City, OK\"]\n",
    "for i in city_list:\n",
    "    directions=gmaps.directions(i,\"New York, NY\")\n",
    "    \n",
    "    dist.append(directions[0]['legs'][0]['distance'])\n",
    "    \n",
    "dist   \n"
   ]
  },
  {
   "cell_type": "code",
   "execution_count": 23,
   "metadata": {
    "collapsed": false
   },
   "outputs": [
    {
     "data": {
      "text/plain": [
       "[360.0, 4046.4, 721.0, 4475.2, 4820.0, 4224.0, 1275.2, 1907.2, 3488.0, 2321.6]"
      ]
     },
     "execution_count": 23,
     "metadata": {},
     "output_type": "execute_result"
    }
   ],
   "source": [
    "dist_km=[]\n",
    "for i in dist:\n",
    "    x=i['text']\n",
    "    if x[-2]=='m':\n",
    "        y=re.findall(\"([0-9]+.*[0-9]*)\\s\",x)\n",
    "        p=re.sub(\",\",\"\",y[0])\n",
    "        m=float(p)*1.6\n",
    "    else:\n",
    "        y=re.findall(\"([0-9]+.*[0-9]*)\\s\",x)\n",
    "        p=re.sub(\",\",\"\",y[0])\n",
    "        m=float(p)\n",
    "        \n",
    "    \n",
    "    dist_km.append(m)\n",
    "dist_km    \n",
    "    "
   ]
  },
  {
   "cell_type": "code",
   "execution_count": 26,
   "metadata": {
    "collapsed": false
   },
   "outputs": [
    {
     "data": {
      "text/plain": [
       "[{'city': 'Washington, DC', 'distance': '360.0 km'},\n",
       " {'city': 'Las Vegas, NV', 'distance': '4046.4 km'},\n",
       " {'city': 'Ottawa, ON, Canada', 'distance': '721.0 km'},\n",
       " {'city': 'Los Angeles, CA', 'distance': '4475.2 km'},\n",
       " {'city': 'Vancouver, BC, Canada', 'distance': '4820.0 km'},\n",
       " {'city': 'Mexico City, Mexico', 'distance': '4224.0 km'},\n",
       " {'city': 'Chicago, IL', 'distance': '1275.2 km'},\n",
       " {'city': 'Kansas City, MO', 'distance': '1907.2 km'},\n",
       " {'city': 'Salt Lake City, UT', 'distance': '3488.0 km'},\n",
       " {'city': 'Oklahoma City, OK', 'distance': '2321.6 km'}]"
      ]
     },
     "execution_count": 26,
     "metadata": {},
     "output_type": "execute_result"
    }
   ],
   "source": [
    "data_list=[]\n",
    "for i in range(0,len(dist_km)):\n",
    "    dictionary={\"city\":city_list[i],'distance':str(dist_km[i])+\" km\"\n",
    "        \n",
    "    }\n",
    "    data_list.append(dictionary)\n",
    "data_list  "
   ]
  },
  {
   "cell_type": "code",
   "execution_count": null,
   "metadata": {
    "collapsed": true
   },
   "outputs": [],
   "source": []
  }
 ],
 "metadata": {
  "kernelspec": {
   "display_name": "Python 2",
   "language": "python",
   "name": "python2"
  },
  "language_info": {
   "codemirror_mode": {
    "name": "ipython",
    "version": 2
   },
   "file_extension": ".py",
   "mimetype": "text/x-python",
   "name": "python",
   "nbconvert_exporter": "python",
   "pygments_lexer": "ipython2",
   "version": "2.7.13"
  }
 },
 "nbformat": 4,
 "nbformat_minor": 2
}
