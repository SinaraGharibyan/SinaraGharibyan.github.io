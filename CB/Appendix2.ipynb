{
 "cells": [
  {
   "cell_type": "markdown",
   "metadata": {},
   "source": [
    "Պահանջված մասնագիտություններ"
   ]
  },
  {
   "cell_type": "code",
   "execution_count": null,
   "metadata": {
    "collapsed": true
   },
   "outputs": [],
   "source": [
    "from BeautifulSoup import *\n",
    "import requests\n",
    "url = \"https://careercenter.am/ccidxann.php\"\n",
    "response = requests.get(url)\n",
    "page = response.text\n",
    "soup = BeautifulSoup(page)\n",
    "tables = soup.findAll(\"table\")\n"
   ]
  },
  {
   "cell_type": "code",
   "execution_count": 7,
   "metadata": {
    "collapsed": false
   },
   "outputs": [
    {
     "data": {
      "text/plain": [
       "35"
      ]
     },
     "execution_count": 7,
     "metadata": {},
     "output_type": "execute_result"
    }
   ],
   "source": [
    "my_table = tables[0]\n",
    "rows = my_table.findAll('tr')\n",
    "data_list = []\n",
    "for i in rows:\n",
    "    columns = i.findAll('td')\n",
    "    for j in columns:\n",
    "        data_list.append(j.text)\n",
    "even = []\n",
    "\n",
    "for i in range(len(data_list)):\n",
    "    if i%2 == 0:\n",
    "        even.append(data_list[i])\n",
    "list_manager=[]\n",
    "for i in even:\n",
    "    manager=re.findall('.*\\s*(?:M|m)anager\\s*.*',i)\n",
    "    if len(manager)==1:\n",
    "        list_manager.append(manager)\n",
    "for i in range(len(list_manager)):\n",
    "     list_manager[i]=list_manager[i][0]     \n",
    "len(list_manager)        "
   ]
  },
  {
   "cell_type": "code",
   "execution_count": 8,
   "metadata": {
    "collapsed": false
   },
   "outputs": [
    {
     "data": {
      "text/plain": [
       "9"
      ]
     },
     "execution_count": 8,
     "metadata": {},
     "output_type": "execute_result"
    }
   ],
   "source": [
    "list_marketing=[]\n",
    "for i in even:\n",
    "    marketing=re.findall('.*\\s*(?:M|m)arketing\\s*.*',i)\n",
    "    if len(marketing)==1:\n",
    "        list_marketing.append(marketing)\n",
    "for i in range(len(list_marketing)):\n",
    "     list_marketing[i]=list_marketing[i][0]\n",
    "len(list_marketing )       \n"
   ]
  },
  {
   "cell_type": "markdown",
   "metadata": {},
   "source": [
    "------------------------------------------------------------------\n",
    "Կոդերի սկզբունքը նույնն է նաև մնացած մասնագիտությունների համար"
   ]
  },
  {
   "cell_type": "markdown",
   "metadata": {},
   "source": [
    "Միջին ստաժ"
   ]
  },
  {
   "cell_type": "code",
   "execution_count": 10,
   "metadata": {
    "collapsed": false
   },
   "outputs": [],
   "source": [
    "a_tags=my_table.findAll('a')\n",
    "new_list=list_link[1:]\n",
    "list_link=[]\n",
    "for i in a_tags:\n",
    "    d=i.get('href')\n",
    "    list_link.append(d)\n",
    "new_link=[]\n",
    "for i in new_list:\n",
    "    m='https://careercenter.am/'+i\n",
    "    new_link.append(m)    \n",
    "for i in new_link:\n",
    "    response=requests.get(i)\n",
    "    page=response.text\n",
    "    soup=BeautifulSoup(page)\n",
    "        "
   ]
  },
  {
   "cell_type": "code",
   "execution_count": 11,
   "metadata": {
    "collapsed": true
   },
   "outputs": [],
   "source": [
    "list_soup=[]\n",
    "for i in range(0,len(new_link)):\n",
    "    response=requests.get(new_link[i])\n",
    "    page=response.text\n",
    "    soup=BeautifulSoup(page)\n",
    "    list_soup.append(soup)\n",
    "    "
   ]
  },
  {
   "cell_type": "code",
   "execution_count": 12,
   "metadata": {
    "collapsed": true
   },
   "outputs": [],
   "source": [
    "exp_list=[]\n",
    "for i in  list_soup:\n",
    "    m=i.findAll('p')\n",
    "    for j in m:\n",
    "        exp_list.append(j.text)\n",
    "list_exp=[]\n",
    "for i in exp_list:\n",
    "    exp=re.findall('[0-9]\\syears\\sof.*(?:E|e)xperience\\s*',i)\n",
    "    if len(exp)==1:\n",
    "        list_exp.append(exp)\n",
    "for i in range(len(list_exp)):\n",
    "     list_exp[i]=list_exp[i][0]\n",
    "list_years=[]\n",
    "for i in list_exp:\n",
    "    exp=re.findall('[0-9]',i)\n",
    "    if len(exp)==1:\n",
    "        list_years.append(exp)\n",
    "for i in range(len(list_years)):\n",
    "     list_years[i]=list_years[i][0]\n",
    "int_list_years=[]\n",
    "for i in list_years:\n",
    "    m=int(i)\n",
    "    int_list_years.append(m)        \n",
    "        "
   ]
  },
  {
   "cell_type": "code",
   "execution_count": 16,
   "metadata": {
    "collapsed": false
   },
   "outputs": [
    {
     "name": "stdout",
     "output_type": "stream",
     "text": [
      "Միջին ստաժ՝ 3\n"
     ]
    }
   ],
   "source": [
    "sum=0\n",
    "for j in int_list_years:\n",
    "    sum=sum+j\n",
    "mean=sum/len(int_list_years)    \n",
    "print 'Միջին ստաժ՝ ' + str(mean)\n",
    "\n"
   ]
  },
  {
   "cell_type": "code",
   "execution_count": 17,
   "metadata": {
    "collapsed": false
   },
   "outputs": [
    {
     "name": "stdout",
     "output_type": "stream",
     "text": [
      "Ընդհանուր միջին ստաժ՝ 1\n"
     ]
    }
   ],
   "source": [
    "sum=0\n",
    "for j in int_list_years:\n",
    "    sum=sum+j\n",
    "mean=sum/len(new_link)    \n",
    "print 'Ընդհանուր միջին ստաժ՝ ' + str(mean)\n",
    "\n"
   ]
  },
  {
   "cell_type": "markdown",
   "metadata": {},
   "source": [
    "Պահանջվող որակավորումներ"
   ]
  },
  {
   "cell_type": "code",
   "execution_count": 22,
   "metadata": {
    "collapsed": false
   },
   "outputs": [
    {
     "name": "stdout",
     "output_type": "stream",
     "text": [
      "Անգլերեն պահանջող աշխատանքներ՝ 169\n"
     ]
    }
   ],
   "source": [
    "list_english=[]\n",
    "for i in exp_list:\n",
    "    exp=re.findall('\\s*English\\s*[a-z]*\\s*[a-z]*',i)\n",
    "    if len(exp)==1:\n",
    "        list_english.append(exp)\n",
    "for i in range(len(list_english)):\n",
    "     list_english[i]=list_english[i][0]\n",
    "len(list_english)    \n",
    "print 'Անգլերեն պահանջող աշխատանքներ՝ ' + str(len(list_english) )"
   ]
  },
  {
   "cell_type": "code",
   "execution_count": 23,
   "metadata": {
    "collapsed": false
   },
   "outputs": [
    {
     "name": "stdout",
     "output_type": "stream",
     "text": [
      "Ռուսերեն պահանջող աշխատանքներ՝ 83\n"
     ]
    }
   ],
   "source": [
    "list_russian=[]\n",
    "for i in exp_list:\n",
    "    exp=re.findall('\\s*Russian\\s*[a-z]*\\s*[a-z]*',i)\n",
    "    if len(exp)==1:\n",
    "        list_russian.append(exp)\n",
    "print 'Ռուսերեն պահանջող աշխատանքներ՝ ' + str(len(list_russian))            "
   ]
  },
  {
   "cell_type": "markdown",
   "metadata": {},
   "source": [
    "---------------------------------------------------------------\n",
    "Սկզբունքը նույնն է նաև մնացած բոլոր հմտությունների որոնման համար"
   ]
  },
  {
   "cell_type": "markdown",
   "metadata": {},
   "source": [
    "Ակտիվ գործատուներ"
   ]
  },
  {
   "cell_type": "code",
   "execution_count": 26,
   "metadata": {
    "collapsed": false
   },
   "outputs": [
    {
     "name": "stdout",
     "output_type": "stream",
     "text": [
      "Zangi-ի կողմից հայատարարված աշխատատեղեր՝ 3\n"
     ]
    }
   ],
   "source": [
    "exp_company=[]\n",
    "for i in  list_soup:\n",
    "    m=i.findAll('p',attrs={'align':'center'})\n",
    "    for j in m:\n",
    "        exp_company.append(j.text)\n",
    "list_zangi=[]\n",
    "for i in exp_company:\n",
    "    exp=re.findall('Zangi',i)\n",
    "    if len(exp)==1:\n",
    "        list_zangi.append(exp)\n",
    "print 'Zangi-ի կողմից հայատարարված աշխատատեղեր՝ ' + str(len(list_zangi))                    "
   ]
  },
  {
   "cell_type": "code",
   "execution_count": 27,
   "metadata": {
    "collapsed": false
   },
   "outputs": [
    {
     "name": "stdout",
     "output_type": "stream",
     "text": [
      "\"Tech\" անունով ընկերությունների կողմից հայատարարված աշխատատեղեր՝ 13\n"
     ]
    }
   ],
   "source": [
    "list_llc=[]\n",
    "for i in exp_company:\n",
    "    exp=re.findall('.*\\s*Tech[a-z]*',i)\n",
    "    if len(exp)==1:\n",
    "        list_llc.append(exp)\n",
    "print '\"Tech\" անունով ընկերությունների կողմից հայատարարված աշխատատեղեր՝ ' + str(len(list_llc))                    "
   ]
  },
  {
   "cell_type": "markdown",
   "metadata": {},
   "source": [
    "---------------------------------------------------------------\n",
    "Սկզբունքը նույնն է նաև մնացած բոլոր ընկերությունների որոնման համար"
   ]
  },
  {
   "cell_type": "code",
   "execution_count": null,
   "metadata": {
    "collapsed": true
   },
   "outputs": [],
   "source": []
  }
 ],
 "metadata": {
  "kernelspec": {
   "display_name": "Python 2",
   "language": "python",
   "name": "python2"
  },
  "language_info": {
   "codemirror_mode": {
    "name": "ipython",
    "version": 2
   },
   "file_extension": ".py",
   "mimetype": "text/x-python",
   "name": "python",
   "nbconvert_exporter": "python",
   "pygments_lexer": "ipython2",
   "version": "2.7.13"
  }
 },
 "nbformat": 4,
 "nbformat_minor": 2
}
