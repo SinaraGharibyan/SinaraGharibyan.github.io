{
 "cells": [
  {
   "cell_type": "code",
   "execution_count": 1,
   "metadata": {
    "collapsed": true
   },
   "outputs": [],
   "source": [
    "from BeautifulSoup import *\n",
    "import requests"
   ]
  },
  {
   "cell_type": "code",
   "execution_count": 2,
   "metadata": {
    "collapsed": true
   },
   "outputs": [],
   "source": [
    "url = \"https://careercenter.am/ccidxann.php\""
   ]
  },
  {
   "cell_type": "code",
   "execution_count": 3,
   "metadata": {
    "collapsed": true
   },
   "outputs": [],
   "source": [
    "response = requests.get(url)\n",
    "page = response.text\n",
    "soup = BeautifulSoup(page)\n",
    "tables = soup.findAll(\"table\")\n"
   ]
  },
  {
   "cell_type": "code",
   "execution_count": 37,
   "metadata": {
    "collapsed": false
   },
   "outputs": [
    {
     "data": {
      "text/plain": [
       "<table width=\"100%\" border=\"0\">\n",
       "<tr><td align=\"center\" colspan=\"2\"><strong><a name=\"JO\">JOB OPPORTUNITIES</a></strong></td></tr>\n",
       "<tr>\n",
       "<td valign=\"top\" width=\"8\"><img border=\"0\" src=\"images/bullet_fs.jpg\" width=\"6\" height=\"6\" vspace=\"6\" alt=\"bullet\" /></td>\n",
       "<td><a title=\"Application Deadline: 13 September 2017\" href=\"ccdspann.php?id=29143\">Customer Service Specialist / Varks.am</a></td>\n",
       "</tr>\n",
       "<tr>\n",
       "<td valign=\"top\" width=\"8\"><img border=\"0\" src=\"images/bullet_fs.jpg\" width=\"6\" height=\"6\" vspace=\"6\" alt=\"bullet\" /></td>\n",
       "<td><a title=\"Application Deadline: 13 September 2017\" href=\"ccdspann.php?id=29142\">Rental Agent for &quot;Sixt&quot; Armenia  / Fora</a></td>\n",
       "</tr>\n",
       "<tr>\n",
       "<td valign=\"top\" width=\"8\"><img border=\"0\" src=\"images/bullet_fs.jpg\" width=\"6\" height=\"6\" vspace=\"6\" alt=\"bullet\" /></td>\n",
       "<td><a title=\"Application Deadline: 28 August 2017\" href=\"ccdspann.php?id=29124\">Receptionist/ Call Center Specialist / Global Lending System</a></td>\n",
       "</tr>\n",
       "<tr>\n",
       "<td valign=\"top\" width=\"8\"><img border=\"0\" src=\"images/bullet_fs.jpg\" width=\"6\" height=\"6\" vspace=\"6\" alt=\"bullet\" /></td>\n",
       "<td><a title=\"Application Deadline: 29 August 2017, 23:55\" href=\"ccdspann.php?id=29129\">Project Support Assistant / British Embassy Yerevan</a></td>\n",
       "</tr>\n",
       "<tr>\n",
       "<td valign=\"top\" width=\"8\"><img border=\"0\" src=\"images/bullet_fs.jpg\" width=\"6\" height=\"6\" vspace=\"6\" alt=\"bullet\" /></td>\n",
       "<td><a title=\"Application Deadline: 10 September 2017\" href=\"ccdspann.php?id=29139\">Mobile Core Network Engineer / Ucom</a></td>\n",
       "</tr>\n",
       "<tr>\n",
       "<td valign=\"top\" width=\"8\"><img border=\"0\" src=\"images/bullet_fs.jpg\" width=\"6\" height=\"6\" vspace=\"6\" alt=\"bullet\" /></td>\n",
       "<td><a title=\"Application Deadline: 31 August 2017\" href=\"ccdspann.php?id=29138\">Project Services Manager / Lydian Armenia</a></td>\n",
       "</tr>\n",
       "<tr>\n",
       "<td valign=\"top\" width=\"8\"><img border=\"0\" src=\"images/bullet_fs.jpg\" width=\"6\" height=\"6\" vspace=\"6\" alt=\"bullet\" /></td>\n",
       "<td><a title=\"Application Deadline: 20 August 2017\" href=\"ccdspann.php?id=29135\">Third Class Specialist, Information Systems Service Unit / Ardshinbank</a></td>\n",
       "</tr>\n",
       "<tr>\n",
       "<td valign=\"top\" width=\"8\"><img border=\"0\" src=\"images/bullet_fs.jpg\" width=\"6\" height=\"6\" vspace=\"6\" alt=\"bullet\" /></td>\n",
       "<td><a title=\"Application Deadline: 27 August 2017\" href=\"ccdspann.php?id=29126\">Incoming Tour Manager / Go Nature</a></td>\n",
       "</tr>\n",
       "<tr>\n",
       "<td valign=\"top\" width=\"8\"><img border=\"0\" src=\"images/bullet_fs.jpg\" width=\"6\" height=\"6\" vspace=\"6\" alt=\"bullet\" /></td>\n",
       "<td><a title=\"Application Deadline: 24 August 2017\" href=\"ccdspann.php?id=29136\">Psychologist/ PSS Specialist / Armenian Red Cross Society</a></td>\n",
       "</tr>\n",
       "<tr>\n",
       "<td valign=\"top\" width=\"8\"><img border=\"0\" src=\"images/bullet_fs.jpg\" width=\"6\" height=\"6\" vspace=\"6\" alt=\"bullet\" /></td>\n",
       "<td><a title=\"Application Deadline: 10 September 2017\" href=\"ccdspann.php?id=29130\">IT Business Developer  / Softler</a></td>\n",
       "</tr>\n",
       "<tr>\n",
       "<td valign=\"top\" width=\"8\"><img border=\"0\" src=\"images/bullet_fs.jpg\" width=\"6\" height=\"6\" vspace=\"6\" alt=\"bullet\" /></td>\n",
       "<td><a title=\"Application Deadline: 20 August 2017\" href=\"ccdspann.php?id=29133\">First Class Specialist, Information Systems Investment Unit / Ardshinbank</a></td>\n",
       "</tr>\n",
       "<tr>\n",
       "<td valign=\"top\" width=\"8\"><img border=\"0\" src=\"images/bullet_fs.jpg\" width=\"6\" height=\"6\" vspace=\"6\" alt=\"bullet\" /></td>\n",
       "<td><a title=\"Application Deadline: 20 August 2017\" href=\"ccdspann.php?id=29134\">First Class Specialist/ Administrator of Automated Systems Management Unit / Ardshinbank</a></td>\n",
       "</tr>\n",
       "<tr>\n",
       "<td valign=\"top\" width=\"8\"><img border=\"0\" src=\"images/bullet_fs.jpg\" width=\"6\" height=\"6\" vspace=\"6\" alt=\"bullet\" /></td>\n",
       "<td><a title=\"Application Deadline: 10 September 2017\" href=\"ccdspann.php?id=29125\">JavaScript Developer / Renderforest</a></td>\n",
       "</tr>\n",
       "<tr>\n",
       "<td valign=\"top\" width=\"8\"><img border=\"0\" src=\"images/bullet_fs.jpg\" width=\"6\" height=\"6\" vspace=\"6\" alt=\"bullet\" /></td>\n",
       "<td><a title=\"Application Deadline: 10 September 2017\" href=\"ccdspann.php?id=29131\">Senior Lawyer / Legelata</a></td>\n",
       "</tr>\n",
       "<tr>\n",
       "<td valign=\"top\" width=\"8\"><img border=\"0\" src=\"images/bullet_fs.jpg\" width=\"6\" height=\"6\" vspace=\"6\" alt=\"bullet\" /></td>\n",
       "<td><a title=\"Application Deadline: 31 August 2017\" href=\"ccdspann.php?id=29132\">Customer Attraction Specialist / Prometey Bank</a></td>\n",
       "</tr>\n",
       "<tr>\n",
       "<td valign=\"top\" width=\"8\"><img border=\"0\" src=\"images/bullet_fs.jpg\" width=\"6\" height=\"6\" vspace=\"6\" alt=\"bullet\" /></td>\n",
       "<td><a title=\"Application Deadline: 10 September 2017\" href=\"ccdspann.php?id=29112\">Senior Graphic Designer / Zuck&amp;Berg Agency</a></td>\n",
       "</tr>\n",
       "<tr>\n",
       "<td valign=\"top\" width=\"8\"><img border=\"0\" src=\"images/bullet_fs.jpg\" width=\"6\" height=\"6\" vspace=\"6\" alt=\"bullet\" /></td>\n",
       "<td><a title=\"Application Deadline: 10 September 2017\" href=\"ccdspann.php?id=29128\">Network Administrator / FINCA UCO</a></td>\n",
       "</tr>\n",
       "<tr>\n",
       "<td valign=\"top\" width=\"8\"><img border=\"0\" src=\"images/bullet_fs.jpg\" width=\"6\" height=\"6\" vspace=\"6\" alt=\"bullet\" /></td>\n",
       "<td><a title=\"Application Deadline: 09 September 2017\" href=\"ccdspann.php?id=29118\">Health and Safety Specialist / MLL Industrial</a></td>\n",
       "</tr>\n",
       "<tr>\n",
       "<td valign=\"top\" width=\"8\"><img border=\"0\" src=\"images/bullet_fs.jpg\" width=\"6\" height=\"6\" vspace=\"6\" alt=\"bullet\" /></td>\n",
       "<td><a title=\"Application Deadline: 27 August 2017\" href=\"ccdspann.php?id=29119\">Mathematics Teacher / RSM International</a></td>\n",
       "</tr>\n",
       "<tr>\n",
       "<td valign=\"top\" width=\"8\"><img border=\"0\" src=\"images/bullet_fs.jpg\" width=\"6\" height=\"6\" vspace=\"6\" alt=\"bullet\" /></td>\n",
       "<td><a title=\"Application Deadline: 24 August 2017\" href=\"ccdspann.php?id=29122\">HR Assistant/ Moderator / Career Center</a></td>\n",
       "</tr>\n",
       "<tr>\n",
       "<td valign=\"top\" width=\"8\"><img border=\"0\" src=\"images/bullet_fs.jpg\" width=\"6\" height=\"6\" vspace=\"6\" alt=\"bullet\" /></td>\n",
       "<td><a title=\"Application Deadline: 18 August 2017\" href=\"ccdspann.php?id=29121\">Lawyer / Concern-Dialog</a></td>\n",
       "</tr>\n",
       "<tr>\n",
       "<td valign=\"top\" width=\"8\"><img border=\"0\" src=\"images/bullet_fs.jpg\" width=\"6\" height=\"6\" vspace=\"6\" alt=\"bullet\" /></td>\n",
       "<td><a title=\"Application Deadline: 09 September 2017\" href=\"ccdspann.php?id=29116\">Junior Web and Mobile QA Analyst / Questrade-Armenia</a></td>\n",
       "</tr>\n",
       "<tr>\n",
       "<td valign=\"top\" width=\"8\"><img border=\"0\" src=\"images/bullet_fs.jpg\" width=\"6\" height=\"6\" vspace=\"6\" alt=\"bullet\" /></td>\n",
       "<td><a title=\"Application Deadline: 09 September 2017\" href=\"ccdspann.php?id=29107\">Digital and Social Marketing Specialist / Zip Couriers</a></td>\n",
       "</tr>\n",
       "<tr>\n",
       "<td valign=\"top\" width=\"8\"><img border=\"0\" src=\"images/bullet_fs.jpg\" width=\"6\" height=\"6\" vspace=\"6\" alt=\"bullet\" /></td>\n",
       "<td><a title=\"Application Deadline: 09 September 2017\" href=\"ccdspann.php?id=29111\">Accountant / KPartners</a></td>\n",
       "</tr>\n",
       "<tr>\n",
       "<td valign=\"top\" width=\"8\"><img border=\"0\" src=\"images/bullet_fs.jpg\" width=\"6\" height=\"6\" vspace=\"6\" alt=\"bullet\" /></td>\n",
       "<td><a title=\"Application Deadline: 09 September 2017\" href=\"ccdspann.php?id=29113\">Construction Engineer / HAEKSHIN</a></td>\n",
       "</tr>\n",
       "<tr>\n",
       "<td valign=\"top\" width=\"8\"><img border=\"0\" src=\"images/bullet_fs.jpg\" width=\"6\" height=\"6\" vspace=\"6\" alt=\"bullet\" /></td>\n",
       "<td><a title=\"Application Deadline: 25 August 2017\" href=\"ccdspann.php?id=29115\">Head Office Teller/ Operator / Prometey Bank</a></td>\n",
       "</tr>\n",
       "<tr>\n",
       "<td valign=\"top\" width=\"8\"><img border=\"0\" src=\"images/bullet_fs.jpg\" width=\"6\" height=\"6\" vspace=\"6\" alt=\"bullet\" /></td>\n",
       "<td><a title=\"Application Deadline: 08 September 2017\" href=\"ccdspann.php?id=29105\">Deputy Store Manager / Zigzag</a></td>\n",
       "</tr>\n",
       "<tr>\n",
       "<td valign=\"top\" width=\"8\"><img border=\"0\" src=\"images/bullet_fs.jpg\" width=\"6\" height=\"6\" vspace=\"6\" alt=\"bullet\" /></td>\n",
       "<td><a title=\"Application Deadline: 08 September 2017\" href=\"ccdspann.php?id=29102\">Sales Manager / Motion Time</a></td>\n",
       "</tr>\n",
       "<tr>\n",
       "<td valign=\"top\" width=\"8\"><img border=\"0\" src=\"images/bullet_fs.jpg\" width=\"6\" height=\"6\" vspace=\"6\" alt=\"bullet\" /></td>\n",
       "<td><a title=\"Application Deadline: 08 September 2017\" href=\"ccdspann.php?id=29099\">Digital Marketing Specialist / Motion Time</a></td>\n",
       "</tr>\n",
       "<tr>\n",
       "<td valign=\"top\" width=\"8\"><img border=\"0\" src=\"images/bullet_fs.jpg\" width=\"6\" height=\"6\" vspace=\"6\" alt=\"bullet\" /></td>\n",
       "<td><a title=\"Application Deadline: 08 September 2017\" href=\"ccdspann.php?id=29103\">Financier / Tiger Group</a></td>\n",
       "</tr>\n",
       "<tr>\n",
       "<td valign=\"top\" width=\"8\"><img border=\"0\" src=\"images/bullet_fs.jpg\" width=\"6\" height=\"6\" vspace=\"6\" alt=\"bullet\" /></td>\n",
       "<td><a title=\"Application Deadline: 08 September 2017\" href=\"ccdspann.php?id=29110\">IT Marketing Specialist / Zangi</a></td>\n",
       "</tr>\n",
       "<tr>\n",
       "<td valign=\"top\" width=\"8\"><img border=\"0\" src=\"images/bullet_fs.jpg\" width=\"6\" height=\"6\" vspace=\"6\" alt=\"bullet\" /></td>\n",
       "<td><a title=\"Application Deadline: 08 September 2017\" href=\"ccdspann.php?id=29109\">Finance and Billing Officer / Dexatel</a></td>\n",
       "</tr>\n",
       "<tr>\n",
       "<td valign=\"top\" width=\"8\"><img border=\"0\" src=\"images/bullet_fs.jpg\" width=\"6\" height=\"6\" vspace=\"6\" alt=\"bullet\" /></td>\n",
       "<td><a title=\"Application Deadline: 31 August 2017\" href=\"ccdspann.php?id=29106\">Project Manager / Webb Fontaine Holding</a></td>\n",
       "</tr>\n",
       "<tr>\n",
       "<td valign=\"top\" width=\"8\"><img border=\"0\" src=\"images/bullet_fs.jpg\" width=\"6\" height=\"6\" vspace=\"6\" alt=\"bullet\" /></td>\n",
       "<td><a title=\"Application Deadline: 08 September 2017\" href=\"ccdspann.php?id=29070\">SEO/ Google AdWords Specialist / GAT Cutting</a></td>\n",
       "</tr>\n",
       "<tr>\n",
       "<td valign=\"top\" width=\"8\"><img border=\"0\" src=\"images/bullet_fs.jpg\" width=\"6\" height=\"6\" vspace=\"6\" alt=\"bullet\" /></td>\n",
       "<td><a title=\"Application Deadline: 07 September 2017\" href=\"ccdspann.php?id=29104\">Unix and Database Administrator / FXTM Armenia</a></td>\n",
       "</tr>\n",
       "<tr>\n",
       "<td valign=\"top\" width=\"8\"><img border=\"0\" src=\"images/bullet_fs.jpg\" width=\"6\" height=\"6\" vspace=\"6\" alt=\"bullet\" /></td>\n",
       "<td><a title=\"Application Deadline: 07 September 2017\" href=\"ccdspann.php?id=29095\">Full Stack PHP Developer / Citymobil</a></td>\n",
       "</tr>\n",
       "<tr>\n",
       "<td valign=\"top\" width=\"8\"><img border=\"0\" src=\"images/bullet_fs.jpg\" width=\"6\" height=\"6\" vspace=\"6\" alt=\"bullet\" /></td>\n",
       "<td><a title=\"Application Deadline: 07 September 2017\" href=\"ccdspann.php?id=29100\">Administrative Assistant / BD Group</a></td>\n",
       "</tr>\n",
       "<tr>\n",
       "<td valign=\"top\" width=\"8\"><img border=\"0\" src=\"images/bullet_fs.jpg\" width=\"6\" height=\"6\" vspace=\"6\" alt=\"bullet\" /></td>\n",
       "<td><a title=\"Application Deadline: 22 August 2017\" href=\"ccdspann.php?id=29096\">Business Facilitator/ Project Coordinator / World Vision Armenia</a></td>\n",
       "</tr>\n",
       "<tr>\n",
       "<td valign=\"top\" width=\"8\"><img border=\"0\" src=\"images/bullet_fs.jpg\" width=\"6\" height=\"6\" vspace=\"6\" alt=\"bullet\" /></td>\n",
       "<td><a title=\"Application Deadline: 22 August 2017\" href=\"ccdspann.php?id=29094\">Employment Case Manager / World Vision Armenia</a></td>\n",
       "</tr>\n",
       "<tr>\n",
       "<td valign=\"top\" width=\"8\"><img border=\"0\" src=\"images/bullet_fs.jpg\" width=\"6\" height=\"6\" vspace=\"6\" alt=\"bullet\" /></td>\n",
       "<td><a title=\"Application Deadline: 07 September 2017\" href=\"ccdspann.php?id=29034\">Operator / Microring</a></td>\n",
       "</tr>\n",
       "<tr>\n",
       "<td valign=\"top\" width=\"8\"><img border=\"0\" src=\"images/bullet_fs.jpg\" width=\"6\" height=\"6\" vspace=\"6\" alt=\"bullet\" /></td>\n",
       "<td><a title=\"Application Deadline: 07 September 2017\" href=\"ccdspann.php?id=29091\">Customer Support Representative / FXTM Armenia</a></td>\n",
       "</tr>\n",
       "<tr>\n",
       "<td valign=\"top\" width=\"8\"><img border=\"0\" src=\"images/bullet_fs.jpg\" width=\"6\" height=\"6\" vspace=\"6\" alt=\"bullet\" /></td>\n",
       "<td><a title=\"Application Deadline: 27 August 2017\" href=\"ccdspann.php?id=29093\">Head of Leasing Unit / Ameriabank</a></td>\n",
       "</tr>\n",
       "<tr>\n",
       "<td valign=\"top\" width=\"8\"><img border=\"0\" src=\"images/bullet_fs.jpg\" width=\"6\" height=\"6\" vspace=\"6\" alt=\"bullet\" /></td>\n",
       "<td><a title=\"Application Deadline: 06 September 2017\" href=\"ccdspann.php?id=29038\">Sales Consultant / Grand Sport</a></td>\n",
       "</tr>\n",
       "<tr>\n",
       "<td valign=\"top\" width=\"8\"><img border=\"0\" src=\"images/bullet_fs.jpg\" width=\"6\" height=\"6\" vspace=\"6\" alt=\"bullet\" /></td>\n",
       "<td><a title=\"Application Deadline: 06 September 2017\" href=\"ccdspann.php?id=29081\">Aurora Humanitarian Initiative Chief Operations Officer / IDeA Foundation</a></td>\n",
       "</tr>\n",
       "<tr>\n",
       "<td valign=\"top\" width=\"8\"><img border=\"0\" src=\"images/bullet_fs.jpg\" width=\"6\" height=\"6\" vspace=\"6\" alt=\"bullet\" /></td>\n",
       "<td><a title=\"Application Deadline: 06 September 2017\" href=\"ccdspann.php?id=29087\">Aurora Humanitarian Initiative Partnerships Director / IDeA Foundation</a></td>\n",
       "</tr>\n",
       "<tr>\n",
       "<td valign=\"top\" width=\"8\"><img border=\"0\" src=\"images/bullet_fs.jpg\" width=\"6\" height=\"6\" vspace=\"6\" alt=\"bullet\" /></td>\n",
       "<td><a title=\"Application Deadline: 06 September 2017\" href=\"ccdspann.php?id=29086\">Aurora Humanitarian Initiative Content and Creative Director/ Editor-in-Chief / IDeA Foundation</a></td>\n",
       "</tr>\n",
       "<tr>\n",
       "<td valign=\"top\" width=\"8\"><img border=\"0\" src=\"images/bullet_fs.jpg\" width=\"6\" height=\"6\" vspace=\"6\" alt=\"bullet\" /></td>\n",
       "<td><a title=\"Application Deadline: 06 September 2017\" href=\"ccdspann.php?id=29080\">Aurora Humanitarian Initiative Communications Director / IDeA Foundation</a></td>\n",
       "</tr>\n",
       "<tr>\n",
       "<td valign=\"top\" width=\"8\"><img border=\"0\" src=\"images/bullet_fs.jpg\" width=\"6\" height=\"6\" vspace=\"6\" alt=\"bullet\" /></td>\n",
       "<td><a title=\"Application Deadline: 06 September 2017\" href=\"ccdspann.php?id=29073\">Head of Internal Audit Department / Bacon Product</a></td>\n",
       "</tr>\n",
       "<tr>\n",
       "<td valign=\"top\" width=\"8\"><img border=\"0\" src=\"images/bullet_fs.jpg\" width=\"6\" height=\"6\" vspace=\"6\" alt=\"bullet\" /></td>\n",
       "<td><a title=\"Application Deadline: 06 September 2017\" href=\"ccdspann.php?id=29089\">Branch Representative / HSBC Bank Armenia</a></td>\n",
       "</tr>\n",
       "<tr>\n",
       "<td valign=\"top\" width=\"8\"><img border=\"0\" src=\"images/bullet_fs.jpg\" width=\"6\" height=\"6\" vspace=\"6\" alt=\"bullet\" /></td>\n",
       "<td><a title=\"Application Deadline: 06 September 2017\" href=\"ccdspann.php?id=29088\">Contact Center Agent / HSBC Bank Armenia</a></td>\n",
       "</tr>\n",
       "<tr>\n",
       "<td valign=\"top\" width=\"8\"><img border=\"0\" src=\"images/bullet_fs.jpg\" width=\"6\" height=\"6\" vspace=\"6\" alt=\"bullet\" /></td>\n",
       "<td><a title=\"Application Deadline: 06 September 2017\" href=\"ccdspann.php?id=29092\">Senior JavaScript Developer / Digitain</a></td>\n",
       "</tr>\n",
       "<tr>\n",
       "<td valign=\"top\" width=\"8\"><img border=\"0\" src=\"images/bullet_fs.jpg\" width=\"6\" height=\"6\" vspace=\"6\" alt=\"bullet\" /></td>\n",
       "<td><a title=\"Application Deadline: 16 August 2017\" href=\"ccdspann.php?id=29090\">Client Manager / Ameriabank</a></td>\n",
       "</tr>\n",
       "<tr>\n",
       "<td valign=\"top\" width=\"8\"><img border=\"0\" src=\"images/bullet_fs.jpg\" width=\"6\" height=\"6\" vspace=\"6\" alt=\"bullet\" /></td>\n",
       "<td><a title=\"Application Deadline: 16 August 2017\" href=\"ccdspann.php?id=29079\">Loan Officer / Ameriabank</a></td>\n",
       "</tr>\n",
       "<tr>\n",
       "<td valign=\"top\" width=\"8\"><img border=\"0\" src=\"images/bullet_fs.jpg\" width=\"6\" height=\"6\" vspace=\"6\" alt=\"bullet\" /></td>\n",
       "<td><a title=\"Application Deadline: 16 August 2017\" href=\"ccdspann.php?id=29078\">Teller / Ameriabank</a></td>\n",
       "</tr>\n",
       "<tr>\n",
       "<td valign=\"top\" width=\"8\"><img border=\"0\" src=\"images/bullet_fs.jpg\" width=\"6\" height=\"6\" vspace=\"6\" alt=\"bullet\" /></td>\n",
       "<td><a title=\"Application Deadline: 16 August 2017\" href=\"ccdspann.php?id=29076\">Head of Operational Unit / Ameriabank</a></td>\n",
       "</tr>\n",
       "<tr>\n",
       "<td valign=\"top\" width=\"8\"><img border=\"0\" src=\"images/bullet_fs.jpg\" width=\"6\" height=\"6\" vspace=\"6\" alt=\"bullet\" /></td>\n",
       "<td><a title=\"Application Deadline: 16 August 2017\" href=\"ccdspann.php?id=29075\">Senior Cashier / Ameriabank</a></td>\n",
       "</tr>\n",
       "<tr>\n",
       "<td valign=\"top\" width=\"8\"><img border=\"0\" src=\"images/bullet_fs.jpg\" width=\"6\" height=\"6\" vspace=\"6\" alt=\"bullet\" /></td>\n",
       "<td><a title=\"Application Deadline: 16 August 2017\" href=\"ccdspann.php?id=29074\">Branch Manager / Ameriabank</a></td>\n",
       "</tr>\n",
       "<tr>\n",
       "<td valign=\"top\" width=\"8\"><img border=\"0\" src=\"images/bullet_fs.jpg\" width=\"6\" height=\"6\" vspace=\"6\" alt=\"bullet\" /></td>\n",
       "<td><a title=\"Application Deadline: 06 September 2017\" href=\"ccdspann.php?id=29077\">Project Assistant / FINCA UCO</a></td>\n",
       "</tr>\n",
       "<tr>\n",
       "<td valign=\"top\" width=\"8\"><img border=\"0\" src=\"images/bullet_fs.jpg\" width=\"6\" height=\"6\" vspace=\"6\" alt=\"bullet\" /></td>\n",
       "<td><a title=\"Application Deadline: 03 September 2017\" href=\"ccdspann.php?id=29061\">Front Desk Receptionist / Golden Palace North Avenue</a></td>\n",
       "</tr>\n",
       "<tr>\n",
       "<td valign=\"top\" width=\"8\"><img border=\"0\" src=\"images/bullet_fs.jpg\" width=\"6\" height=\"6\" vspace=\"6\" alt=\"bullet\" /></td>\n",
       "<td><a title=\"Application Deadline: 03 September 2017\" href=\"ccdspann.php?id=29063\">Accountant / Golden Palace North Avenue</a></td>\n",
       "</tr>\n",
       "<tr>\n",
       "<td valign=\"top\" width=\"8\"><img border=\"0\" src=\"images/bullet_fs.jpg\" width=\"6\" height=\"6\" vspace=\"6\" alt=\"bullet\" /></td>\n",
       "<td><a title=\"Application Deadline: 03 September 2017\" href=\"ccdspann.php?id=29062\">Food and Beverage Manager / Golden Palace North Avenue</a></td>\n",
       "</tr>\n",
       "<tr>\n",
       "<td valign=\"top\" width=\"8\"><img border=\"0\" src=\"images/bullet_fs.jpg\" width=\"6\" height=\"6\" vspace=\"6\" alt=\"bullet\" /></td>\n",
       "<td><a title=\"Application Deadline: 30 August 2017\" href=\"ccdspann.php?id=29058\">HR Coordinator / Shangri La Casino</a></td>\n",
       "</tr>\n",
       "<tr>\n",
       "<td valign=\"top\" width=\"8\"><img border=\"0\" src=\"images/bullet_fs.jpg\" width=\"6\" height=\"6\" vspace=\"6\" alt=\"bullet\" /></td>\n",
       "<td><a title=\"Application Deadline: 31 August 2017\" href=\"ccdspann.php?id=29068\">Leading Specialist, IT Department / Converse Bank</a></td>\n",
       "</tr>\n",
       "<tr>\n",
       "<td valign=\"top\" width=\"8\"><img border=\"0\" src=\"images/bullet_fs.jpg\" width=\"6\" height=\"6\" vspace=\"6\" alt=\"bullet\" /></td>\n",
       "<td><a title=\"Application Deadline: 03 September 2017\" href=\"ccdspann.php?id=29064\">International Relations Manager / TelecoDays</a></td>\n",
       "</tr>\n",
       "<tr>\n",
       "<td valign=\"top\" width=\"8\"><img border=\"0\" src=\"images/bullet_fs.jpg\" width=\"6\" height=\"6\" vspace=\"6\" alt=\"bullet\" /></td>\n",
       "<td><a title=\"Application Deadline: 31 August 2017\" href=\"ccdspann.php?id=29066\">UNIX System Administrator / VivaCell-MTS</a></td>\n",
       "</tr>\n",
       "<tr>\n",
       "<td valign=\"top\" width=\"8\"><img border=\"0\" src=\"images/bullet_fs.jpg\" width=\"6\" height=\"6\" vspace=\"6\" alt=\"bullet\" /></td>\n",
       "<td><a title=\"Application Deadline: 15 August 2017\" href=\"ccdspann.php?id=28995\">Executive Assistant / Sef International UCO</a></td>\n",
       "</tr>\n",
       "<tr>\n",
       "<td valign=\"top\" width=\"8\"><img border=\"0\" src=\"images/bullet_fs.jpg\" width=\"6\" height=\"6\" vspace=\"6\" alt=\"bullet\" /></td>\n",
       "<td><a title=\"Application Deadline: 03 September 2017\" href=\"ccdspann.php?id=29065\">Doctor Expert / Rosgosstrakh-Armenia</a></td>\n",
       "</tr>\n",
       "<tr>\n",
       "<td valign=\"top\" width=\"8\"><img border=\"0\" src=\"images/bullet_fs.jpg\" width=\"6\" height=\"6\" vspace=\"6\" alt=\"bullet\" /></td>\n",
       "<td><a title=\"Application Deadline: 03 September 2017\" href=\"ccdspann.php?id=29060\">QA Specialist / Rosgosstrakh-Armenia</a></td>\n",
       "</tr>\n",
       "<tr>\n",
       "<td valign=\"top\" width=\"8\"><img border=\"0\" src=\"images/bullet_fs.jpg\" width=\"6\" height=\"6\" vspace=\"6\" alt=\"bullet\" /></td>\n",
       "<td><a title=\"Application Deadline: 19 August 2017\" href=\"ccdspann.php?id=29057\">HR Key Account Manager / Cascade Consultants</a></td>\n",
       "</tr>\n",
       "<tr>\n",
       "<td valign=\"top\" width=\"8\"><img border=\"0\" src=\"images/bullet_fs.jpg\" width=\"6\" height=\"6\" vspace=\"6\" alt=\"bullet\" /></td>\n",
       "<td><a title=\"Application Deadline: 03 September 2017\" href=\"ccdspann.php?id=29054\">Senior Procurement Specialist / Ginosi Apartels</a></td>\n",
       "</tr>\n",
       "<tr>\n",
       "<td valign=\"top\" width=\"8\"><img border=\"0\" src=\"images/bullet_fs.jpg\" width=\"6\" height=\"6\" vspace=\"6\" alt=\"bullet\" /></td>\n",
       "<td><a title=\"Application Deadline: 25 August 2017\" href=\"ccdspann.php?id=27319\">Senior CAE / Synopsys Armenia</a></td>\n",
       "</tr>\n",
       "<tr>\n",
       "<td valign=\"top\" width=\"8\"><img border=\"0\" src=\"images/bullet_fs.jpg\" width=\"6\" height=\"6\" vspace=\"6\" alt=\"bullet\" /></td>\n",
       "<td><a title=\"Application Deadline: 02 September 2017\" href=\"ccdspann.php?id=29049\">AML/ Compliance Analyst / NASDAQ OMX Armenia</a></td>\n",
       "</tr>\n",
       "<tr>\n",
       "<td valign=\"top\" width=\"8\"><img border=\"0\" src=\"images/bullet_fs.jpg\" width=\"6\" height=\"6\" vspace=\"6\" alt=\"bullet\" /></td>\n",
       "<td><a title=\"Application Deadline: 02 September 2017\" href=\"ccdspann.php?id=29050\">Java Developer / NASDAQ OMX Armenia</a></td>\n",
       "</tr>\n",
       "<tr>\n",
       "<td valign=\"top\" width=\"8\"><img border=\"0\" src=\"images/bullet_fs.jpg\" width=\"6\" height=\"6\" vspace=\"6\" alt=\"bullet\" /></td>\n",
       "<td><a title=\"Application Deadline: 30 August 2017\" href=\"ccdspann.php?id=29051\">Customer Service Specialist / Enterprise Rent-A-Car</a></td>\n",
       "</tr>\n",
       "<tr>\n",
       "<td valign=\"top\" width=\"8\"><img border=\"0\" src=\"images/bullet_fs.jpg\" width=\"6\" height=\"6\" vspace=\"6\" alt=\"bullet\" /></td>\n",
       "<td><a title=\"Application Deadline: 02 September 2017\" href=\"ccdspann.php?id=29045\">Web Developer / CargoMatrix</a></td>\n",
       "</tr>\n",
       "<tr>\n",
       "<td valign=\"top\" width=\"8\"><img border=\"0\" src=\"images/bullet_fs.jpg\" width=\"6\" height=\"6\" vspace=\"6\" alt=\"bullet\" /></td>\n",
       "<td><a title=\"Application Deadline: 17 August 2017\" href=\"ccdspann.php?id=29052\">Tchambarak Area Program Sponsorship Coordinator / World Vision Armenia</a></td>\n",
       "</tr>\n",
       "<tr>\n",
       "<td valign=\"top\" width=\"8\"><img border=\"0\" src=\"images/bullet_fs.jpg\" width=\"6\" height=\"6\" vspace=\"6\" alt=\"bullet\" /></td>\n",
       "<td><a title=\"Application Deadline: 24 August 2017\" href=\"ccdspann.php?id=29053\">Transformation Projects Manager, General Directorate / ArmenTel</a></td>\n",
       "</tr>\n",
       "<tr>\n",
       "<td valign=\"top\" width=\"8\"><img border=\"0\" src=\"images/bullet_fs.jpg\" width=\"6\" height=\"6\" vspace=\"6\" alt=\"bullet\" /></td>\n",
       "<td><a title=\"Application Deadline: 02 September 2017\" href=\"ccdspann.php?id=29042\">Back-End Software Engineer / Aarki</a></td>\n",
       "</tr>\n",
       "<tr>\n",
       "<td valign=\"top\" width=\"8\"><img border=\"0\" src=\"images/bullet_fs.jpg\" width=\"6\" height=\"6\" vspace=\"6\" alt=\"bullet\" /></td>\n",
       "<td><a title=\"Application Deadline: 02 September 2017\" href=\"ccdspann.php?id=29043\">Data Engineer / Aarki</a></td>\n",
       "</tr>\n",
       "<tr>\n",
       "<td valign=\"top\" width=\"8\"><img border=\"0\" src=\"images/bullet_fs.jpg\" width=\"6\" height=\"6\" vspace=\"6\" alt=\"bullet\" /></td>\n",
       "<td><a title=\"Application Deadline: 02 September 2017\" href=\"ccdspann.php?id=29037\">Senior Marketing Manager / Bacon Product</a></td>\n",
       "</tr>\n",
       "<tr>\n",
       "<td valign=\"top\" width=\"8\"><img border=\"0\" src=\"images/bullet_fs.jpg\" width=\"6\" height=\"6\" vspace=\"6\" alt=\"bullet\" /></td>\n",
       "<td><a title=\"Application Deadline: 21 August 2017\" href=\"ccdspann.php?id=29046\">Project Manager Impact Venture Accelerator / UNDP Armenia Office</a></td>\n",
       "</tr>\n",
       "<tr>\n",
       "<td valign=\"top\" width=\"8\"><img border=\"0\" src=\"images/bullet_fs.jpg\" width=\"6\" height=\"6\" vspace=\"6\" alt=\"bullet\" /></td>\n",
       "<td><a title=\"Application Deadline: 14 August 2017, 17:00\" href=\"ccdspann.php?id=29044\">Short-Term Consultant for the Programme &quot;Private Sector Development and Technical Vocational Education and Training South Caucasus&quot; / GIZ</a></td>\n",
       "</tr>\n",
       "<tr>\n",
       "<td valign=\"top\" width=\"8\"><img border=\"0\" src=\"images/bullet_fs.jpg\" width=\"6\" height=\"6\" vspace=\"6\" alt=\"bullet\" /></td>\n",
       "<td><a title=\"Application Deadline: 31 August 2017\" href=\"ccdspann.php?id=29035\">Health and Safety Superintendent / Lydian Armenia</a></td>\n",
       "</tr>\n",
       "<tr>\n",
       "<td valign=\"top\" width=\"8\"><img border=\"0\" src=\"images/bullet_fs.jpg\" width=\"6\" height=\"6\" vspace=\"6\" alt=\"bullet\" /></td>\n",
       "<td><a title=\"Application Deadline: 31 August 2017\" href=\"ccdspann.php?id=29036\">Chief Mechanical Engineer / Lydian Armenia</a></td>\n",
       "</tr>\n",
       "<tr>\n",
       "<td valign=\"top\" width=\"8\"><img border=\"0\" src=\"images/bullet_fs.jpg\" width=\"6\" height=\"6\" vspace=\"6\" alt=\"bullet\" /></td>\n",
       "<td><a title=\"Application Deadline: 16 August 2017\" href=\"ccdspann.php?id=29040\">Procurement Officer / World Vision Armenia</a></td>\n",
       "</tr>\n",
       "<tr>\n",
       "<td valign=\"top\" width=\"8\"><img border=\"0\" src=\"images/bullet_fs.jpg\" width=\"6\" height=\"6\" vspace=\"6\" alt=\"bullet\" /></td>\n",
       "<td><a title=\"Application Deadline: 15 August 2017\" href=\"ccdspann.php?id=29008\">Project Manager, Information and Communication Technologies Department / Central Bank of Armenia</a></td>\n",
       "</tr>\n",
       "<tr>\n",
       "<td valign=\"top\" width=\"8\"><img border=\"0\" src=\"images/bullet_fs.jpg\" width=\"6\" height=\"6\" vspace=\"6\" alt=\"bullet\" /></td>\n",
       "<td><a title=\"Application Deadline: 30 August 2017\" href=\"ccdspann.php?id=29039\">Service Support Engineer / Ucom</a></td>\n",
       "</tr>\n",
       "<tr>\n",
       "<td valign=\"top\" width=\"8\"><img border=\"0\" src=\"images/bullet_fs.jpg\" width=\"6\" height=\"6\" vspace=\"6\" alt=\"bullet\" /></td>\n",
       "<td><a title=\"Application Deadline: 01 September 2017\" href=\"ccdspann.php?id=29000\">Sales Consultant / AWI Group</a></td>\n",
       "</tr>\n",
       "<tr>\n",
       "<td valign=\"top\" width=\"8\"><img border=\"0\" src=\"images/bullet_fs.jpg\" width=\"6\" height=\"6\" vspace=\"6\" alt=\"bullet\" /></td>\n",
       "<td><a title=\"Application Deadline: 20 August 2017\" href=\"ccdspann.php?id=29026\">Financial Adviser / Anelik Bank</a></td>\n",
       "</tr>\n",
       "<tr>\n",
       "<td valign=\"top\" width=\"8\"><img border=\"0\" src=\"images/bullet_fs.jpg\" width=\"6\" height=\"6\" vspace=\"6\" alt=\"bullet\" /></td>\n",
       "<td><a title=\"Application Deadline: 31 August 2017\" href=\"ccdspann.php?id=29029\">Import/ Export Manager / Baldi Retail</a></td>\n",
       "</tr>\n",
       "<tr>\n",
       "<td valign=\"top\" width=\"8\"><img border=\"0\" src=\"images/bullet_fs.jpg\" width=\"6\" height=\"6\" vspace=\"6\" alt=\"bullet\" /></td>\n",
       "<td><a title=\"Application Deadline: 31 August 2017\" href=\"ccdspann.php?id=29028\">PHP Developer / Baldi Retail</a></td>\n",
       "</tr>\n",
       "<tr>\n",
       "<td valign=\"top\" width=\"8\"><img border=\"0\" src=\"images/bullet_fs.jpg\" width=\"6\" height=\"6\" vspace=\"6\" alt=\"bullet\" /></td>\n",
       "<td><a title=\"Application Deadline: 22 August 2017\" href=\"ccdspann.php?id=29024\">Projects Manager / ArmenTel</a></td>\n",
       "</tr>\n",
       "<tr>\n",
       "<td valign=\"top\" width=\"8\"><img border=\"0\" src=\"images/bullet_fs.jpg\" width=\"6\" height=\"6\" vspace=\"6\" alt=\"bullet\" /></td>\n",
       "<td><a title=\"Application Deadline: 22 August 2017\" href=\"ccdspann.php?id=29023\">Product Manager / ArmenTel</a></td>\n",
       "</tr>\n",
       "<tr>\n",
       "<td valign=\"top\" width=\"8\"><img border=\"0\" src=\"images/bullet_fs.jpg\" width=\"6\" height=\"6\" vspace=\"6\" alt=\"bullet\" /></td>\n",
       "<td><a title=\"Application Deadline: 22 August 2017\" href=\"ccdspann.php?id=29019\">Risk Management and Business Control Specialist  / ArmenTel</a></td>\n",
       "</tr>\n",
       "<tr>\n",
       "<td valign=\"top\" width=\"8\"><img border=\"0\" src=\"images/bullet_fs.jpg\" width=\"6\" height=\"6\" vspace=\"6\" alt=\"bullet\" /></td>\n",
       "<td><a title=\"Application Deadline: 22 August 2017\" href=\"ccdspann.php?id=29025\">Head of Fraud Management and Revenue Assurance Division / ArmenTel</a></td>\n",
       "</tr>\n",
       "<tr>\n",
       "<td valign=\"top\" width=\"8\"><img border=\"0\" src=\"images/bullet_fs.jpg\" width=\"6\" height=\"6\" vspace=\"6\" alt=\"bullet\" /></td>\n",
       "<td><a title=\"Application Deadline: 15 August 2017\" href=\"ccdspann.php?id=29020\">Senior Project Officer / Fund for Armenian Relief</a></td>\n",
       "</tr>\n",
       "<tr>\n",
       "<td valign=\"top\" width=\"8\"><img border=\"0\" src=\"images/bullet_fs.jpg\" width=\"6\" height=\"6\" vspace=\"6\" alt=\"bullet\" /></td>\n",
       "<td><a title=\"Application Deadline: 31 August 2017\" href=\"ccdspann.php?id=29021\">HR Specialist / SAS Group</a></td>\n",
       "</tr>\n",
       "<tr>\n",
       "<td valign=\"top\" width=\"8\"><img border=\"0\" src=\"images/bullet_fs.jpg\" width=\"6\" height=\"6\" vspace=\"6\" alt=\"bullet\" /></td>\n",
       "<td><a title=\"Application Deadline: 20 August 2017\" href=\"ccdspann.php?id=29022\">Senior .NET Developer / e-Works</a></td>\n",
       "</tr>\n",
       "<tr>\n",
       "<td valign=\"top\" width=\"8\"><img border=\"0\" src=\"images/bullet_fs.jpg\" width=\"6\" height=\"6\" vspace=\"6\" alt=\"bullet\" /></td>\n",
       "<td><a title=\"Application Deadline: 20 August 2017\" href=\"ccdspann.php?id=29018\">Senior Consultant/ Local Team Leader for Supporting the Development of &quot;National Strategy on Environmental Education&quot; in Armenia / UNDP Armenia Office</a></td>\n",
       "</tr>\n",
       "<tr>\n",
       "<td valign=\"top\" width=\"8\"><img border=\"0\" src=\"images/bullet_fs.jpg\" width=\"6\" height=\"6\" vspace=\"6\" alt=\"bullet\" /></td>\n",
       "<td><a title=\"Application Deadline: 20 August 2017\" href=\"ccdspann.php?id=29017\">Consultant for the Development of &quot;Pre-School, General School and Vocational Education Components of National Strategy on Environmental Education&quot; / UNDP Armenia Office</a></td>\n",
       "</tr>\n",
       "<tr>\n",
       "<td valign=\"top\" width=\"8\"><img border=\"0\" src=\"images/bullet_fs.jpg\" width=\"6\" height=\"6\" vspace=\"6\" alt=\"bullet\" /></td>\n",
       "<td><a title=\"Application Deadline: 20 August 2017\" href=\"ccdspann.php?id=29016\">Consultant for the Development of &quot;Tertiary (Higher) and Post-Graduate Education components of National Strategy for Environmental Education&quot; / UNDP Armenia Office</a></td>\n",
       "</tr>\n",
       "<tr>\n",
       "<td valign=\"top\" width=\"8\"><img border=\"0\" src=\"images/bullet_fs.jpg\" width=\"6\" height=\"6\" vspace=\"6\" alt=\"bullet\" /></td>\n",
       "<td><a title=\"Application Deadline: 20 August 2017\" href=\"ccdspann.php?id=29015\">Consultant for the Development of &quot;Supplementary Education Components of National Strategy on Environmental Education&quot; / UNDP Armenia Office</a></td>\n",
       "</tr>\n",
       "<tr>\n",
       "<td valign=\"top\" width=\"8\"><img border=\"0\" src=\"images/bullet_fs.jpg\" width=\"6\" height=\"6\" vspace=\"6\" alt=\"bullet\" /></td>\n",
       "<td><a title=\"Application Deadline: 20 August 2017\" href=\"ccdspann.php?id=29014\">Consultant for the Development of &quot;Public Awareness Components of National Strategy for Environmental Education&quot; / UNDP Armenia Office</a></td>\n",
       "</tr>\n",
       "<tr>\n",
       "<td valign=\"top\" width=\"8\"><img border=\"0\" src=\"images/bullet_fs.jpg\" width=\"6\" height=\"6\" vspace=\"6\" alt=\"bullet\" /></td>\n",
       "<td><a title=\"Application Deadline: 31 August 2017\" href=\"ccdspann.php?id=28684\">Math Teacher / CIS Armenia</a></td>\n",
       "</tr>\n",
       "<tr>\n",
       "<td valign=\"top\" width=\"8\"><img border=\"0\" src=\"images/bullet_fs.jpg\" width=\"6\" height=\"6\" vspace=\"6\" alt=\"bullet\" /></td>\n",
       "<td><a title=\"Application Deadline: 31 August 2017\" href=\"ccdspann.php?id=29010\">Sales Executive / Rumors</a></td>\n",
       "</tr>\n",
       "<tr>\n",
       "<td valign=\"top\" width=\"8\"><img border=\"0\" src=\"images/bullet_fs.jpg\" width=\"6\" height=\"6\" vspace=\"6\" alt=\"bullet\" /></td>\n",
       "<td><a title=\"Application Deadline: 20 August 2017\" href=\"ccdspann.php?id=29013\">iOS Developer / e-Works</a></td>\n",
       "</tr>\n",
       "<tr>\n",
       "<td valign=\"top\" width=\"8\"><img border=\"0\" src=\"images/bullet_fs.jpg\" width=\"6\" height=\"6\" vspace=\"6\" alt=\"bullet\" /></td>\n",
       "<td><a title=\"Application Deadline: 20 August 2017\" href=\"ccdspann.php?id=29011\">PHP Developer / e-Works</a></td>\n",
       "</tr>\n",
       "<tr>\n",
       "<td valign=\"top\" width=\"8\"><img border=\"0\" src=\"images/bullet_fs.jpg\" width=\"6\" height=\"6\" vspace=\"6\" alt=\"bullet\" /></td>\n",
       "<td><a title=\"Application Deadline: 31 August 2017\" href=\"ccdspann.php?id=28979\">Sales Assistant / V&amp;B Style</a></td>\n",
       "</tr>\n",
       "<tr>\n",
       "<td valign=\"top\" width=\"8\"><img border=\"0\" src=\"images/bullet_fs.jpg\" width=\"6\" height=\"6\" vspace=\"6\" alt=\"bullet\" /></td>\n",
       "<td><a title=\"Application Deadline: 30 August 2017\" href=\"ccdspann.php?id=29007\">Lawyer / Ares Law Firm</a></td>\n",
       "</tr>\n",
       "<tr>\n",
       "<td valign=\"top\" width=\"8\"><img border=\"0\" src=\"images/bullet_fs.jpg\" width=\"6\" height=\"6\" vspace=\"6\" alt=\"bullet\" /></td>\n",
       "<td><a title=\"Application Deadline: 30 August 2017\" href=\"ccdspann.php?id=29003\">Senior React.js Developer / Renderforest</a></td>\n",
       "</tr>\n",
       "<tr>\n",
       "<td valign=\"top\" width=\"8\"><img border=\"0\" src=\"images/bullet_fs.jpg\" width=\"6\" height=\"6\" vspace=\"6\" alt=\"bullet\" /></td>\n",
       "<td><a title=\"Application Deadline: 30 August 2017\" href=\"ccdspann.php?id=29004\">Senior DevOps Engineer / Renderforest</a></td>\n",
       "</tr>\n",
       "<tr>\n",
       "<td valign=\"top\" width=\"8\"><img border=\"0\" src=\"images/bullet_fs.jpg\" width=\"6\" height=\"6\" vspace=\"6\" alt=\"bullet\" /></td>\n",
       "<td><a title=\"Application Deadline: 30 August 2017\" href=\"ccdspann.php?id=29006\">Branch Responsible / Varks.am</a></td>\n",
       "</tr>\n",
       "<tr>\n",
       "<td valign=\"top\" width=\"8\"><img border=\"0\" src=\"images/bullet_fs.jpg\" width=\"6\" height=\"6\" vspace=\"6\" alt=\"bullet\" /></td>\n",
       "<td><a title=\"Application Deadline: 27 August 2017\" href=\"ccdspann.php?id=28991\">Reporting Analyst / InterTech</a></td>\n",
       "</tr>\n",
       "<tr>\n",
       "<td valign=\"top\" width=\"8\"><img border=\"0\" src=\"images/bullet_fs.jpg\" width=\"6\" height=\"6\" vspace=\"6\" alt=\"bullet\" /></td>\n",
       "<td><a title=\"Application Deadline: 27 August 2017\" href=\"ccdspann.php?id=29001\">Chinese Speaking Account Opening Specialist / FXTM Armenia</a></td>\n",
       "</tr>\n",
       "<tr>\n",
       "<td valign=\"top\" width=\"8\"><img border=\"0\" src=\"images/bullet_fs.jpg\" width=\"6\" height=\"6\" vspace=\"6\" alt=\"bullet\" /></td>\n",
       "<td><a title=\"Application Deadline: 27 August 2017\" href=\"ccdspann.php?id=28996\">Rate Manager / Dexatel</a></td>\n",
       "</tr>\n",
       "<tr>\n",
       "<td valign=\"top\" width=\"8\"><img border=\"0\" src=\"images/bullet_fs.jpg\" width=\"6\" height=\"6\" vspace=\"6\" alt=\"bullet\" /></td>\n",
       "<td><a title=\"Application Deadline: 20 August 2017\" href=\"ccdspann.php?id=28961\">Software Engineer / Ezhome, Inc.</a></td>\n",
       "</tr>\n",
       "<tr>\n",
       "<td valign=\"top\" width=\"8\"><img border=\"0\" src=\"images/bullet_fs.jpg\" width=\"6\" height=\"6\" vspace=\"6\" alt=\"bullet\" /></td>\n",
       "<td><a title=\"Application Deadline: 26 August 2017\" href=\"ccdspann.php?id=28938\">Chief Accountant / Erirus</a></td>\n",
       "</tr>\n",
       "<tr>\n",
       "<td valign=\"top\" width=\"8\"><img border=\"0\" src=\"images/bullet_fs.jpg\" width=\"6\" height=\"6\" vspace=\"6\" alt=\"bullet\" /></td>\n",
       "<td><a title=\"Application Deadline: 26 August 2017\" href=\"ccdspann.php?id=28994\">Incoming Tour Manager / Sidon Travel and Tourism</a></td>\n",
       "</tr>\n",
       "<tr>\n",
       "<td valign=\"top\" width=\"8\"><img border=\"0\" src=\"images/bullet_fs.jpg\" width=\"6\" height=\"6\" vspace=\"6\" alt=\"bullet\" /></td>\n",
       "<td><a title=\"Application Deadline: 20 August 2017\" href=\"ccdspann.php?id=28985\">Lawyer / RA Ministry of Health  Centralized Procurement Organization and Coordination Working Group</a></td>\n",
       "</tr>\n",
       "<tr>\n",
       "<td valign=\"top\" width=\"8\"><img border=\"0\" src=\"images/bullet_fs.jpg\" width=\"6\" height=\"6\" vspace=\"6\" alt=\"bullet\" /></td>\n",
       "<td><a title=\"Application Deadline: 26 August 2017\" href=\"ccdspann.php?id=28993\">IT Reporting Engineer / Ucom</a></td>\n",
       "</tr>\n",
       "<tr>\n",
       "<td valign=\"top\" width=\"8\"><img border=\"0\" src=\"images/bullet_fs.jpg\" width=\"6\" height=\"6\" vspace=\"6\" alt=\"bullet\" /></td>\n",
       "<td><a title=\"Application Deadline: 26 August 2017\" href=\"ccdspann.php?id=28974\">Incoming Tour Specialist  / Anesa Tour</a></td>\n",
       "</tr>\n",
       "<tr>\n",
       "<td valign=\"top\" width=\"8\"><img border=\"0\" src=\"images/bullet_fs.jpg\" width=\"6\" height=\"6\" vspace=\"6\" alt=\"bullet\" /></td>\n",
       "<td><a title=\"Application Deadline: 26 August 2017\" href=\"ccdspann.php?id=28992\">Deputy General Manager / Multi Grand Hotel</a></td>\n",
       "</tr>\n",
       "<tr>\n",
       "<td valign=\"top\" width=\"8\"><img border=\"0\" src=\"images/bullet_fs.jpg\" width=\"6\" height=\"6\" vspace=\"6\" alt=\"bullet\" /></td>\n",
       "<td><a title=\"Application Deadline: 26 August 2017\" href=\"ccdspann.php?id=28989\">Learning Coach in Gyumri / Tumo Center for Creative Technologies</a></td>\n",
       "</tr>\n",
       "<tr>\n",
       "<td valign=\"top\" width=\"8\"><img border=\"0\" src=\"images/bullet_fs.jpg\" width=\"6\" height=\"6\" vspace=\"6\" alt=\"bullet\" /></td>\n",
       "<td><a title=\"Application Deadline: 25 August 2017\" href=\"ccdspann.php?id=28987\">Baldinini Store Manager / Lesona</a></td>\n",
       "</tr>\n",
       "<tr>\n",
       "<td valign=\"top\" width=\"8\"><img border=\"0\" src=\"images/bullet_fs.jpg\" width=\"6\" height=\"6\" vspace=\"6\" alt=\"bullet\" /></td>\n",
       "<td><a title=\"Application Deadline: 25 August 2017\" href=\"ccdspann.php?id=28986\">Brand Manager / Lesona</a></td>\n",
       "</tr>\n",
       "<tr>\n",
       "<td valign=\"top\" width=\"8\"><img border=\"0\" src=\"images/bullet_fs.jpg\" width=\"6\" height=\"6\" vspace=\"6\" alt=\"bullet\" /></td>\n",
       "<td><a title=\"Application Deadline: 25 August 2017\" href=\"ccdspann.php?id=28984\">Corporate Mass Media Journalist / Kapan Mining and Processing Company</a></td>\n",
       "</tr>\n",
       "<tr>\n",
       "<td valign=\"top\" width=\"8\"><img border=\"0\" src=\"images/bullet_fs.jpg\" width=\"6\" height=\"6\" vspace=\"6\" alt=\"bullet\" /></td>\n",
       "<td><a title=\"Application Deadline: 25 August 2017\" href=\"ccdspann.php?id=28981\">Country Head / Sandoz Uzbekistan</a></td>\n",
       "</tr>\n",
       "<tr>\n",
       "<td valign=\"top\" width=\"8\"><img border=\"0\" src=\"images/bullet_fs.jpg\" width=\"6\" height=\"6\" vspace=\"6\" alt=\"bullet\" /></td>\n",
       "<td><a title=\"Application Deadline: 25 August 2017\" href=\"ccdspann.php?id=28982\">Artashat Branch Customer Service Specialist / Varks.am</a></td>\n",
       "</tr>\n",
       "<tr>\n",
       "<td valign=\"top\" width=\"8\"><img border=\"0\" src=\"images/bullet_fs.jpg\" width=\"6\" height=\"6\" vspace=\"6\" alt=\"bullet\" /></td>\n",
       "<td><a title=\"Application Deadline: 15 August 2017\" href=\"ccdspann.php?id=28973\">JavaScript Developer / SoloLearn RA</a></td>\n",
       "</tr>\n",
       "<tr>\n",
       "<td valign=\"top\" width=\"8\"><img border=\"0\" src=\"images/bullet_fs.jpg\" width=\"6\" height=\"6\" vspace=\"6\" alt=\"bullet\" /></td>\n",
       "<td><a title=\"Application Deadline: 18 August 2017\" href=\"ccdspann.php?id=28963\">Recruitment Coordinator / Teach For Armenia</a></td>\n",
       "</tr>\n",
       "<tr>\n",
       "<td valign=\"top\" width=\"8\"><img border=\"0\" src=\"images/bullet_fs.jpg\" width=\"6\" height=\"6\" vspace=\"6\" alt=\"bullet\" /></td>\n",
       "<td><a title=\"Application Deadline: 24 August 2017\" href=\"ccdspann.php?id=28975\">.NET Engineer / Questrade-Armenia</a></td>\n",
       "</tr>\n",
       "<tr>\n",
       "<td valign=\"top\" width=\"8\"><img border=\"0\" src=\"images/bullet_fs.jpg\" width=\"6\" height=\"6\" vspace=\"6\" alt=\"bullet\" /></td>\n",
       "<td><a title=\"Application Deadline: 24 August 2017\" href=\"ccdspann.php?id=28976\">Senior .NET Engineer / Questrade-Armenia</a></td>\n",
       "</tr>\n",
       "<tr>\n",
       "<td valign=\"top\" width=\"8\"><img border=\"0\" src=\"images/bullet_fs.jpg\" width=\"6\" height=\"6\" vspace=\"6\" alt=\"bullet\" /></td>\n",
       "<td><a title=\"Application Deadline: 24 August 2017\" href=\"ccdspann.php?id=28910\">Senior QA Automation Engineer / Benivo</a></td>\n",
       "</tr>\n",
       "<tr>\n",
       "<td valign=\"top\" width=\"8\"><img border=\"0\" src=\"images/bullet_fs.jpg\" width=\"6\" height=\"6\" vspace=\"6\" alt=\"bullet\" /></td>\n",
       "<td><a title=\"Application Deadline: 15 August 2017\" href=\"ccdspann.php?id=28972\">Data Analyst / Varks.am</a></td>\n",
       "</tr>\n",
       "<tr>\n",
       "<td valign=\"top\" width=\"8\"><img border=\"0\" src=\"images/bullet_fs.jpg\" width=\"6\" height=\"6\" vspace=\"6\" alt=\"bullet\" /></td>\n",
       "<td><a title=\"Application Deadline: 23 August 2017\" href=\"ccdspann.php?id=28971\">Accountant / Cinemastar</a></td>\n",
       "</tr>\n",
       "<tr>\n",
       "<td valign=\"top\" width=\"8\"><img border=\"0\" src=\"images/bullet_fs.jpg\" width=\"6\" height=\"6\" vspace=\"6\" alt=\"bullet\" /></td>\n",
       "<td><a title=\"Application Deadline: 20 August 2017\" href=\"ccdspann.php?id=28969\">Java Developer / Zangi</a></td>\n",
       "</tr>\n",
       "<tr>\n",
       "<td valign=\"top\" width=\"8\"><img border=\"0\" src=\"images/bullet_fs.jpg\" width=\"6\" height=\"6\" vspace=\"6\" alt=\"bullet\" /></td>\n",
       "<td><a title=\"Application Deadline: 19 August 2017\" href=\"ccdspann.php?id=28962\">Call Center Specialist / Ingo Armenia</a></td>\n",
       "</tr>\n",
       "<tr>\n",
       "<td valign=\"top\" width=\"8\"><img border=\"0\" src=\"images/bullet_fs.jpg\" width=\"6\" height=\"6\" vspace=\"6\" alt=\"bullet\" /></td>\n",
       "<td><a title=\"Application Deadline: 23 August 2017\" href=\"ccdspann.php?id=28958\">Analytical and Rates Department Manager / Dexatel</a></td>\n",
       "</tr>\n",
       "<tr>\n",
       "<td valign=\"top\" width=\"8\"><img border=\"0\" src=\"images/bullet_fs.jpg\" width=\"6\" height=\"6\" vspace=\"6\" alt=\"bullet\" /></td>\n",
       "<td><a title=\"Application Deadline: 15 August 2017\" href=\"ccdspann.php?id=28967\">Procurement Manager / Jermuk International Pepsi-Cola Bottler</a></td>\n",
       "</tr>\n",
       "<tr>\n",
       "<td valign=\"top\" width=\"8\"><img border=\"0\" src=\"images/bullet_fs.jpg\" width=\"6\" height=\"6\" vspace=\"6\" alt=\"bullet\" /></td>\n",
       "<td><a title=\"Application Deadline: 23 August 2017\" href=\"ccdspann.php?id=28960\">Measurement Engineer / DeltaPro</a></td>\n",
       "</tr>\n",
       "<tr>\n",
       "<td valign=\"top\" width=\"8\"><img border=\"0\" src=\"images/bullet_fs.jpg\" width=\"6\" height=\"6\" vspace=\"6\" alt=\"bullet\" /></td>\n",
       "<td><a title=\"Application Deadline: 23 August 2017\" href=\"ccdspann.php?id=28964\">HR Manager / Baldi Retail</a></td>\n",
       "</tr>\n",
       "<tr>\n",
       "<td valign=\"top\" width=\"8\"><img border=\"0\" src=\"images/bullet_fs.jpg\" width=\"6\" height=\"6\" vspace=\"6\" alt=\"bullet\" /></td>\n",
       "<td><a title=\"Application Deadline: 23 August 2017\" href=\"ccdspann.php?id=28941\">Trainee/ Accountant / Easy Pay</a></td>\n",
       "</tr>\n",
       "<tr>\n",
       "<td valign=\"top\" width=\"8\"><img border=\"0\" src=\"images/bullet_fs.jpg\" width=\"6\" height=\"6\" vspace=\"6\" alt=\"bullet\" /></td>\n",
       "<td><a title=\"Application Deadline: 23 August 2017\" href=\"ccdspann.php?id=28947\">Back Office Operator / SNDA</a></td>\n",
       "</tr>\n",
       "<tr>\n",
       "<td valign=\"top\" width=\"8\"><img border=\"0\" src=\"images/bullet_fs.jpg\" width=\"6\" height=\"6\" vspace=\"6\" alt=\"bullet\" /></td>\n",
       "<td><a title=\"Application Deadline: 20 August 2017\" href=\"ccdspann.php?id=28955\">Senior Front-End Developer / Accontech</a></td>\n",
       "</tr>\n",
       "<tr>\n",
       "<td valign=\"top\" width=\"8\"><img border=\"0\" src=\"images/bullet_fs.jpg\" width=\"6\" height=\"6\" vspace=\"6\" alt=\"bullet\" /></td>\n",
       "<td><a title=\"Application Deadline: 20 August 2017\" href=\"ccdspann.php?id=28953\">Quality Control Manager / DeltaPro</a></td>\n",
       "</tr>\n",
       "<tr>\n",
       "<td valign=\"top\" width=\"8\"><img border=\"0\" src=\"images/bullet_fs.jpg\" width=\"6\" height=\"6\" vspace=\"6\" alt=\"bullet\" /></td>\n",
       "<td><a title=\"Application Deadline: 20 August 2017\" href=\"ccdspann.php?id=28952\">Sales Manager / DeltaPro</a></td>\n",
       "</tr>\n",
       "<tr>\n",
       "<td valign=\"top\" width=\"8\"><img border=\"0\" src=\"images/bullet_fs.jpg\" width=\"6\" height=\"6\" vspace=\"6\" alt=\"bullet\" /></td>\n",
       "<td><a title=\"Application Deadline: 20 August 2017\" href=\"ccdspann.php?id=28944\">Logistics Coordinator / WolvesBP</a></td>\n",
       "</tr>\n",
       "<tr>\n",
       "<td valign=\"top\" width=\"8\"><img border=\"0\" src=\"images/bullet_fs.jpg\" width=\"6\" height=\"6\" vspace=\"6\" alt=\"bullet\" /></td>\n",
       "<td><a title=\"Application Deadline: 20 August 2017\" href=\"ccdspann.php?id=28956\">iOS Developer / Accontech</a></td>\n",
       "</tr>\n",
       "<tr>\n",
       "<td valign=\"top\" width=\"8\"><img border=\"0\" src=\"images/bullet_fs.jpg\" width=\"6\" height=\"6\" vspace=\"6\" alt=\"bullet\" /></td>\n",
       "<td><a title=\"Application Deadline: 20 August 2017\" href=\"ccdspann.php?id=28951\">Web Developer / Prometey Bank</a></td>\n",
       "</tr>\n",
       "<tr>\n",
       "<td valign=\"top\" width=\"8\"><img border=\"0\" src=\"images/bullet_fs.jpg\" width=\"6\" height=\"6\" vspace=\"6\" alt=\"bullet\" /></td>\n",
       "<td><a title=\"Application Deadline: 20 August 2017\" href=\"ccdspann.php?id=28948\">C# Software Developer / Prometey Bank</a></td>\n",
       "</tr>\n",
       "<tr>\n",
       "<td valign=\"top\" width=\"8\"><img border=\"0\" src=\"images/bullet_fs.jpg\" width=\"6\" height=\"6\" vspace=\"6\" alt=\"bullet\" /></td>\n",
       "<td><a title=\"Application Deadline: 20 August 2017\" href=\"ccdspann.php?id=28943\">.NET Developer / Praemium RA</a></td>\n",
       "</tr>\n",
       "<tr>\n",
       "<td valign=\"top\" width=\"8\"><img border=\"0\" src=\"images/bullet_fs.jpg\" width=\"6\" height=\"6\" vspace=\"6\" alt=\"bullet\" /></td>\n",
       "<td><a title=\"Application Deadline: 20 August 2017\" href=\"ccdspann.php?id=28945\">Learning Coach in Yerevan / Tumo Center for Creative Technologies</a></td>\n",
       "</tr>\n",
       "<tr>\n",
       "<td valign=\"top\" width=\"8\"><img border=\"0\" src=\"images/bullet_fs.jpg\" width=\"6\" height=\"6\" vspace=\"6\" alt=\"bullet\" /></td>\n",
       "<td><a title=\"Application Deadline: 20 August 2017\" href=\"ccdspann.php?id=28932\">Deputy Chief Accountant / Comfort R&amp;V</a></td>\n",
       "</tr>\n",
       "<tr>\n",
       "<td valign=\"top\" width=\"8\"><img border=\"0\" src=\"images/bullet_fs.jpg\" width=\"6\" height=\"6\" vspace=\"6\" alt=\"bullet\" /></td>\n",
       "<td><a title=\"Application Deadline: 19 August 2017\" href=\"ccdspann.php?id=28940\">Logistics Coordinator / Timeless</a></td>\n",
       "</tr>\n",
       "<tr>\n",
       "<td valign=\"top\" width=\"8\"><img border=\"0\" src=\"images/bullet_fs.jpg\" width=\"6\" height=\"6\" vspace=\"6\" alt=\"bullet\" /></td>\n",
       "<td><a title=\"Application Deadline: 19 August 2017\" href=\"ccdspann.php?id=28879\">Mechanical Engineer / Imex Group</a></td>\n",
       "</tr>\n",
       "<tr>\n",
       "<td valign=\"top\" width=\"8\"><img border=\"0\" src=\"images/bullet_fs.jpg\" width=\"6\" height=\"6\" vspace=\"6\" alt=\"bullet\" /></td>\n",
       "<td><a title=\"Application Deadline: 19 August 2017\" href=\"ccdspann.php?id=28933\">Customer Support Manager / Triosoft</a></td>\n",
       "</tr>\n",
       "<tr>\n",
       "<td valign=\"top\" width=\"8\"><img border=\"0\" src=\"images/bullet_fs.jpg\" width=\"6\" height=\"6\" vspace=\"6\" alt=\"bullet\" /></td>\n",
       "<td><a title=\"Application Deadline: 18 August 2017\" href=\"ccdspann.php?id=28916\">Marketing Specialist / Reebok Sports Club Armenia</a></td>\n",
       "</tr>\n",
       "<tr>\n",
       "<td valign=\"top\" width=\"8\"><img border=\"0\" src=\"images/bullet_fs.jpg\" width=\"6\" height=\"6\" vspace=\"6\" alt=\"bullet\" /></td>\n",
       "<td><a title=\"Application Deadline: 18 August 2017\" href=\"ccdspann.php?id=28928\">PHP Developer / M&amp;M Media</a></td>\n",
       "</tr>\n",
       "<tr>\n",
       "<td valign=\"top\" width=\"8\"><img border=\"0\" src=\"images/bullet_fs.jpg\" width=\"6\" height=\"6\" vspace=\"6\" alt=\"bullet\" /></td>\n",
       "<td><a title=\"Application Deadline: 18 August 2017\" href=\"ccdspann.php?id=28919\">Software Product Manager / Sgames</a></td>\n",
       "</tr>\n",
       "<tr>\n",
       "<td valign=\"top\" width=\"8\"><img border=\"0\" src=\"images/bullet_fs.jpg\" width=\"6\" height=\"6\" vspace=\"6\" alt=\"bullet\" /></td>\n",
       "<td><a title=\"Application Deadline: 18 August 2017\" href=\"ccdspann.php?id=28927\">Digital Marketing Specialist / Digitec Media</a></td>\n",
       "</tr>\n",
       "<tr>\n",
       "<td valign=\"top\" width=\"8\"><img border=\"0\" src=\"images/bullet_fs.jpg\" width=\"6\" height=\"6\" vspace=\"6\" alt=\"bullet\" /></td>\n",
       "<td><a title=\"Application Deadline: 18 August 2017\" href=\"ccdspann.php?id=28929\">Backend Developer / CargoMatrix</a></td>\n",
       "</tr>\n",
       "<tr>\n",
       "<td valign=\"top\" width=\"8\"><img border=\"0\" src=\"images/bullet_fs.jpg\" width=\"6\" height=\"6\" vspace=\"6\" alt=\"bullet\" /></td>\n",
       "<td><a title=\"Application Deadline: 17 August 2017\" href=\"ccdspann.php?id=28926\">Web Content Manager / FXTM Armenia</a></td>\n",
       "</tr>\n",
       "<tr>\n",
       "<td valign=\"top\" width=\"8\"><img border=\"0\" src=\"images/bullet_fs.jpg\" width=\"6\" height=\"6\" vspace=\"6\" alt=\"bullet\" /></td>\n",
       "<td><a title=\"Application Deadline: 17 August 2017\" href=\"ccdspann.php?id=28921\">Audit Assistant / Asatryans</a></td>\n",
       "</tr>\n",
       "<tr>\n",
       "<td valign=\"top\" width=\"8\"><img border=\"0\" src=\"images/bullet_fs.jpg\" width=\"6\" height=\"6\" vspace=\"6\" alt=\"bullet\" /></td>\n",
       "<td><a title=\"Application Deadline: 17 August 2017\" href=\"ccdspann.php?id=28925\">Event Coordinator / Tumo Center for Creative Technologies</a></td>\n",
       "</tr>\n",
       "<tr>\n",
       "<td valign=\"top\" width=\"8\"><img border=\"0\" src=\"images/bullet_fs.jpg\" width=\"6\" height=\"6\" vspace=\"6\" alt=\"bullet\" /></td>\n",
       "<td><a title=\"Application Deadline: 17 August 2017\" href=\"ccdspann.php?id=28829\">IT Manager / Global Lending System</a></td>\n",
       "</tr>\n",
       "<tr>\n",
       "<td valign=\"top\" width=\"8\"><img border=\"0\" src=\"images/bullet_fs.jpg\" width=\"6\" height=\"6\" vspace=\"6\" alt=\"bullet\" /></td>\n",
       "<td><a title=\"Application Deadline: 17 August 2017\" href=\"ccdspann.php?id=28922\">HR Officer / FXTM Armenia</a></td>\n",
       "</tr>\n",
       "<tr>\n",
       "<td valign=\"top\" width=\"8\"><img border=\"0\" src=\"images/bullet_fs.jpg\" width=\"6\" height=\"6\" vspace=\"6\" alt=\"bullet\" /></td>\n",
       "<td><a title=\"Application Deadline: 17 August 2017\" href=\"ccdspann.php?id=28803\">Manual QA Engineer / Praemium RA</a></td>\n",
       "</tr>\n",
       "<tr>\n",
       "<td valign=\"top\" width=\"8\"><img border=\"0\" src=\"images/bullet_fs.jpg\" width=\"6\" height=\"6\" vspace=\"6\" alt=\"bullet\" /></td>\n",
       "<td><a title=\"Application Deadline: 17 August 2017\" href=\"ccdspann.php?id=28804\">Full Stack .NET Developer / Praemium RA</a></td>\n",
       "</tr>\n",
       "<tr>\n",
       "<td valign=\"top\" width=\"8\"><img border=\"0\" src=\"images/bullet_fs.jpg\" width=\"6\" height=\"6\" vspace=\"6\" alt=\"bullet\" /></td>\n",
       "<td><a title=\"Application Deadline: 17 August 2017\" href=\"ccdspann.php?id=28912\">Technical Support Engineer / EpygiArm</a></td>\n",
       "</tr>\n",
       "<tr>\n",
       "<td valign=\"top\" width=\"8\"><img border=\"0\" src=\"images/bullet_fs.jpg\" width=\"6\" height=\"6\" vspace=\"6\" alt=\"bullet\" /></td>\n",
       "<td><a title=\"Application Deadline: 16 August 2017\" href=\"ccdspann.php?id=28915\">Chief Accountant / Tsiran Market</a></td>\n",
       "</tr>\n",
       "<tr>\n",
       "<td valign=\"top\" width=\"8\"><img border=\"0\" src=\"images/bullet_fs.jpg\" width=\"6\" height=\"6\" vspace=\"6\" alt=\"bullet\" /></td>\n",
       "<td><a title=\"Application Deadline: 16 August 2017\" href=\"ccdspann.php?id=28897\">Accountant / Armenian Software</a></td>\n",
       "</tr>\n",
       "<tr>\n",
       "<td valign=\"top\" width=\"8\"><img border=\"0\" src=\"images/bullet_fs.jpg\" width=\"6\" height=\"6\" vspace=\"6\" alt=\"bullet\" /></td>\n",
       "<td><a title=\"Application Deadline: 16 August 2017\" href=\"ccdspann.php?id=28913\">Junior Internal Auditor / Haypost</a></td>\n",
       "</tr>\n",
       "<tr>\n",
       "<td valign=\"top\" width=\"8\"><img border=\"0\" src=\"images/bullet_fs.jpg\" width=\"6\" height=\"6\" vspace=\"6\" alt=\"bullet\" /></td>\n",
       "<td><a title=\"Application Deadline: 16 August 2017\" href=\"ccdspann.php?id=28890\">Junior Lawyer / Teghout</a></td>\n",
       "</tr>\n",
       "<tr>\n",
       "<td valign=\"top\" width=\"8\"><img border=\"0\" src=\"images/bullet_fs.jpg\" width=\"6\" height=\"6\" vspace=\"6\" alt=\"bullet\" /></td>\n",
       "<td><a title=\"Application Deadline: 16 August 2017\" href=\"ccdspann.php?id=28891\">Seller / TST</a></td>\n",
       "</tr>\n",
       "</table>"
      ]
     },
     "execution_count": 37,
     "metadata": {},
     "output_type": "execute_result"
    }
   ],
   "source": [
    "\n",
    "tables[0]"
   ]
  },
  {
   "cell_type": "code",
   "execution_count": 6,
   "metadata": {
    "collapsed": false
   },
   "outputs": [
    {
     "data": {
      "text/plain": [
       "BeautifulSoup.Tag"
      ]
     },
     "execution_count": 6,
     "metadata": {},
     "output_type": "execute_result"
    }
   ],
   "source": [
    "type(tables[0])"
   ]
  },
  {
   "cell_type": "code",
   "execution_count": 38,
   "metadata": {
    "collapsed": true
   },
   "outputs": [],
   "source": [
    "my_table = tables[0]\n",
    "rows = my_table.findAll('tr')"
   ]
  },
  {
   "cell_type": "code",
   "execution_count": 40,
   "metadata": {
    "collapsed": true
   },
   "outputs": [],
   "source": [
    "data_list = []\n",
    "for i in rows:\n",
    "    columns = i.findAll('td')\n",
    "    for j in columns:\n",
    "        data_list.append(j.text)"
   ]
  },
  {
   "cell_type": "code",
   "execution_count": 41,
   "metadata": {
    "collapsed": false
   },
   "outputs": [
    {
     "data": {
      "text/plain": [
       "[u'JOB OPPORTUNITIES',\n",
       " u'',\n",
       " u'Customer Service Specialist / Varks.am',\n",
       " u'',\n",
       " u'Rental Agent for &quot;Sixt&quot; Armenia  / Fora',\n",
       " u'',\n",
       " u'Receptionist/ Call Center Specialist / Global Lending System',\n",
       " u'',\n",
       " u'Project Support Assistant / British Embassy Yerevan',\n",
       " u'',\n",
       " u'Mobile Core Network Engineer / Ucom',\n",
       " u'',\n",
       " u'Project Services Manager / Lydian Armenia',\n",
       " u'',\n",
       " u'Third Class Specialist, Information Systems Service Unit / Ardshinbank',\n",
       " u'',\n",
       " u'Incoming Tour Manager / Go Nature',\n",
       " u'',\n",
       " u'Psychologist/ PSS Specialist / Armenian Red Cross Society',\n",
       " u'',\n",
       " u'IT Business Developer  / Softler',\n",
       " u'',\n",
       " u'First Class Specialist, Information Systems Investment Unit / Ardshinbank',\n",
       " u'',\n",
       " u'First Class Specialist/ Administrator of Automated Systems Management Unit / Ardshinbank',\n",
       " u'',\n",
       " u'JavaScript Developer / Renderforest',\n",
       " u'',\n",
       " u'Senior Lawyer / Legelata',\n",
       " u'',\n",
       " u'Customer Attraction Specialist / Prometey Bank',\n",
       " u'',\n",
       " u'Senior Graphic Designer / Zuck&amp;Berg Agency',\n",
       " u'',\n",
       " u'Network Administrator / FINCA UCO',\n",
       " u'',\n",
       " u'Health and Safety Specialist / MLL Industrial',\n",
       " u'',\n",
       " u'Mathematics Teacher / RSM International',\n",
       " u'',\n",
       " u'HR Assistant/ Moderator / Career Center',\n",
       " u'',\n",
       " u'Lawyer / Concern-Dialog',\n",
       " u'',\n",
       " u'Junior Web and Mobile QA Analyst / Questrade-Armenia',\n",
       " u'',\n",
       " u'Digital and Social Marketing Specialist / Zip Couriers',\n",
       " u'',\n",
       " u'Accountant / KPartners',\n",
       " u'',\n",
       " u'Construction Engineer / HAEKSHIN',\n",
       " u'',\n",
       " u'Head Office Teller/ Operator / Prometey Bank',\n",
       " u'',\n",
       " u'Deputy Store Manager / Zigzag',\n",
       " u'',\n",
       " u'Sales Manager / Motion Time',\n",
       " u'',\n",
       " u'Digital Marketing Specialist / Motion Time',\n",
       " u'',\n",
       " u'Financier / Tiger Group',\n",
       " u'',\n",
       " u'IT Marketing Specialist / Zangi',\n",
       " u'',\n",
       " u'Finance and Billing Officer / Dexatel',\n",
       " u'',\n",
       " u'Project Manager / Webb Fontaine Holding',\n",
       " u'',\n",
       " u'SEO/ Google AdWords Specialist / GAT Cutting',\n",
       " u'',\n",
       " u'Unix and Database Administrator / FXTM Armenia',\n",
       " u'',\n",
       " u'Full Stack PHP Developer / Citymobil',\n",
       " u'',\n",
       " u'Administrative Assistant / BD Group',\n",
       " u'',\n",
       " u'Business Facilitator/ Project Coordinator / World Vision Armenia',\n",
       " u'',\n",
       " u'Employment Case Manager / World Vision Armenia',\n",
       " u'',\n",
       " u'Operator / Microring',\n",
       " u'',\n",
       " u'Customer Support Representative / FXTM Armenia',\n",
       " u'',\n",
       " u'Head of Leasing Unit / Ameriabank',\n",
       " u'',\n",
       " u'Sales Consultant / Grand Sport',\n",
       " u'',\n",
       " u'Aurora Humanitarian Initiative Chief Operations Officer / IDeA Foundation',\n",
       " u'',\n",
       " u'Aurora Humanitarian Initiative Partnerships Director / IDeA Foundation',\n",
       " u'',\n",
       " u'Aurora Humanitarian Initiative Content and Creative Director/ Editor-in-Chief / IDeA Foundation',\n",
       " u'',\n",
       " u'Aurora Humanitarian Initiative Communications Director / IDeA Foundation',\n",
       " u'',\n",
       " u'Head of Internal Audit Department / Bacon Product',\n",
       " u'',\n",
       " u'Branch Representative / HSBC Bank Armenia',\n",
       " u'',\n",
       " u'Contact Center Agent / HSBC Bank Armenia',\n",
       " u'',\n",
       " u'Senior JavaScript Developer / Digitain',\n",
       " u'',\n",
       " u'Client Manager / Ameriabank',\n",
       " u'',\n",
       " u'Loan Officer / Ameriabank',\n",
       " u'',\n",
       " u'Teller / Ameriabank',\n",
       " u'',\n",
       " u'Head of Operational Unit / Ameriabank',\n",
       " u'',\n",
       " u'Senior Cashier / Ameriabank',\n",
       " u'',\n",
       " u'Branch Manager / Ameriabank',\n",
       " u'',\n",
       " u'Project Assistant / FINCA UCO',\n",
       " u'',\n",
       " u'Front Desk Receptionist / Golden Palace North Avenue',\n",
       " u'',\n",
       " u'Accountant / Golden Palace North Avenue',\n",
       " u'',\n",
       " u'Food and Beverage Manager / Golden Palace North Avenue',\n",
       " u'',\n",
       " u'HR Coordinator / Shangri La Casino',\n",
       " u'',\n",
       " u'Leading Specialist, IT Department / Converse Bank',\n",
       " u'',\n",
       " u'International Relations Manager / TelecoDays',\n",
       " u'',\n",
       " u'UNIX System Administrator / VivaCell-MTS',\n",
       " u'',\n",
       " u'Executive Assistant / Sef International UCO',\n",
       " u'',\n",
       " u'Doctor Expert / Rosgosstrakh-Armenia',\n",
       " u'',\n",
       " u'QA Specialist / Rosgosstrakh-Armenia',\n",
       " u'',\n",
       " u'HR Key Account Manager / Cascade Consultants',\n",
       " u'',\n",
       " u'Senior Procurement Specialist / Ginosi Apartels',\n",
       " u'',\n",
       " u'Senior CAE / Synopsys Armenia',\n",
       " u'',\n",
       " u'AML/ Compliance Analyst / NASDAQ OMX Armenia',\n",
       " u'',\n",
       " u'Java Developer / NASDAQ OMX Armenia',\n",
       " u'',\n",
       " u'Customer Service Specialist / Enterprise Rent-A-Car',\n",
       " u'',\n",
       " u'Web Developer / CargoMatrix',\n",
       " u'',\n",
       " u'Tchambarak Area Program Sponsorship Coordinator / World Vision Armenia',\n",
       " u'',\n",
       " u'Transformation Projects Manager, General Directorate / ArmenTel',\n",
       " u'',\n",
       " u'Back-End Software Engineer / Aarki',\n",
       " u'',\n",
       " u'Data Engineer / Aarki',\n",
       " u'',\n",
       " u'Senior Marketing Manager / Bacon Product',\n",
       " u'',\n",
       " u'Project Manager Impact Venture Accelerator / UNDP Armenia Office',\n",
       " u'',\n",
       " u'Short-Term Consultant for the Programme &quot;Private Sector Development and Technical Vocational Education and Training South Caucasus&quot; / GIZ',\n",
       " u'',\n",
       " u'Health and Safety Superintendent / Lydian Armenia',\n",
       " u'',\n",
       " u'Chief Mechanical Engineer / Lydian Armenia',\n",
       " u'',\n",
       " u'Procurement Officer / World Vision Armenia',\n",
       " u'',\n",
       " u'Project Manager, Information and Communication Technologies Department / Central Bank of Armenia',\n",
       " u'',\n",
       " u'Service Support Engineer / Ucom',\n",
       " u'',\n",
       " u'Sales Consultant / AWI Group',\n",
       " u'',\n",
       " u'Financial Adviser / Anelik Bank',\n",
       " u'',\n",
       " u'Import/ Export Manager / Baldi Retail',\n",
       " u'',\n",
       " u'PHP Developer / Baldi Retail',\n",
       " u'',\n",
       " u'Projects Manager / ArmenTel',\n",
       " u'',\n",
       " u'Product Manager / ArmenTel',\n",
       " u'',\n",
       " u'Risk Management and Business Control Specialist  / ArmenTel',\n",
       " u'',\n",
       " u'Head of Fraud Management and Revenue Assurance Division / ArmenTel',\n",
       " u'',\n",
       " u'Senior Project Officer / Fund for Armenian Relief',\n",
       " u'',\n",
       " u'HR Specialist / SAS Group',\n",
       " u'',\n",
       " u'Senior .NET Developer / e-Works',\n",
       " u'',\n",
       " u'Senior Consultant/ Local Team Leader for Supporting the Development of &quot;National Strategy on Environmental Education&quot; in Armenia / UNDP Armenia Office',\n",
       " u'',\n",
       " u'Consultant for the Development of &quot;Pre-School, General School and Vocational Education Components of National Strategy on Environmental Education&quot; / UNDP Armenia Office',\n",
       " u'',\n",
       " u'Consultant for the Development of &quot;Tertiary (Higher) and Post-Graduate Education components of National Strategy for Environmental Education&quot; / UNDP Armenia Office',\n",
       " u'',\n",
       " u'Consultant for the Development of &quot;Supplementary Education Components of National Strategy on Environmental Education&quot; / UNDP Armenia Office',\n",
       " u'',\n",
       " u'Consultant for the Development of &quot;Public Awareness Components of National Strategy for Environmental Education&quot; / UNDP Armenia Office',\n",
       " u'',\n",
       " u'Math Teacher / CIS Armenia',\n",
       " u'',\n",
       " u'Sales Executive / Rumors',\n",
       " u'',\n",
       " u'iOS Developer / e-Works',\n",
       " u'',\n",
       " u'PHP Developer / e-Works',\n",
       " u'',\n",
       " u'Sales Assistant / V&amp;B Style',\n",
       " u'',\n",
       " u'Lawyer / Ares Law Firm',\n",
       " u'',\n",
       " u'Senior React.js Developer / Renderforest',\n",
       " u'',\n",
       " u'Senior DevOps Engineer / Renderforest',\n",
       " u'',\n",
       " u'Branch Responsible / Varks.am',\n",
       " u'',\n",
       " u'Reporting Analyst / InterTech',\n",
       " u'',\n",
       " u'Chinese Speaking Account Opening Specialist / FXTM Armenia',\n",
       " u'',\n",
       " u'Rate Manager / Dexatel',\n",
       " u'',\n",
       " u'Software Engineer / Ezhome, Inc.',\n",
       " u'',\n",
       " u'Chief Accountant / Erirus',\n",
       " u'',\n",
       " u'Incoming Tour Manager / Sidon Travel and Tourism',\n",
       " u'',\n",
       " u'Lawyer / RA Ministry of Health  Centralized Procurement Organization and Coordination Working Group',\n",
       " u'',\n",
       " u'IT Reporting Engineer / Ucom',\n",
       " u'',\n",
       " u'Incoming Tour Specialist  / Anesa Tour',\n",
       " u'',\n",
       " u'Deputy General Manager / Multi Grand Hotel',\n",
       " u'',\n",
       " u'Learning Coach in Gyumri / Tumo Center for Creative Technologies',\n",
       " u'',\n",
       " u'Baldinini Store Manager / Lesona',\n",
       " u'',\n",
       " u'Brand Manager / Lesona',\n",
       " u'',\n",
       " u'Corporate Mass Media Journalist / Kapan Mining and Processing Company',\n",
       " u'',\n",
       " u'Country Head / Sandoz Uzbekistan',\n",
       " u'',\n",
       " u'Artashat Branch Customer Service Specialist / Varks.am',\n",
       " u'',\n",
       " u'JavaScript Developer / SoloLearn RA',\n",
       " u'',\n",
       " u'Recruitment Coordinator / Teach For Armenia',\n",
       " u'',\n",
       " u'.NET Engineer / Questrade-Armenia',\n",
       " u'',\n",
       " u'Senior .NET Engineer / Questrade-Armenia',\n",
       " u'',\n",
       " u'Senior QA Automation Engineer / Benivo',\n",
       " u'',\n",
       " u'Data Analyst / Varks.am',\n",
       " u'',\n",
       " u'Accountant / Cinemastar',\n",
       " u'',\n",
       " u'Java Developer / Zangi',\n",
       " u'',\n",
       " u'Call Center Specialist / Ingo Armenia',\n",
       " u'',\n",
       " u'Analytical and Rates Department Manager / Dexatel',\n",
       " u'',\n",
       " u'Procurement Manager / Jermuk International Pepsi-Cola Bottler',\n",
       " u'',\n",
       " u'Measurement Engineer / DeltaPro',\n",
       " u'',\n",
       " u'HR Manager / Baldi Retail',\n",
       " u'',\n",
       " u'Trainee/ Accountant / Easy Pay',\n",
       " u'',\n",
       " u'Back Office Operator / SNDA',\n",
       " u'',\n",
       " u'Senior Front-End Developer / Accontech',\n",
       " u'',\n",
       " u'Quality Control Manager / DeltaPro',\n",
       " u'',\n",
       " u'Sales Manager / DeltaPro',\n",
       " u'',\n",
       " u'Logistics Coordinator / WolvesBP',\n",
       " u'',\n",
       " u'iOS Developer / Accontech',\n",
       " u'',\n",
       " u'Web Developer / Prometey Bank',\n",
       " u'',\n",
       " u'C# Software Developer / Prometey Bank',\n",
       " u'',\n",
       " u'.NET Developer / Praemium RA',\n",
       " u'',\n",
       " u'Learning Coach in Yerevan / Tumo Center for Creative Technologies',\n",
       " u'',\n",
       " u'Deputy Chief Accountant / Comfort R&amp;V',\n",
       " u'',\n",
       " u'Logistics Coordinator / Timeless',\n",
       " u'',\n",
       " u'Mechanical Engineer / Imex Group',\n",
       " u'',\n",
       " u'Customer Support Manager / Triosoft',\n",
       " u'',\n",
       " u'Marketing Specialist / Reebok Sports Club Armenia',\n",
       " u'',\n",
       " u'PHP Developer / M&amp;M Media',\n",
       " u'',\n",
       " u'Software Product Manager / Sgames',\n",
       " u'',\n",
       " u'Digital Marketing Specialist / Digitec Media',\n",
       " u'',\n",
       " u'Backend Developer / CargoMatrix',\n",
       " u'',\n",
       " u'Web Content Manager / FXTM Armenia',\n",
       " u'',\n",
       " u'Audit Assistant / Asatryans',\n",
       " u'',\n",
       " u'Event Coordinator / Tumo Center for Creative Technologies',\n",
       " u'',\n",
       " u'IT Manager / Global Lending System',\n",
       " u'',\n",
       " u'HR Officer / FXTM Armenia',\n",
       " u'',\n",
       " u'Manual QA Engineer / Praemium RA',\n",
       " u'',\n",
       " u'Full Stack .NET Developer / Praemium RA',\n",
       " u'',\n",
       " u'Technical Support Engineer / EpygiArm',\n",
       " u'',\n",
       " u'Chief Accountant / Tsiran Market',\n",
       " u'',\n",
       " u'Accountant / Armenian Software',\n",
       " u'',\n",
       " u'Junior Internal Auditor / Haypost',\n",
       " u'',\n",
       " u'Junior Lawyer / Teghout',\n",
       " u'',\n",
       " u'Seller / TST']"
      ]
     },
     "execution_count": 41,
     "metadata": {},
     "output_type": "execute_result"
    }
   ],
   "source": [
    "data_list"
   ]
  },
  {
   "cell_type": "code",
   "execution_count": 10,
   "metadata": {
    "collapsed": true
   },
   "outputs": [],
   "source": [
    "import json\n",
    "with open(\"jobs.json\",\"w\") as f:\n",
    "    json.dump(data_list,f,sort_keys = True, indent = 4)"
   ]
  },
  {
   "cell_type": "code",
   "execution_count": 12,
   "metadata": {
    "collapsed": true
   },
   "outputs": [],
   "source": [
    "import csv\n",
    "address = \"C:\\Data_scraping\\jobs.json\"\n",
    "with open(address,\"r\") as file:\n",
    "    local_json = json.load(file)"
   ]
  },
  {
   "cell_type": "code",
   "execution_count": 13,
   "metadata": {
    "collapsed": true
   },
   "outputs": [],
   "source": [
    "import pandas as pd\n",
    "address = \"C:\\Data_scraping\\jobs.json\"\n",
    "my_json_data = pd.read_json(address)"
   ]
  },
  {
   "cell_type": "code",
   "execution_count": 14,
   "metadata": {
    "collapsed": false
   },
   "outputs": [
    {
     "data": {
      "text/plain": [
       "<bound method DataFrame.head of                                                      0\n",
       "0                                    JOB OPPORTUNITIES\n",
       "1                                                     \n",
       "2               Customer Service Specialist / Varks.am\n",
       "3                                                     \n",
       "4    Rental Agent for &quot;Sixt&quot; Armenia  / Fora\n",
       "5                                                     \n",
       "6    Receptionist/ Call Center Specialist / Global ...\n",
       "7                                                     \n",
       "8    Project Support Assistant / British Embassy Ye...\n",
       "9                                                     \n",
       "10                 Mobile Core Network Engineer / Ucom\n",
       "11                                                    \n",
       "12           Project Services Manager / Lydian Armenia\n",
       "13                                                    \n",
       "14   Third Class Specialist, Information Systems Se...\n",
       "15                                                    \n",
       "16                   Incoming Tour Manager / Go Nature\n",
       "17                                                    \n",
       "18   Psychologist/ PSS Specialist / Armenian Red Cr...\n",
       "19                                                    \n",
       "20                    IT Business Developer  / Softler\n",
       "21                                                    \n",
       "22   First Class Specialist, Information Systems In...\n",
       "23                                                    \n",
       "24   First Class Specialist/ Administrator of Autom...\n",
       "25                                                    \n",
       "26                 JavaScript Developer / Renderforest\n",
       "27                                                    \n",
       "28                            Senior Lawyer / Legelata\n",
       "29                                                    \n",
       "..                                                 ...\n",
       "319                                                   \n",
       "320       Digital Marketing Specialist / Digitec Media\n",
       "321                                                   \n",
       "322                    Backend Developer / CargoMatrix\n",
       "323                                                   \n",
       "324                 Web Content Manager / FXTM Armenia\n",
       "325                                                   \n",
       "326                        Audit Assistant / Asatryans\n",
       "327                                                   \n",
       "328  Event Coordinator / Tumo Center for Creative T...\n",
       "329                                                   \n",
       "330                 IT Manager / Global Lending System\n",
       "331                                                   \n",
       "332                          HR Officer / FXTM Armenia\n",
       "333                                                   \n",
       "334                   Manual QA Engineer / Praemium RA\n",
       "335                                                   \n",
       "336            Full Stack .NET Developer / Praemium RA\n",
       "337                                                   \n",
       "338              Technical Support Engineer / EpygiArm\n",
       "339                                                   \n",
       "340                   Chief Accountant / Tsiran Market\n",
       "341                                                   \n",
       "342                     Accountant / Armenian Software\n",
       "343                                                   \n",
       "344                  Junior Internal Auditor / Haypost\n",
       "345                                                   \n",
       "346                            Junior Lawyer / Teghout\n",
       "347                                                   \n",
       "348                                       Seller / TST\n",
       "\n",
       "[349 rows x 1 columns]>"
      ]
     },
     "execution_count": 14,
     "metadata": {},
     "output_type": "execute_result"
    }
   ],
   "source": [
    "my_json_data.head"
   ]
  },
  {
   "cell_type": "code",
   "execution_count": 15,
   "metadata": {
    "collapsed": false
   },
   "outputs": [
    {
     "data": {
      "text/plain": [
       "pandas.core.frame.DataFrame"
      ]
     },
     "execution_count": 15,
     "metadata": {},
     "output_type": "execute_result"
    }
   ],
   "source": [
    "type(my_json_data)"
   ]
  },
  {
   "cell_type": "code",
   "execution_count": 16,
   "metadata": {
    "collapsed": true
   },
   "outputs": [],
   "source": [
    "import re\n"
   ]
  },
  {
   "cell_type": "code",
   "execution_count": 52,
   "metadata": {
    "collapsed": false
   },
   "outputs": [
    {
     "ename": "TypeError",
     "evalue": "'builtin_function_or_method' object has no attribute '__getitem__'",
     "output_type": "error",
     "traceback": [
      "\u001b[0;31m---------------------------------------------------------------------------\u001b[0m",
      "\u001b[0;31mTypeError\u001b[0m                                 Traceback (most recent call last)",
      "\u001b[0;32m<ipython-input-52-336da81fdc8e>\u001b[0m in \u001b[0;36m<module>\u001b[0;34m()\u001b[0m\n\u001b[1;32m      1\u001b[0m \u001b[0mlist\u001b[0m\u001b[1;33m=\u001b[0m\u001b[1;33m[\u001b[0m\u001b[1;33m]\u001b[0m\u001b[1;33m\u001b[0m\u001b[0m\n\u001b[0;32m----> 2\u001b[0;31m \u001b[1;32mfor\u001b[0m \u001b[0mi\u001b[0m \u001b[1;32min\u001b[0m \u001b[0mrange\u001b[0m\u001b[1;33m[\u001b[0m\u001b[1;36m0\u001b[0m\u001b[1;33m,\u001b[0m\u001b[0mlen\u001b[0m\u001b[1;33m(\u001b[0m\u001b[0mdata_list\u001b[0m\u001b[1;33m)\u001b[0m\u001b[1;33m,\u001b[0m\u001b[1;36m2\u001b[0m\u001b[1;33m]\u001b[0m\u001b[1;33m:\u001b[0m\u001b[1;33m\u001b[0m\u001b[0m\n\u001b[0m\u001b[1;32m      3\u001b[0m         \u001b[0mx\u001b[0m\u001b[1;33m=\u001b[0m\u001b[0mre\u001b[0m\u001b[1;33m.\u001b[0m\u001b[0mfindall\u001b[0m\u001b[1;33m(\u001b[0m\u001b[1;34m'.+'\u001b[0m\u001b[1;33m,\u001b[0m\u001b[0mstr\u001b[0m\u001b[1;33m(\u001b[0m\u001b[0mi\u001b[0m\u001b[1;33m)\u001b[0m\u001b[1;33m)\u001b[0m\u001b[1;33m\u001b[0m\u001b[0m\n\u001b[1;32m      4\u001b[0m         \u001b[0mlist\u001b[0m\u001b[1;33m.\u001b[0m\u001b[0mappend\u001b[0m\u001b[1;33m(\u001b[0m\u001b[0mx\u001b[0m\u001b[1;33m)\u001b[0m\u001b[1;33m\u001b[0m\u001b[0m\n\u001b[1;32m      5\u001b[0m \u001b[1;33m\u001b[0m\u001b[0m\n",
      "\u001b[0;31mTypeError\u001b[0m: 'builtin_function_or_method' object has no attribute '__getitem__'"
     ]
    }
   ],
   "source": [
    "list=[]\n",
    "for i in range[0,len(data_list),2]:\n",
    "        x=re.findall('.+',str(i))\n",
    "        list.append(x)\n",
    "        \n",
    "list        \n",
    "        \n",
    "        \n",
    "    "
   ]
  },
  {
   "cell_type": "code",
   "execution_count": 47,
   "metadata": {
    "collapsed": false
   },
   "outputs": [
    {
     "ename": "IndexError",
     "evalue": "list index out of range",
     "output_type": "error",
     "traceback": [
      "\u001b[0;31m---------------------------------------------------------------------------\u001b[0m",
      "\u001b[0;31mIndexError\u001b[0m                                Traceback (most recent call last)",
      "\u001b[0;32m<ipython-input-47-69d3dc406467>\u001b[0m in \u001b[0;36m<module>\u001b[0;34m()\u001b[0m\n\u001b[1;32m      1\u001b[0m \u001b[1;32mfor\u001b[0m \u001b[0mi\u001b[0m \u001b[1;32min\u001b[0m \u001b[0mrange\u001b[0m\u001b[1;33m(\u001b[0m\u001b[0mlen\u001b[0m\u001b[1;33m(\u001b[0m\u001b[0mlist\u001b[0m\u001b[1;33m)\u001b[0m\u001b[1;33m)\u001b[0m\u001b[1;33m:\u001b[0m\u001b[1;33m\u001b[0m\u001b[0m\n\u001b[0;32m----> 2\u001b[0;31m      \u001b[0mlist\u001b[0m\u001b[1;33m[\u001b[0m\u001b[0mi\u001b[0m\u001b[1;33m]\u001b[0m\u001b[1;33m=\u001b[0m\u001b[0mlist\u001b[0m\u001b[1;33m[\u001b[0m\u001b[0mi\u001b[0m\u001b[1;33m]\u001b[0m\u001b[1;33m[\u001b[0m\u001b[1;36m0\u001b[0m\u001b[1;33m]\u001b[0m\u001b[1;33m\u001b[0m\u001b[0m\n\u001b[0m\u001b[1;32m      3\u001b[0m \u001b[1;33m\u001b[0m\u001b[0m\n\u001b[1;32m      4\u001b[0m \u001b[1;33m\u001b[0m\u001b[0m\n\u001b[1;32m      5\u001b[0m \u001b[1;33m\u001b[0m\u001b[0m\n",
      "\u001b[0;31mIndexError\u001b[0m: list index out of range"
     ]
    }
   ],
   "source": [
    "for i in range(len(list)):\n",
    "     list[i]=list[i][0]\n",
    "    \n",
    "   \n",
    "\n",
    "        \n",
    "        \n"
   ]
  },
  {
   "cell_type": "code",
   "execution_count": 35,
   "metadata": {
    "collapsed": false
   },
   "outputs": [
    {
     "data": {
      "text/plain": [
       "349"
      ]
     },
     "execution_count": 35,
     "metadata": {},
     "output_type": "execute_result"
    }
   ],
   "source": [
    "len(manager_list)"
   ]
  },
  {
   "cell_type": "code",
   "execution_count": 45,
   "metadata": {
    "collapsed": false
   },
   "outputs": [
    {
     "data": {
      "text/plain": [
       "u''"
      ]
     },
     "execution_count": 45,
     "metadata": {},
     "output_type": "execute_result"
    }
   ],
   "source": [
    "data_list[9]"
   ]
  },
  {
   "cell_type": "code",
   "execution_count": 54,
   "metadata": {
    "collapsed": false
   },
   "outputs": [
    {
     "ename": "TypeError",
     "evalue": "'builtin_function_or_method' object has no attribute '__getitem__'",
     "output_type": "error",
     "traceback": [
      "\u001b[0;31m---------------------------------------------------------------------------\u001b[0m",
      "\u001b[0;31mTypeError\u001b[0m                                 Traceback (most recent call last)",
      "\u001b[0;32m<ipython-input-54-822b9c872ac8>\u001b[0m in \u001b[0;36m<module>\u001b[0;34m()\u001b[0m\n\u001b[0;32m----> 1\u001b[0;31m \u001b[0mrange\u001b[0m\u001b[1;33m[\u001b[0m\u001b[1;36m0\u001b[0m\u001b[1;33m,\u001b[0m\u001b[0mlen\u001b[0m\u001b[1;33m(\u001b[0m\u001b[0mdata_list\u001b[0m\u001b[1;33m)\u001b[0m\u001b[1;33m,\u001b[0m\u001b[1;36m2\u001b[0m\u001b[1;33m]\u001b[0m\u001b[1;33m\u001b[0m\u001b[0m\n\u001b[0m",
      "\u001b[0;31mTypeError\u001b[0m: 'builtin_function_or_method' object has no attribute '__getitem__'"
     ]
    }
   ],
   "source": [
    "range[0,len(data_list),2]\n"
   ]
  },
  {
   "cell_type": "code",
   "execution_count": 57,
   "metadata": {
    "collapsed": false
   },
   "outputs": [
    {
     "data": {
      "text/plain": [
       "[u'JOB OPPORTUNITIES',\n",
       " u'Customer Service Specialist / Varks.am',\n",
       " u'Rental Agent for &quot;Sixt&quot; Armenia  / Fora',\n",
       " u'Receptionist/ Call Center Specialist / Global Lending System',\n",
       " u'Project Support Assistant / British Embassy Yerevan',\n",
       " u'Mobile Core Network Engineer / Ucom',\n",
       " u'Project Services Manager / Lydian Armenia',\n",
       " u'Third Class Specialist, Information Systems Service Unit / Ardshinbank',\n",
       " u'Incoming Tour Manager / Go Nature',\n",
       " u'Psychologist/ PSS Specialist / Armenian Red Cross Society',\n",
       " u'IT Business Developer  / Softler',\n",
       " u'First Class Specialist, Information Systems Investment Unit / Ardshinbank',\n",
       " u'First Class Specialist/ Administrator of Automated Systems Management Unit / Ardshinbank',\n",
       " u'JavaScript Developer / Renderforest',\n",
       " u'Senior Lawyer / Legelata',\n",
       " u'Customer Attraction Specialist / Prometey Bank',\n",
       " u'Senior Graphic Designer / Zuck&amp;Berg Agency',\n",
       " u'Network Administrator / FINCA UCO',\n",
       " u'Health and Safety Specialist / MLL Industrial',\n",
       " u'Mathematics Teacher / RSM International',\n",
       " u'HR Assistant/ Moderator / Career Center',\n",
       " u'Lawyer / Concern-Dialog',\n",
       " u'Junior Web and Mobile QA Analyst / Questrade-Armenia',\n",
       " u'Digital and Social Marketing Specialist / Zip Couriers',\n",
       " u'Accountant / KPartners',\n",
       " u'Construction Engineer / HAEKSHIN',\n",
       " u'Head Office Teller/ Operator / Prometey Bank',\n",
       " u'Deputy Store Manager / Zigzag',\n",
       " u'Sales Manager / Motion Time',\n",
       " u'Digital Marketing Specialist / Motion Time',\n",
       " u'Financier / Tiger Group',\n",
       " u'IT Marketing Specialist / Zangi',\n",
       " u'Finance and Billing Officer / Dexatel',\n",
       " u'Project Manager / Webb Fontaine Holding',\n",
       " u'SEO/ Google AdWords Specialist / GAT Cutting',\n",
       " u'Unix and Database Administrator / FXTM Armenia',\n",
       " u'Full Stack PHP Developer / Citymobil',\n",
       " u'Administrative Assistant / BD Group',\n",
       " u'Business Facilitator/ Project Coordinator / World Vision Armenia',\n",
       " u'Employment Case Manager / World Vision Armenia',\n",
       " u'Operator / Microring',\n",
       " u'Customer Support Representative / FXTM Armenia',\n",
       " u'Head of Leasing Unit / Ameriabank',\n",
       " u'Sales Consultant / Grand Sport',\n",
       " u'Aurora Humanitarian Initiative Chief Operations Officer / IDeA Foundation',\n",
       " u'Aurora Humanitarian Initiative Partnerships Director / IDeA Foundation',\n",
       " u'Aurora Humanitarian Initiative Content and Creative Director/ Editor-in-Chief / IDeA Foundation',\n",
       " u'Aurora Humanitarian Initiative Communications Director / IDeA Foundation',\n",
       " u'Head of Internal Audit Department / Bacon Product',\n",
       " u'Branch Representative / HSBC Bank Armenia',\n",
       " u'Contact Center Agent / HSBC Bank Armenia',\n",
       " u'Senior JavaScript Developer / Digitain',\n",
       " u'Client Manager / Ameriabank',\n",
       " u'Loan Officer / Ameriabank',\n",
       " u'Teller / Ameriabank',\n",
       " u'Head of Operational Unit / Ameriabank',\n",
       " u'Senior Cashier / Ameriabank',\n",
       " u'Branch Manager / Ameriabank',\n",
       " u'Project Assistant / FINCA UCO',\n",
       " u'Front Desk Receptionist / Golden Palace North Avenue',\n",
       " u'Accountant / Golden Palace North Avenue',\n",
       " u'Food and Beverage Manager / Golden Palace North Avenue',\n",
       " u'HR Coordinator / Shangri La Casino',\n",
       " u'Leading Specialist, IT Department / Converse Bank',\n",
       " u'International Relations Manager / TelecoDays',\n",
       " u'UNIX System Administrator / VivaCell-MTS',\n",
       " u'Executive Assistant / Sef International UCO',\n",
       " u'Doctor Expert / Rosgosstrakh-Armenia',\n",
       " u'QA Specialist / Rosgosstrakh-Armenia',\n",
       " u'HR Key Account Manager / Cascade Consultants',\n",
       " u'Senior Procurement Specialist / Ginosi Apartels',\n",
       " u'Senior CAE / Synopsys Armenia',\n",
       " u'AML/ Compliance Analyst / NASDAQ OMX Armenia',\n",
       " u'Java Developer / NASDAQ OMX Armenia',\n",
       " u'Customer Service Specialist / Enterprise Rent-A-Car',\n",
       " u'Web Developer / CargoMatrix',\n",
       " u'Tchambarak Area Program Sponsorship Coordinator / World Vision Armenia',\n",
       " u'Transformation Projects Manager, General Directorate / ArmenTel',\n",
       " u'Back-End Software Engineer / Aarki',\n",
       " u'Data Engineer / Aarki',\n",
       " u'Senior Marketing Manager / Bacon Product',\n",
       " u'Project Manager Impact Venture Accelerator / UNDP Armenia Office',\n",
       " u'Short-Term Consultant for the Programme &quot;Private Sector Development and Technical Vocational Education and Training South Caucasus&quot; / GIZ',\n",
       " u'Health and Safety Superintendent / Lydian Armenia',\n",
       " u'Chief Mechanical Engineer / Lydian Armenia',\n",
       " u'Procurement Officer / World Vision Armenia',\n",
       " u'Project Manager, Information and Communication Technologies Department / Central Bank of Armenia',\n",
       " u'Service Support Engineer / Ucom',\n",
       " u'Sales Consultant / AWI Group',\n",
       " u'Financial Adviser / Anelik Bank',\n",
       " u'Import/ Export Manager / Baldi Retail',\n",
       " u'PHP Developer / Baldi Retail',\n",
       " u'Projects Manager / ArmenTel',\n",
       " u'Product Manager / ArmenTel',\n",
       " u'Risk Management and Business Control Specialist  / ArmenTel',\n",
       " u'Head of Fraud Management and Revenue Assurance Division / ArmenTel',\n",
       " u'Senior Project Officer / Fund for Armenian Relief',\n",
       " u'HR Specialist / SAS Group',\n",
       " u'Senior .NET Developer / e-Works',\n",
       " u'Senior Consultant/ Local Team Leader for Supporting the Development of &quot;National Strategy on Environmental Education&quot; in Armenia / UNDP Armenia Office',\n",
       " u'Consultant for the Development of &quot;Pre-School, General School and Vocational Education Components of National Strategy on Environmental Education&quot; / UNDP Armenia Office',\n",
       " u'Consultant for the Development of &quot;Tertiary (Higher) and Post-Graduate Education components of National Strategy for Environmental Education&quot; / UNDP Armenia Office',\n",
       " u'Consultant for the Development of &quot;Supplementary Education Components of National Strategy on Environmental Education&quot; / UNDP Armenia Office',\n",
       " u'Consultant for the Development of &quot;Public Awareness Components of National Strategy for Environmental Education&quot; / UNDP Armenia Office',\n",
       " u'Math Teacher / CIS Armenia',\n",
       " u'Sales Executive / Rumors',\n",
       " u'iOS Developer / e-Works',\n",
       " u'PHP Developer / e-Works',\n",
       " u'Sales Assistant / V&amp;B Style',\n",
       " u'Lawyer / Ares Law Firm',\n",
       " u'Senior React.js Developer / Renderforest',\n",
       " u'Senior DevOps Engineer / Renderforest',\n",
       " u'Branch Responsible / Varks.am',\n",
       " u'Reporting Analyst / InterTech',\n",
       " u'Chinese Speaking Account Opening Specialist / FXTM Armenia',\n",
       " u'Rate Manager / Dexatel',\n",
       " u'Software Engineer / Ezhome, Inc.',\n",
       " u'Chief Accountant / Erirus',\n",
       " u'Incoming Tour Manager / Sidon Travel and Tourism',\n",
       " u'Lawyer / RA Ministry of Health  Centralized Procurement Organization and Coordination Working Group',\n",
       " u'IT Reporting Engineer / Ucom',\n",
       " u'Incoming Tour Specialist  / Anesa Tour',\n",
       " u'Deputy General Manager / Multi Grand Hotel',\n",
       " u'Learning Coach in Gyumri / Tumo Center for Creative Technologies',\n",
       " u'Baldinini Store Manager / Lesona',\n",
       " u'Brand Manager / Lesona',\n",
       " u'Corporate Mass Media Journalist / Kapan Mining and Processing Company',\n",
       " u'Country Head / Sandoz Uzbekistan',\n",
       " u'Artashat Branch Customer Service Specialist / Varks.am',\n",
       " u'JavaScript Developer / SoloLearn RA',\n",
       " u'Recruitment Coordinator / Teach For Armenia',\n",
       " u'.NET Engineer / Questrade-Armenia',\n",
       " u'Senior .NET Engineer / Questrade-Armenia',\n",
       " u'Senior QA Automation Engineer / Benivo',\n",
       " u'Data Analyst / Varks.am',\n",
       " u'Accountant / Cinemastar',\n",
       " u'Java Developer / Zangi',\n",
       " u'Call Center Specialist / Ingo Armenia',\n",
       " u'Analytical and Rates Department Manager / Dexatel',\n",
       " u'Procurement Manager / Jermuk International Pepsi-Cola Bottler',\n",
       " u'Measurement Engineer / DeltaPro',\n",
       " u'HR Manager / Baldi Retail',\n",
       " u'Trainee/ Accountant / Easy Pay',\n",
       " u'Back Office Operator / SNDA',\n",
       " u'Senior Front-End Developer / Accontech',\n",
       " u'Quality Control Manager / DeltaPro',\n",
       " u'Sales Manager / DeltaPro',\n",
       " u'Logistics Coordinator / WolvesBP',\n",
       " u'iOS Developer / Accontech',\n",
       " u'Web Developer / Prometey Bank',\n",
       " u'C# Software Developer / Prometey Bank',\n",
       " u'.NET Developer / Praemium RA',\n",
       " u'Learning Coach in Yerevan / Tumo Center for Creative Technologies',\n",
       " u'Deputy Chief Accountant / Comfort R&amp;V',\n",
       " u'Logistics Coordinator / Timeless',\n",
       " u'Mechanical Engineer / Imex Group',\n",
       " u'Customer Support Manager / Triosoft',\n",
       " u'Marketing Specialist / Reebok Sports Club Armenia',\n",
       " u'PHP Developer / M&amp;M Media',\n",
       " u'Software Product Manager / Sgames',\n",
       " u'Digital Marketing Specialist / Digitec Media',\n",
       " u'Backend Developer / CargoMatrix',\n",
       " u'Web Content Manager / FXTM Armenia',\n",
       " u'Audit Assistant / Asatryans',\n",
       " u'Event Coordinator / Tumo Center for Creative Technologies',\n",
       " u'IT Manager / Global Lending System',\n",
       " u'HR Officer / FXTM Armenia',\n",
       " u'Manual QA Engineer / Praemium RA',\n",
       " u'Full Stack .NET Developer / Praemium RA',\n",
       " u'Technical Support Engineer / EpygiArm',\n",
       " u'Chief Accountant / Tsiran Market',\n",
       " u'Accountant / Armenian Software',\n",
       " u'Junior Internal Auditor / Haypost',\n",
       " u'Junior Lawyer / Teghout',\n",
       " u'Seller / TST']"
      ]
     },
     "execution_count": 57,
     "metadata": {},
     "output_type": "execute_result"
    }
   ],
   "source": [
    "even = []\n",
    "\n",
    "for i in range(len(data_list)):\n",
    "    if i%2 == 0:\n",
    "        even.append(data_list[i])\n",
    "\n",
    "even        \n",
    "\n",
    "    "
   ]
  },
  {
   "cell_type": "code",
   "execution_count": 58,
   "metadata": {
    "collapsed": false
   },
   "outputs": [
    {
     "data": {
      "text/plain": [
       "175"
      ]
     },
     "execution_count": 58,
     "metadata": {},
     "output_type": "execute_result"
    }
   ],
   "source": [
    "len(even)"
   ]
  },
  {
   "cell_type": "code",
   "execution_count": 63,
   "metadata": {
    "collapsed": false
   },
   "outputs": [],
   "source": [
    "list_manager=[]\n",
    "for i in even:\n",
    "    manager=re.findall('.*\\s*(?:M|m)anager\\s*.*',i)\n",
    "    if len(manager)==1:\n",
    "        list_manager.append(manager)\n",
    "       "
   ]
  },
  {
   "cell_type": "code",
   "execution_count": 64,
   "metadata": {
    "collapsed": false
   },
   "outputs": [
    {
     "data": {
      "text/plain": [
       "[u'Project Services Manager / Lydian Armenia',\n",
       " u'Incoming Tour Manager / Go Nature',\n",
       " u'Deputy Store Manager / Zigzag',\n",
       " u'Sales Manager / Motion Time',\n",
       " u'Project Manager / Webb Fontaine Holding',\n",
       " u'Employment Case Manager / World Vision Armenia',\n",
       " u'Client Manager / Ameriabank',\n",
       " u'Branch Manager / Ameriabank',\n",
       " u'Food and Beverage Manager / Golden Palace North Avenue',\n",
       " u'International Relations Manager / TelecoDays',\n",
       " u'HR Key Account Manager / Cascade Consultants',\n",
       " u'Transformation Projects Manager, General Directorate / ArmenTel',\n",
       " u'Senior Marketing Manager / Bacon Product',\n",
       " u'Project Manager Impact Venture Accelerator / UNDP Armenia Office',\n",
       " u'Project Manager, Information and Communication Technologies Department / Central Bank of Armenia',\n",
       " u'Import/ Export Manager / Baldi Retail',\n",
       " u'Projects Manager / ArmenTel',\n",
       " u'Product Manager / ArmenTel',\n",
       " u'Rate Manager / Dexatel',\n",
       " u'Incoming Tour Manager / Sidon Travel and Tourism',\n",
       " u'Deputy General Manager / Multi Grand Hotel',\n",
       " u'Baldinini Store Manager / Lesona',\n",
       " u'Brand Manager / Lesona',\n",
       " u'Analytical and Rates Department Manager / Dexatel',\n",
       " u'Procurement Manager / Jermuk International Pepsi-Cola Bottler',\n",
       " u'HR Manager / Baldi Retail',\n",
       " u'Quality Control Manager / DeltaPro',\n",
       " u'Sales Manager / DeltaPro',\n",
       " u'Customer Support Manager / Triosoft',\n",
       " u'Software Product Manager / Sgames',\n",
       " u'Web Content Manager / FXTM Armenia',\n",
       " u'IT Manager / Global Lending System']"
      ]
     },
     "execution_count": 64,
     "metadata": {},
     "output_type": "execute_result"
    }
   ],
   "source": [
    "for i in range(len(list_manager)):\n",
    "     list_manager[i]=list_manager[i][0]\n",
    "list_manager        \n",
    "    "
   ]
  },
  {
   "cell_type": "code",
   "execution_count": 65,
   "metadata": {
    "collapsed": false
   },
   "outputs": [
    {
     "data": {
      "text/plain": [
       "175"
      ]
     },
     "execution_count": 65,
     "metadata": {},
     "output_type": "execute_result"
    }
   ],
   "source": [
    "len(even)"
   ]
  },
  {
   "cell_type": "code",
   "execution_count": 66,
   "metadata": {
    "collapsed": false
   },
   "outputs": [
    {
     "data": {
      "text/plain": [
       "32"
      ]
     },
     "execution_count": 66,
     "metadata": {},
     "output_type": "execute_result"
    }
   ],
   "source": [
    "len(list_manager)"
   ]
  },
  {
   "cell_type": "code",
   "execution_count": 68,
   "metadata": {
    "collapsed": true
   },
   "outputs": [],
   "source": [
    "list_marketing=[]\n",
    "for i in even:\n",
    "    marketing=re.findall('.*\\s*(?:M|m)arketing\\s*.*',i)\n",
    "    if len(marketing)==1:\n",
    "        list_marketing.append(marketing)\n",
    "       "
   ]
  },
  {
   "cell_type": "code",
   "execution_count": 69,
   "metadata": {
    "collapsed": false
   },
   "outputs": [
    {
     "data": {
      "text/plain": [
       "[u'Digital and Social Marketing Specialist / Zip Couriers',\n",
       " u'Digital Marketing Specialist / Motion Time',\n",
       " u'IT Marketing Specialist / Zangi',\n",
       " u'Senior Marketing Manager / Bacon Product',\n",
       " u'Marketing Specialist / Reebok Sports Club Armenia',\n",
       " u'Digital Marketing Specialist / Digitec Media']"
      ]
     },
     "execution_count": 69,
     "metadata": {},
     "output_type": "execute_result"
    }
   ],
   "source": [
    "for i in range(len(list_marketing)):\n",
    "     list_marketing[i]=list_marketing[i][0]\n",
    "list_marketing        \n",
    "    "
   ]
  },
  {
   "cell_type": "code",
   "execution_count": 89,
   "metadata": {
    "collapsed": false
   },
   "outputs": [],
   "source": [
    "list_accountant=[]\n",
    "for i in even:\n",
    "    accountant=re.findall('.*\\s*(?:A|a)ccount\\s*.*',i)\n",
    "    if len(accountant)==1:\n",
    "        list_accountant.append(accountant)"
   ]
  },
  {
   "cell_type": "code",
   "execution_count": 90,
   "metadata": {
    "collapsed": false
   },
   "outputs": [
    {
     "data": {
      "text/plain": [
       "[u'Accountant / KPartners',\n",
       " u'Accountant / Golden Palace North Avenue',\n",
       " u'HR Key Account Manager / Cascade Consultants',\n",
       " u'Chinese Speaking Account Opening Specialist / FXTM Armenia',\n",
       " u'Chief Accountant / Erirus',\n",
       " u'Accountant / Cinemastar',\n",
       " u'Trainee/ Accountant / Easy Pay',\n",
       " u'Deputy Chief Accountant / Comfort R&amp;V',\n",
       " u'Chief Accountant / Tsiran Market',\n",
       " u'Accountant / Armenian Software']"
      ]
     },
     "execution_count": 90,
     "metadata": {},
     "output_type": "execute_result"
    }
   ],
   "source": [
    "for i in range(len(list_accountant)):\n",
    "     list_accountant[i]=list_accountant[i][0]\n",
    "list_accountant        \n",
    "    "
   ]
  },
  {
   "cell_type": "code",
   "execution_count": 91,
   "metadata": {
    "collapsed": true
   },
   "outputs": [],
   "source": [
    "list_audit=[]\n",
    "for i in even:\n",
    "    audit=re.findall('.*\\s*(?:A|a)udit\\s*.*',i)\n",
    "    if len(audit)==1:\n",
    "        list_audit.append(audit)"
   ]
  },
  {
   "cell_type": "code",
   "execution_count": 92,
   "metadata": {
    "collapsed": false
   },
   "outputs": [
    {
     "data": {
      "text/plain": [
       "[u'Head of Internal Audit Department / Bacon Product',\n",
       " u'Audit Assistant / Asatryans',\n",
       " u'Junior Internal Auditor / Haypost']"
      ]
     },
     "execution_count": 92,
     "metadata": {},
     "output_type": "execute_result"
    }
   ],
   "source": [
    "for i in range(len(list_audit)):\n",
    "     list_audit[i]=list_audit[i][0]\n",
    "list_audit        \n",
    "    "
   ]
  },
  {
   "cell_type": "code",
   "execution_count": 93,
   "metadata": {
    "collapsed": true
   },
   "outputs": [],
   "source": [
    "list_law=[]\n",
    "for i in even:\n",
    "    law=re.findall('.*\\s*(?:L|l)aw\\s*.*',i)\n",
    "    if len(law)==1:\n",
    "        list_law.append(law)"
   ]
  },
  {
   "cell_type": "code",
   "execution_count": 94,
   "metadata": {
    "collapsed": false
   },
   "outputs": [
    {
     "data": {
      "text/plain": [
       "[u'Senior Lawyer / Legelata',\n",
       " u'Lawyer / Concern-Dialog',\n",
       " u'Lawyer / Ares Law Firm',\n",
       " u'Lawyer / RA Ministry of Health  Centralized Procurement Organization and Coordination Working Group',\n",
       " u'Junior Lawyer / Teghout']"
      ]
     },
     "execution_count": 94,
     "metadata": {},
     "output_type": "execute_result"
    }
   ],
   "source": [
    "for i in range(len(list_law)):\n",
    "     list_law[i]=list_law[i][0]\n",
    "list_law"
   ]
  },
  {
   "cell_type": "code",
   "execution_count": 95,
   "metadata": {
    "collapsed": true
   },
   "outputs": [],
   "source": [
    "list_web=[]\n",
    "for i in even:\n",
    "    web=re.findall('.*\\s*(?:W|w)eb\\s*.*',i)\n",
    "    if len(web)==1:\n",
    "        list_web.append(web)"
   ]
  },
  {
   "cell_type": "code",
   "execution_count": 96,
   "metadata": {
    "collapsed": false
   },
   "outputs": [
    {
     "data": {
      "text/plain": [
       "[u'Junior Web and Mobile QA Analyst / Questrade-Armenia',\n",
       " u'Project Manager / Webb Fontaine Holding',\n",
       " u'Web Developer / CargoMatrix',\n",
       " u'Web Developer / Prometey Bank',\n",
       " u'Web Content Manager / FXTM Armenia']"
      ]
     },
     "execution_count": 96,
     "metadata": {},
     "output_type": "execute_result"
    }
   ],
   "source": [
    "for i in range(len(list_web)):\n",
    "     list_web[i]=list_web[i][0]\n",
    "list_web"
   ]
  },
  {
   "cell_type": "code",
   "execution_count": 97,
   "metadata": {
    "collapsed": true
   },
   "outputs": [],
   "source": [
    "list_eng=[]\n",
    "for i in even:\n",
    "    eng=re.findall('.*\\s*(?:E|e)ngineer\\s*.*',i)\n",
    "    if len(eng)==1:\n",
    "        list_eng.append(eng)"
   ]
  },
  {
   "cell_type": "code",
   "execution_count": 98,
   "metadata": {
    "collapsed": false
   },
   "outputs": [
    {
     "data": {
      "text/plain": [
       "[u'Mobile Core Network Engineer / Ucom',\n",
       " u'Construction Engineer / HAEKSHIN',\n",
       " u'Back-End Software Engineer / Aarki',\n",
       " u'Data Engineer / Aarki',\n",
       " u'Chief Mechanical Engineer / Lydian Armenia',\n",
       " u'Service Support Engineer / Ucom',\n",
       " u'Senior DevOps Engineer / Renderforest',\n",
       " u'Software Engineer / Ezhome, Inc.',\n",
       " u'IT Reporting Engineer / Ucom',\n",
       " u'.NET Engineer / Questrade-Armenia',\n",
       " u'Senior .NET Engineer / Questrade-Armenia',\n",
       " u'Senior QA Automation Engineer / Benivo',\n",
       " u'Measurement Engineer / DeltaPro',\n",
       " u'Mechanical Engineer / Imex Group',\n",
       " u'Manual QA Engineer / Praemium RA',\n",
       " u'Technical Support Engineer / EpygiArm']"
      ]
     },
     "execution_count": 98,
     "metadata": {},
     "output_type": "execute_result"
    }
   ],
   "source": [
    "for i in range(len(list_eng)):\n",
    "     list_eng[i]=list_eng[i][0]\n",
    "list_eng"
   ]
  },
  {
   "cell_type": "code",
   "execution_count": 102,
   "metadata": {
    "collapsed": false
   },
   "outputs": [],
   "source": [
    "list_teach=[]\n",
    "for i in even:\n",
    "    teach=re.findall('.*\\s*(?:T|t)eacher|(?:C|c)oach\\s*.*',i)\n",
    "    if len(teach)==1:\n",
    "        list_teach.append(teach)"
   ]
  },
  {
   "cell_type": "code",
   "execution_count": 103,
   "metadata": {
    "collapsed": false
   },
   "outputs": [
    {
     "data": {
      "text/plain": [
       "[u'Mathematics Teacher',\n",
       " u'Math Teacher',\n",
       " u'Coach in Gyumri / Tumo Center for Creative Technologies',\n",
       " u'Coach in Yerevan / Tumo Center for Creative Technologies']"
      ]
     },
     "execution_count": 103,
     "metadata": {},
     "output_type": "execute_result"
    }
   ],
   "source": [
    "for i in range(len(list_teach)):\n",
    "     list_teach[i]=list_teach[i][0]\n",
    "list_teach"
   ]
  },
  {
   "cell_type": "code",
   "execution_count": 129,
   "metadata": {
    "collapsed": true
   },
   "outputs": [],
   "source": [
    "list_econ=[]\n",
    "for i in even:\n",
    "    econ=re.findall('.*\\s*(?:A|a)udit|(?:A|a)ccount[a-z]*|(?:M|m)arketing|(?:F|f)inanc[a-z]|(?:M|m)anager*\\s*.*',i)\n",
    "    if len(econ)==1:\n",
    "        list_econ.append(econ)"
   ]
  },
  {
   "cell_type": "code",
   "execution_count": 130,
   "metadata": {
    "collapsed": false
   },
   "outputs": [
    {
     "data": {
      "text/plain": [
       "[u'Manager / Lydian Armenia',\n",
       " u'Manager / Go Nature',\n",
       " u'Management Unit / Ardshinbank',\n",
       " u'Marketing',\n",
       " u'Accountant',\n",
       " u'Manager / Zigzag',\n",
       " u'Manager / Motion Time',\n",
       " u'Marketing',\n",
       " u'Financi',\n",
       " u'Marketing',\n",
       " u'Finance',\n",
       " u'Manager / Webb Fontaine Holding',\n",
       " u'Manager / World Vision Armenia',\n",
       " u'Head of Internal Audit',\n",
       " u'Manager / Ameriabank',\n",
       " u'Manager / Ameriabank',\n",
       " u'Accountant',\n",
       " u'Manager / Golden Palace North Avenue',\n",
       " u'Manager / TelecoDays',\n",
       " u'Manager, General Directorate / ArmenTel',\n",
       " u'Manager Impact Venture Accelerator / UNDP Armenia Office',\n",
       " u'Manager, Information and Communication Technologies Department / Central Bank of Armenia',\n",
       " u'Financi',\n",
       " u'Manager / Baldi Retail',\n",
       " u'Manager / ArmenTel',\n",
       " u'Manager / ArmenTel',\n",
       " u'Management and Business Control Specialist  / ArmenTel',\n",
       " u'Management and Revenue Assurance Division / ArmenTel',\n",
       " u'Account',\n",
       " u'Manager / Dexatel',\n",
       " u'Accountant',\n",
       " u'Manager / Sidon Travel and Tourism',\n",
       " u'Manager / Multi Grand Hotel',\n",
       " u'Manager / Lesona',\n",
       " u'Manager / Lesona',\n",
       " u'Accountant',\n",
       " u'Manager / Dexatel',\n",
       " u'Manager / Jermuk International Pepsi-Cola Bottler',\n",
       " u'Manager / Baldi Retail',\n",
       " u'Accountant',\n",
       " u'Manager / DeltaPro',\n",
       " u'Manager / DeltaPro',\n",
       " u'Accountant',\n",
       " u'Manager / Triosoft',\n",
       " u'Marketing',\n",
       " u'Manager / Sgames',\n",
       " u'Marketing',\n",
       " u'Manager / FXTM Armenia',\n",
       " u'Audit',\n",
       " u'Manager / Global Lending System',\n",
       " u'Accountant',\n",
       " u'Accountant',\n",
       " u'Junior Internal Audit']"
      ]
     },
     "execution_count": 130,
     "metadata": {},
     "output_type": "execute_result"
    }
   ],
   "source": [
    "for i in range(len(list_econ)):\n",
    "     list_econ[i]=list_econ[i][0]\n",
    "list_econ"
   ]
  },
  {
   "cell_type": "code",
   "execution_count": 131,
   "metadata": {
    "collapsed": false
   },
   "outputs": [
    {
     "data": {
      "text/plain": [
       "53"
      ]
     },
     "execution_count": 131,
     "metadata": {},
     "output_type": "execute_result"
    }
   ],
   "source": [
    "len(list_econ)"
   ]
  },
  {
   "cell_type": "code",
   "execution_count": 132,
   "metadata": {
    "collapsed": false
   },
   "outputs": [
    {
     "data": {
      "text/plain": [
       "175"
      ]
     },
     "execution_count": 132,
     "metadata": {},
     "output_type": "execute_result"
    }
   ],
   "source": [
    "len(even)"
   ]
  },
  {
   "cell_type": "code",
   "execution_count": 133,
   "metadata": {
    "collapsed": false
   },
   "outputs": [],
   "source": [
    "ec_perc=float(len(list_econ))/float(len(even))*100"
   ]
  },
  {
   "cell_type": "code",
   "execution_count": 134,
   "metadata": {
    "collapsed": false
   },
   "outputs": [
    {
     "data": {
      "text/plain": [
       "30.28571428571429"
      ]
     },
     "execution_count": 134,
     "metadata": {},
     "output_type": "execute_result"
    }
   ],
   "source": [
    "ec_perc"
   ]
  },
  {
   "cell_type": "code",
   "execution_count": 125,
   "metadata": {
    "collapsed": true
   },
   "outputs": [],
   "source": [
    "list_data=[]\n",
    "for i in even:\n",
    "    data=re.findall('.*\\s*(?:D|d)ata\\s*.*',i)\n",
    "    if len(data)==1:\n",
    "        list_data.append(data)"
   ]
  },
  {
   "cell_type": "code",
   "execution_count": 126,
   "metadata": {
    "collapsed": false
   },
   "outputs": [
    {
     "data": {
      "text/plain": [
       "[u'Unix and Database Administrator / FXTM Armenia',\n",
       " u'Data Engineer / Aarki',\n",
       " u'Data Analyst / Varks.am']"
      ]
     },
     "execution_count": 126,
     "metadata": {},
     "output_type": "execute_result"
    }
   ],
   "source": [
    "for i in range(len(list_data)):\n",
    "     list_data[i]=list_data[i][0]\n",
    "list_data"
   ]
  },
  {
   "cell_type": "code",
   "execution_count": 135,
   "metadata": {
    "collapsed": true
   },
   "outputs": [],
   "source": [
    "list_prog=[]\n",
    "for i in even:\n",
    "    prog=re.findall('.*\\s*(?:W|w)eb|(?:S|s)oftware|(?:J|j)ava|(?:I|i)OS|PHP\\s*.*',i)\n",
    "    if len(prog)==1:\n",
    "        list_prog.append(prog)"
   ]
  },
  {
   "cell_type": "code",
   "execution_count": 136,
   "metadata": {
    "collapsed": false
   },
   "outputs": [
    {
     "data": {
      "text/plain": [
       "[u'Java',\n",
       " u'Junior Web',\n",
       " u'Project Manager / Web',\n",
       " u'PHP Developer / Citymobil',\n",
       " u'Java',\n",
       " u'Java',\n",
       " u'Web',\n",
       " u'Software',\n",
       " u'PHP Developer / Baldi Retail',\n",
       " u'iOS',\n",
       " u'PHP Developer / e-Works',\n",
       " u'Software',\n",
       " u'Java',\n",
       " u'Java',\n",
       " u'iOS',\n",
       " u'Web',\n",
       " u'Software',\n",
       " u'PHP Developer / M&amp;M Media',\n",
       " u'Software',\n",
       " u'Web',\n",
       " u'Software']"
      ]
     },
     "execution_count": 136,
     "metadata": {},
     "output_type": "execute_result"
    }
   ],
   "source": [
    "for i in range(len(list_prog)):\n",
    "     list_prog[i]=list_prog[i][0]\n",
    "list_prog"
   ]
  },
  {
   "cell_type": "code",
   "execution_count": 137,
   "metadata": {
    "collapsed": true
   },
   "outputs": [],
   "source": [
    "list_it=[]\n",
    "for i in even:\n",
    "    it=re.findall('.*\\s*(?:D|d)eveloper|IT\\s*.*',i)\n",
    "    if len(it)==1:\n",
    "        list_it.append(it)"
   ]
  },
  {
   "cell_type": "code",
   "execution_count": 138,
   "metadata": {
    "collapsed": false
   },
   "outputs": [
    {
     "data": {
      "text/plain": [
       "[u'ITIES',\n",
       " u'IT Business Developer',\n",
       " u'JavaScript Developer',\n",
       " u'IT Marketing Specialist / Zangi',\n",
       " u'Full Stack PHP Developer',\n",
       " u'Senior JavaScript Developer',\n",
       " u'IT Department / Converse Bank',\n",
       " u'Java Developer',\n",
       " u'Web Developer',\n",
       " u'PHP Developer',\n",
       " u'Senior .NET Developer',\n",
       " u'iOS Developer',\n",
       " u'PHP Developer',\n",
       " u'Senior React.js Developer',\n",
       " u'IT Reporting Engineer / Ucom',\n",
       " u'JavaScript Developer',\n",
       " u'Java Developer',\n",
       " u'Senior Front-End Developer',\n",
       " u'iOS Developer',\n",
       " u'Web Developer',\n",
       " u'C# Software Developer',\n",
       " u'.NET Developer',\n",
       " u'PHP Developer',\n",
       " u'Backend Developer',\n",
       " u'IT Manager / Global Lending System',\n",
       " u'Full Stack .NET Developer']"
      ]
     },
     "execution_count": 138,
     "metadata": {},
     "output_type": "execute_result"
    }
   ],
   "source": [
    "for i in range(len(list_it)):\n",
    "     list_it[i]=list_it[i][0]\n",
    "list_it"
   ]
  },
  {
   "cell_type": "code",
   "execution_count": 139,
   "metadata": {
    "collapsed": false
   },
   "outputs": [
    {
     "data": {
      "text/plain": [
       "26"
      ]
     },
     "execution_count": 139,
     "metadata": {},
     "output_type": "execute_result"
    }
   ],
   "source": [
    "len(list_it)"
   ]
  },
  {
   "cell_type": "code",
   "execution_count": 140,
   "metadata": {
    "collapsed": false
   },
   "outputs": [
    {
     "data": {
      "text/plain": [
       "21"
      ]
     },
     "execution_count": 140,
     "metadata": {},
     "output_type": "execute_result"
    }
   ],
   "source": [
    "len(list_prog)"
   ]
  },
  {
   "cell_type": "code",
   "execution_count": null,
   "metadata": {
    "collapsed": true
   },
   "outputs": [],
   "source": []
  }
 ],
 "metadata": {
  "kernelspec": {
   "display_name": "Python 2",
   "language": "python",
   "name": "python2"
  },
  "language_info": {
   "codemirror_mode": {
    "name": "ipython",
    "version": 2
   },
   "file_extension": ".py",
   "mimetype": "text/x-python",
   "name": "python",
   "nbconvert_exporter": "python",
   "pygments_lexer": "ipython2",
   "version": "2.7.13"
  }
 },
 "nbformat": 4,
 "nbformat_minor": 2
}
